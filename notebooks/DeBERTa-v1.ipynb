{
 "cells": [
  {
   "cell_type": "markdown",
   "id": "0bb14715",
   "metadata": {},
   "source": [
    "# General context"
   ]
  },
  {
   "cell_type": "markdown",
   "id": "67538f74",
   "metadata": {},
   "source": [
    "Explanation of what to be done"
   ]
  },
  {
   "cell_type": "markdown",
   "id": "cc5257cefe115184",
   "metadata": {
    "collapsed": false
   },
   "source": [
    "# Inclusion and global variables"
   ]
  },
  {
   "cell_type": "code",
   "execution_count": 1,
   "id": "initial_id",
   "metadata": {
    "ExecuteTime": {
     "end_time": "2024-05-06T12:10:14.161768900Z",
     "start_time": "2024-05-06T12:10:12.341684600Z"
    },
    "collapsed": true
   },
   "outputs": [],
   "source": [
    "import os\n",
    "import math\n",
    "from dataclasses import dataclass, field\n",
    "from pathlib import Path\n",
    "\n",
    "import matplotlib.pyplot as plt\n",
    "import matplotlib as mpl\n",
    "import seaborn as sns\n",
    "\n",
    "import numpy as np\n",
    "import pandas as pd\n",
    "\n",
    "import torch\n",
    "import torch.nn as nn\n",
    "from torch.optim import AdamW\n",
    "from torch.utils.data import (\n",
    "    DataLoader,\n",
    "    Dataset\n",
    ")\n",
    "\n",
    "from sklearn.model_selection import train_test_split\n",
    "import polars as pl\n",
    "\n",
    "import transformers\n",
    "from transformers import (\n",
    "    AutoTokenizer,\n",
    "    AutoModelForSequenceClassification,\n",
    "    AutoConfig,\n",
    "    AutoModel,\n",
    "    DataCollatorWithPadding,\n",
    ")\n",
    "import datasets\n",
    "from peft import LoraConfig # type: ignore\n",
    "\n",
    "from sklearn.utils.estimator_checks import check_estimator\n",
    "from sklearn.base import (\n",
    "    BaseEstimator,\n",
    "    ClassifierMixin,\n",
    ")\n",
    "# import keras_nlp\n",
    "# import keras\n",
    "# import keras.backend as K"
   ]
  },
  {
   "cell_type": "markdown",
   "id": "ff2ff4c0",
   "metadata": {},
   "source": [
    "## Set and define global configuration"
   ]
  },
  {
   "cell_type": "code",
   "execution_count": 2,
   "id": "b7f1542f",
   "metadata": {},
   "outputs": [],
   "source": [
    "DATABRICKS_STR  = \"DATABRICKS\"\n",
    "KAGGLE_STR      = \"KAGGLE\"\n",
    "LOCAL_STR       = \"LOCAL\"\n",
    "MATPLOTBLUE     = \"#1f77b4\"\n",
    "SEED            = 1010\n",
    "DEVICE          = \"cuda\" if torch.cuda.is_available() else \"cpu\"\n",
    "DEBERTA_V3_CKPT = \"microsoft/deberta-v3-base\"\n",
    "NUM_LABELS      = 5\n",
    "\n",
    "@dataclass(frozen=True)\n",
    "class ConfigurationSetting:\n",
    "    name: str\n",
    "    model_ckpt: str\n",
    "    num_labels: int\n",
    "    n_worker: int\n",
    "    plot_color: str\n",
    "    seed: int\n",
    "    data_path: Path|None\n",
    "    device: str\n",
    "    torch_device:torch.device = field(init=False)\n",
    "    \n",
    "    def __post_init__(self):\n",
    "        object.__setattr__(self, \"torch_device\", torch.device(self.device))\n",
    "\n",
    "def configuration_builder(\n",
    "    model_ckpt = \"google-bert/bert-base-uncased\",\n",
    "    plot_color=\"#FFFFFF\",\n",
    "    seed=1010,\n",
    "    device=None\n",
    ") -> ConfigurationSetting:\n",
    "    if os.getenv(\"DATABRICKS_RUNTIME_VERSION\"):\n",
    "        environment_name = DATABRICKS_STR\n",
    "        n_worker=8\n",
    "        data_path = None\n",
    "    elif os.getenv(\"KAGGLE_KERNEL_RUN_TYPE\"):\n",
    "        environment_name = KAGGLE_STR\n",
    "        n_worker = 2\n",
    "        data_path = None\n",
    "    else:\n",
    "        environment_name = LOCAL_STR\n",
    "        n_worker = math.floor(os.cpu_count() * 3/8) # type: ignore\n",
    "        data_path = Path(\"../data\")\n",
    "    return ConfigurationSetting(\n",
    "        name=environment_name,\n",
    "        model_ckpt=model_ckpt,\n",
    "        num_labels=5,\n",
    "        n_worker=n_worker,\n",
    "        plot_color=plot_color,\n",
    "        seed=seed,\n",
    "        data_path=data_path,\n",
    "        device=\"cpu\" if device is None else device\n",
    "    )\n",
    "\n",
    "configuration_item = configuration_builder(\n",
    "    model_ckpt=DEBERTA_V3_CKPT,\n",
    "    plot_color=MATPLOTBLUE,\n",
    "    seed=SEED,\n",
    "    device=DEVICE\n",
    ")"
   ]
  },
  {
   "cell_type": "markdown",
   "id": "4439d3ec8bd58b88",
   "metadata": {
    "collapsed": false
   },
   "source": [
    "# Load the data"
   ]
  },
  {
   "cell_type": "code",
   "execution_count": 5,
   "id": "770150745d0d0f43",
   "metadata": {
    "ExecuteTime": {
     "end_time": "2024-05-06T12:14:05.457897Z",
     "start_time": "2024-05-06T12:14:04.306528900Z"
    },
    "collapsed": false
   },
   "outputs": [],
   "source": [
    "if not configuration_item.data_path:\n",
    "    raise ValueError\n",
    "\n",
    "train_ds = pd.read_csv(\n",
    "    filepath_or_buffer=configuration_item.data_path / \"train.csv\"\n",
    ")\n",
    "\n",
    "# Keep small for local investigation\n",
    "if configuration_item.name == LOCAL_STR:\n",
    "    train_ds, _ = train_test_split(\n",
    "        train_ds, \n",
    "        test_size=.99, \n",
    "        random_state=configuration_item.seed, \n",
    "        stratify=train_ds[\"score\"]\n",
    "    )"
   ]
  },
  {
   "cell_type": "markdown",
   "id": "1ca6e6ed4a6c0206",
   "metadata": {
    "collapsed": false
   },
   "source": [
    "# Exploratory Data Analysis"
   ]
  },
  {
   "cell_type": "markdown",
   "id": "85e22d619d64bfe",
   "metadata": {
    "collapsed": false
   },
   "source": [
    "## What about the scores ?"
   ]
  },
  {
   "cell_type": "code",
   "execution_count": 4,
   "id": "34f9c7762884ac82",
   "metadata": {
    "collapsed": false
   },
   "outputs": [
    {
     "data": {
      "image/png": "[encoded data removed]",
      "text/plain": [
       "<Figure size 640x480 with 1 Axes>"
      ]
     },
     "metadata": {},
     "output_type": "display_data"
    }
   ],
   "source": [
    "score_count = (\n",
    "    train_ds[\"score\"]\n",
    "    .value_counts(normalize=True)\n",
    "    .rename_axis(\"score\")\n",
    "    .reset_index(name=\"proportion\")\n",
    ")\n",
    "# score_ordered = score_count.score.tolist()\n",
    "# score_ordered.sort()\n",
    "ax = sns.barplot(\n",
    "    x=\"score\",\n",
    "    y=\"proportion\",\n",
    "    data=score_count,\n",
    "    # order=score_ordered\n",
    "    color=MATPLOTBLUE\n",
    ")\n",
    "for p in ax.patches:\n",
    "    percentage = f\"{p.get_height()*100:.1f}\"\n",
    "    x = p.get_x() + p.get_width() / 2\n",
    "    y = p.get_height()\n",
    "    ax.text(x, y, percentage, ha=\"center\", va=\"bottom\")\n",
    "plt.title(\"Score distribution\")\n",
    "plt.xlabel(\"Score\")\n",
    "plt.ylabel(\"Proportion\")\n",
    "plt.show()\n",
    "del score_count"
   ]
  },
  {
   "cell_type": "markdown",
   "id": "5c85fdd60ea1e59d",
   "metadata": {
    "collapsed": false
   },
   "source": [
    "The dataset appears to have a distribution that is weighted towards less extreme scores, with a notable decline in the proportion of the highest values. This uneven distribution requires careful consideration during analytical modeling. Special techniques may be necessary to account for the imbalance and to ensure that the analysis is robust, particularly when predicting or interpreting the less represented extreme values."
   ]
  },
  {
   "cell_type": "markdown",
   "id": "5f86b69137e0177e",
   "metadata": {
    "collapsed": false
   },
   "source": [
    "## What about the text"
   ]
  },
  {
   "cell_type": "markdown",
   "id": "33988eb814cac6de",
   "metadata": {
    "collapsed": false
   },
   "source": [
    "Addressing the issue of sequence size in the context of natural language processing models such as Sentence-BERT is critical, given the model's token limit restrictions. The typical configuration for such models imposes a cap on the number of tokens that can be processed in a single pass, frequently set at 512 tokens. This constraint poses a significant challenge when attempting to encode longer texts, as it necessitates either the omission of content or the application of sophisticated strategies to manage longer sequences effectively. In scholarly discourse, this topic is particularly relevant as it underscores a limitation within state-of-the-art language models when confronted with lengthy documents. It opens up an area for methodological advancements and innovative techniques aimed at preserving the semantic richness of extensive texts without compromising the quality of the generated embeddings. Focusing on the sequence size involves exploring and refining these techniques, which may include partitioning the text into smaller, manageable units while ensuring minimal loss of contextual information. The implications of such methods are profound, impacting both the efficiency of computational processes and the fidelity of text interpretation, especially in domains where the precision of language is paramount. Let's observe the distribution of the text size."
   ]
  },
  {
   "cell_type": "code",
   "execution_count": 5,
   "id": "d302f954c9c199c5",
   "metadata": {
    "ExecuteTime": {
     "end_time": "2024-04-21T11:17:48.009685100Z",
     "start_time": "2024-04-21T11:17:47.406792200Z"
    },
    "collapsed": false
   },
   "outputs": [
    {
     "data": {
      "image/png": "[encoded data removed]",
      "text/plain": [
       "<Figure size 640x480 with 1 Axes>"
      ]
     },
     "metadata": {},
     "output_type": "display_data"
    }
   ],
   "source": [
    "full_text_size = train_ds.full_text.map(lambda x: len(x.split()))\n",
    "sns.histplot(full_text_size)\n",
    "plt.xlabel(\"Full Text Size\")\n",
    "plt.ylabel(\"Count\")\n",
    "plt.title(\"Distribution of text size\")\n",
    "plt.show()"
   ]
  },
  {
   "cell_type": "markdown",
   "id": "7f5136203d43023b",
   "metadata": {
    "collapsed": false
   },
   "source": [
    "The graph highlights a right-skewed distribution of text lengths in a dataset, with most texts falling between 200 to 400 units and a few significantly longer outliers. Multiple peaks suggest the presence of several preferred text lengths. Regarding a potential use of Sentence-BERT for modeling, while adept at producing semantically meaningful sentence embeddings, it may face challenges with these longer texts due to token limits causing memory and computational burdens, potential loss of context when texts are truncated, and inefficiencies in encoding lengthy sequences. This underscores the need for strategic text handling to ensure meaningful semantic encoding by Sentence-BERT, particularly for outlier texts that exceed typical length constraints. To circumvent these limitations, a methodology involving the segmentation of longer texts into individual sentences is proposed, thereby allowing Sentence-BERT to operate within its tokenization parameters while preserving the textual integrity. Such segmentation facilitates detailed semantic analysis of each sentence independently, with the subsequent synthesis of these analyses yielding a comprehensive understanding of the text's overarching semantic structure. Enhancing this segmentation approach, the introduction of overlap between consecutive text chunks is advocated. By ensuring that adjacent segments share a subset of sentences, this strategy aims to safeguard the continuity of information, particularly across segment boundaries. This overlapping ensures the retention of crucial context, which is paramount in the construction of a coherent narrative, particularly for extensive documents where interpretative nuances are intrinsically linked to the broader context."
   ]
  },
  {
   "cell_type": "markdown",
   "id": "993311807548427d",
   "metadata": {
    "collapsed": false
   },
   "source": [
    "# Data wrangling"
   ]
  },
  {
   "cell_type": "markdown",
   "id": "2f2457b8da78fb36",
   "metadata": {
    "collapsed": false
   },
   "source": [
    "## Turn the score label into ordinal"
   ]
  },
  {
   "cell_type": "markdown",
   "id": "b41b8239c1c4652f",
   "metadata": {
    "collapsed": false
   },
   "source": [
    "Ordinal regression, also known as ordinal logistic regression or rank regression, is used when the dependent variable (the outcome you're trying to predict) holds an intrinsic order, but the distances between the levels are not known. The classic examples include a Likert scale for surveys (e.g., \"strongly disagree,\" \"disagree,\" \"neutral,\" \"agree,\" \"strongly agree\"), grades (A, B, C, D, F), or in your case, essay scores. The key advantage of ordinal regression is its ability to handle dependent variables that are more nuanced than simple binary outcomes but don’t have the numeric spacing needed for linear regression. For instance, while we know that grade A is higher than grade B, we cannot say that it is exactly two points higher as we might with numerical scores. This is where ordinal regression comes in—it allows the modeling of the rank order of the dependent variable without making assumptions about the value of the intervals between levels. In the context of modeling essay scores, ordinal regression can predict the rank order of the essays' quality. It is particularly apt for this kind of task because it can learn from the order inherent in the scores without assuming equal spacing between score levels. This can result in more accurate models for ordered categorical data, as it respects the nature of the ranking involved. When using ordinal regression, we need to transform the target variable to reflect the ordinal nature. In a standard regression problem, the target is typically a single column of values. In ordinal regression, however, the target is often expanded into a matrix that represents the ranking order. This matrix enables the model to understand and predict not just whether one essay is better than another but the relative ranking across the spectrum of scores. To prepare for ordinal regression, your scores can be transformed into an ordinal matrix with a process known as “one-hot encoding” of the ranks. Here’s an example: if the possible scores are 1, 2, 3, 4, and 5, the score of 3 might be represented as [1, 1, 0, 0]. This shows that the essay meets the threshold for scores 1 and 2 but not for scores 4 and 5. This encoding allows the model to learn more nuanced thresholds for each rank level, which can be particularly useful when calculating loss during training and ultimately leads to a model that better understands the ordinal nature of the data."
   ]
  },
  {
   "cell_type": "code",
   "execution_count": 6,
   "id": "a53a08e031d5cc4",
   "metadata": {
    "ExecuteTime": {
     "end_time": "2024-04-21T10:11:22.675607300Z",
     "start_time": "2024-04-21T10:11:22.662738500Z"
    },
    "collapsed": false
   },
   "outputs": [],
   "source": [
    "def category_to_ordinal(category):\n",
    "    y = np.array(category, dtype=\"int\") \n",
    "    n = y.shape[0]\n",
    "    num_class = np.max(y) \n",
    "    range_values = np.tile(\n",
    "        np.expand_dims(np.arange(num_class), 0), \n",
    "        [n, 1]\n",
    "    ) \n",
    "    ordinal = np.zeros((n, num_class), dtype=\"int\") \n",
    "    ordinal[range_values < np.expand_dims(y, -1)] = 1 \n",
    "    return ordinal"
   ]
  },
  {
   "cell_type": "code",
   "execution_count": 7,
   "id": "052ba413",
   "metadata": {},
   "outputs": [],
   "source": [
    "train_ds[\"label\"] = category_to_ordinal(train_ds.score.values).tolist()"
   ]
  },
  {
   "cell_type": "code",
   "execution_count": 8,
   "id": "f2d91d6b",
   "metadata": {},
   "outputs": [
    {
     "data": {
      "text/html": [
       "<div>\n",
       "<style scoped>\n",
       "    .dataframe tbody tr th:only-of-type {\n",
       "        vertical-align: middle;\n",
       "    }\n",
       "\n",
       "    .dataframe tbody tr th {\n",
       "        vertical-align: top;\n",
       "    }\n",
       "\n",
       "    .dataframe thead th {\n",
       "        text-align: right;\n",
       "    }\n",
       "</style>\n",
       "<table border=\"1\" class=\"dataframe\">\n",
       "  <thead>\n",
       "    <tr style=\"text-align: right;\">\n",
       "      <th></th>\n",
       "      <th>essay_id</th>\n",
       "      <th>full_text</th>\n",
       "      <th>score</th>\n",
       "      <th>label</th>\n",
       "    </tr>\n",
       "  </thead>\n",
       "  <tbody>\n",
       "    <tr>\n",
       "      <th>0</th>\n",
       "      <td>000d118</td>\n",
       "      <td>Many people have car where they live. The thin...</td>\n",
       "      <td>3</td>\n",
       "      <td>[1, 1, 1, 0, 0, 0]</td>\n",
       "    </tr>\n",
       "    <tr>\n",
       "      <th>1</th>\n",
       "      <td>000fe60</td>\n",
       "      <td>I am a scientist at NASA that is discussing th...</td>\n",
       "      <td>3</td>\n",
       "      <td>[1, 1, 1, 0, 0, 0]</td>\n",
       "    </tr>\n",
       "    <tr>\n",
       "      <th>2</th>\n",
       "      <td>001ab80</td>\n",
       "      <td>People always wish they had the same technolog...</td>\n",
       "      <td>4</td>\n",
       "      <td>[1, 1, 1, 1, 0, 0]</td>\n",
       "    </tr>\n",
       "    <tr>\n",
       "      <th>3</th>\n",
       "      <td>001bdc0</td>\n",
       "      <td>We all heard about Venus, the planet without a...</td>\n",
       "      <td>4</td>\n",
       "      <td>[1, 1, 1, 1, 0, 0]</td>\n",
       "    </tr>\n",
       "    <tr>\n",
       "      <th>4</th>\n",
       "      <td>002ba53</td>\n",
       "      <td>Dear, State Senator\\n\\nThis is a letter to arg...</td>\n",
       "      <td>3</td>\n",
       "      <td>[1, 1, 1, 0, 0, 0]</td>\n",
       "    </tr>\n",
       "  </tbody>\n",
       "</table>\n",
       "</div>"
      ],
      "text/plain": [
       "  essay_id                                          full_text  score  \\\n",
       "0  000d118  Many people have car where they live. The thin...      3   \n",
       "1  000fe60  I am a scientist at NASA that is discussing th...      3   \n",
       "2  001ab80  People always wish they had the same technolog...      4   \n",
       "3  001bdc0  We all heard about Venus, the planet without a...      4   \n",
       "4  002ba53  Dear, State Senator\\n\\nThis is a letter to arg...      3   \n",
       "\n",
       "                label  \n",
       "0  [1, 1, 1, 0, 0, 0]  \n",
       "1  [1, 1, 1, 0, 0, 0]  \n",
       "2  [1, 1, 1, 1, 0, 0]  \n",
       "3  [1, 1, 1, 1, 0, 0]  \n",
       "4  [1, 1, 1, 0, 0, 0]  "
      ]
     },
     "metadata": {},
     "output_type": "display_data"
    }
   ],
   "source": [
    "display(train_ds.head())"
   ]
  },
  {
   "cell_type": "markdown",
   "id": "6af4f26e0912a01a",
   "metadata": {
    "collapsed": false
   },
   "source": [
    "## Create training / validation set"
   ]
  },
  {
   "cell_type": "code",
   "execution_count": 9,
   "id": "d5346266c61b8ee7",
   "metadata": {
    "ExecuteTime": {
     "end_time": "2024-04-21T10:22:32.926879Z",
     "start_time": "2024-04-21T10:22:32.901288600Z"
    },
    "collapsed": false
   },
   "outputs": [],
   "source": [
    "train_set, validation_set = train_test_split(\n",
    "    train_ds, \n",
    "    train_size=.7, \n",
    "    random_state=SEED, \n",
    "    stratify=train_ds.score\n",
    ")"
   ]
  },
  {
   "cell_type": "code",
   "execution_count": 14,
   "id": "2b795d92177a539e",
   "metadata": {
    "ExecuteTime": {
     "end_time": "2024-04-21T10:59:29.583325200Z",
     "start_time": "2024-04-21T10:59:29.379785500Z"
    },
    "collapsed": false
   },
   "outputs": [
    {
     "data": {
      "image/png": "[encoded data removed]",
      "text/plain": [
       "<Figure size 640x480 with 1 Axes>"
      ]
     },
     "metadata": {},
     "output_type": "display_data"
    }
   ],
   "source": [
    "train_set_tmp = train_set.copy()\n",
    "validation_set_tmp = validation_set.copy()\n",
    "\n",
    "train_set_tmp[\"type\"] = \"Training\"\n",
    "validation_set_tmp[\"type\"] = \"Validation\"\n",
    "# ingnore_index force the creation of a new index.\n",
    "combined_set = pd.concat(\n",
    "    [train_set_tmp, validation_set_tmp], \n",
    "    ignore_index=True\n",
    ")\n",
    "\n",
    "proportion = (\n",
    "    combined_set.groupby(\"type\")[\"score\"]\n",
    "    .value_counts(normalize=True)\n",
    "    .reset_index()\n",
    ")\n",
    "\n",
    "ax = sns.barplot(proportion, x=\"score\", y=\"proportion\", hue=\"type\")\n",
    "\n",
    "for p in ax.patches:\n",
    "    percentage = f\"{p.get_height()*100:.0f}%\" # type: ignore\n",
    "    x = p.get_x() + p.get_width() / 2 # type: ignore\n",
    "    y = p.get_height() # type: ignore\n",
    "    ax.text(x, y, percentage, ha=\"center\", va=\"bottom\")\n",
    "\n",
    "plt.title(\"Comparative Distribution of Scores Proportion in Training and Validation Sets\")\n",
    "plt.xlabel(\"Scores\")\n",
    "plt.ylabel(\"Proportion\")\n",
    "plt.show()\n",
    "\n",
    "del(train_set_tmp)\n",
    "del(validation_set_tmp)"
   ]
  },
  {
   "cell_type": "markdown",
   "id": "fb0c45a3991dbd12",
   "metadata": {
    "collapsed": false
   },
   "source": [
    "The provided plot presents a grouped bar chart depicting the distribution of scores within two distinct datasets: Training and Validation. Each score category from 1 to 6 is represented by a pair of bars—one for the Training set (in blue) and one for the Validation set (in orange). The stratification ensures that the proportion of scores in each score category is consistent across both training and validation sets. This consistency is critical when developing a model for ordinal regression, as it allows the model to learn from a training set that mirrors the real-world or expected distribution of scores. Consequently, when the model is validated, the validation set similarly reflects this distribution, allowing for an accurate assessment of the model's performance. From the visual comparison of the bar heights, it is evident that each score's representation in the training set closely matches its representation in the validation set."
   ]
  },
  {
   "cell_type": "code",
   "execution_count": 11,
   "id": "a93e937d",
   "metadata": {},
   "outputs": [],
   "source": [
    "type(validation_set)\n",
    "data_dict = datasets.DatasetDict({\n",
    "    \"training\": datasets.Dataset.from_pandas(df=train_set),\n",
    "    \"validation\": datasets.Dataset.from_pandas(df=validation_set)\n",
    "})"
   ]
  },
  {
   "cell_type": "markdown",
   "id": "6b90ca7f9bb82538",
   "metadata": {
    "collapsed": false
   },
   "source": [
    "# Modeling usin DeBERTa"
   ]
  },
  {
   "cell_type": "markdown",
   "id": "ab0b591b0e26c080",
   "metadata": {
    "collapsed": false
   },
   "source": [
    "The development of Bidirectional Encoder Representations from Transformers (BERT, [Delvin et al., 2018](https://arxiv.org/abs/1810.04805)) marked a significant advancement in natural language processing by introducing bidirectional training of Transformer models. This was a departure from previous unidirectional models and utilized strategies such as masked language modeling and next sentence prediction. Subsequent derivatives include Robustly Optimized BERT Pretraining Approach (RoBERTa, [Liu et al., 2019](https://arxiv.org/abs/1907.11692)), which optimized BERT by eliminating the next sentence prediction requirement and adjusting training conditions. DistilBERT ([Sanh et al., 2019](https://arxiv.org/abs/1910.01108)) offered a streamlined version retaining 95% of BERT's performance but with reduced size and enhanced speed through knowledge distillation ([Hinton, Vinyals and Dean, 2015](https://arxiv.org/abs/1503.02531)). Google Research introduced A Lite BERT (ALBERT, [Lan et al., 2019](https://arxiv.org/abs/1909.11942)), which minimized memory usage and complexity, improve parameter efficiency and accelerated training by implementing techniques like factorized embedding parameterization and cross-layer parameter sharing. Lastly, Decoding-enhanced BERT with Disentangled Attention (DeBERTa), developed by Microsoft Research and detailed by He et al. in 2020, enhanced the understanding of context and position in language models. ([He et al., 2020](https://arxiv.org/abs/2006.03654))\n",
    "\n",
    "Indeed, DeBERTa has evolved through several versions, each introducing significant advancements over its predecessors in the realm of natural language processing. The original version, DeBERTa V1 ([He et al., 2020](https://arxiv.org/abs/2006.03654)), introduced a disentangled attention mechanism that separately processes content and positional information, enabling a more nuanced understanding of word contexts. It also featured an enhanced mask decoder that improved syntax and semantic analysis by predicting both masked tokens and their relative positions. Building on V1, [DeBERTa V2](https://huggingface.co/docs/transformers/v4.40.0/model_doc/deberta-v2) incorporated more advanced training techniques and introduced an XXL model size, which substantially boosted performance across various NLP benchmarks. The latest iteration, DeBERTa V3 ([He et al., 2021](https://arxiv.org/abs/2111.09543)), further refined these capabilities by adopting ELECTRA-style pre-training, which enhances efficiency by training the model to differentiate between correct and incorrect token replacements."
   ]
  },
  {
   "cell_type": "markdown",
   "id": "f0e56539aeb82dd0",
   "metadata": {
    "collapsed": false
   },
   "source": [
    "**One way forward**: [BitFit: Simple Parameter-efficient Fine-tuning for Transformer-based Masked Language-models](https://arxiv.org/abs/2106.10199)\n",
    "\n",
    "The paper \"BitFit: Simple Parameter-efficient Fine-tuning for Transformer-based Masked Language-models\" presents a novel fine-tuning method for large transformer models, such as BERT and its variants, which optimizes a minimal subset of parameters—specifically the bias terms—while keeping the rest unchanged. This method leverages the finding that updating just the bias parameters can achieve performance comparable to, or sometimes surpassing, that of full model fine-tuning, particularly in situations with limited computational resources or sparse training data. BitFit's approach is highly efficient as it targets only a small fraction of the total model parameters, enhancing its utility in resource-constrained settings. Additionally, its simplicity accelerates training and adaptation, making it ideal for rapid deployment and frequent updates. Importantly, by freezing most of the parameters, BitFit preserves the general knowledge acquired during pre-training, thereby avoiding overfitting on specific fine-tuning datasets and allowing for effective adaptation to new tasks or minor domain shifts without extensive retraining."
   ]
  },
  {
   "cell_type": "markdown",
   "id": "577c2f9b",
   "metadata": {},
   "source": [
    "In this section, we modelize using DeBERTa as checkpoint. (+ context M&M)"
   ]
  },
  {
   "cell_type": "markdown",
   "id": "3048aff01f18fa8b",
   "metadata": {
    "collapsed": false
   },
   "source": [
    "## Tokenize the text"
   ]
  },
  {
   "cell_type": "markdown",
   "id": "a2de141f8d378a06",
   "metadata": {
    "collapsed": false
   },
   "source": [
    "Tokenization is a fundamental process in natural language processing (NLP) where text is segmented into smaller units known as tokens. These tokens may be individual words, characters, or subwords. This segmentation is akin to parsing a sentence into its constituent words or decomposing a word into syllables. "
   ]
  },
  {
   "cell_type": "code",
   "execution_count": 12,
   "id": "3592f1bd",
   "metadata": {},
   "outputs": [
    {
     "name": "stderr",
     "output_type": "stream",
     "text": [
      "c:\\Users\\tddnth\\workspace\\kaggle\\competitions\\learning-agency-lab-automated-essay-scoring-2\\.venv\\Lib\\site-packages\\huggingface_hub\\file_download.py:1132: FutureWarning: `resume_download` is deprecated and will be removed in version 1.0.0. Downloads always resume when possible. If you want to force a new download, use `force_download=True`.\n",
      "  warnings.warn(\n",
      "c:\\Users\\tddnth\\workspace\\kaggle\\competitions\\learning-agency-lab-automated-essay-scoring-2\\.venv\\Lib\\site-packages\\transformers\\convert_slow_tokenizer.py:560: UserWarning: The sentencepiece tokenizer that you are converting to a fast tokenizer uses the byte fallback option which is not implemented in the fast tokenizers. In practice this means that the fast version of the tokenizer can produce unknown tokens whereas the sentencepiece version would have converted these unknown tokens into a sequence of byte tokens matching the original piece of text.\n",
      "  warnings.warn(\n",
      "Some weights of DebertaV2ForSequenceClassification were not initialized from the model checkpoint at microsoft/deberta-v3-base and are newly initialized: ['classifier.bias', 'classifier.weight', 'pooler.dense.bias', 'pooler.dense.weight']\n",
      "You should probably TRAIN this model on a down-stream task to be able to use it for predictions and inference.\n"
     ]
    }
   ],
   "source": [
    "deberta_v3_tokenizer = AutoTokenizer.from_pretrained(\n",
    "    configuration_item.model_ckpt\n",
    ")\n",
    "deberta_v3_mdl = AutoModelForSequenceClassification.from_pretrained(\n",
    "    configuration_item.model_ckpt\n",
    " )"
   ]
  },
  {
   "cell_type": "code",
   "execution_count": 27,
   "id": "06376701",
   "metadata": {},
   "outputs": [
    {
     "data": {
      "application/vnd.jupyter.widget-view+json": {
       "model_id": "28f38a405ccf41d7afb0a276567eaef7",
       "version_major": 2,
       "version_minor": 0
      },
      "text/plain": [
       "Map:   0%|          | 0/12114 [00:00<?, ? examples/s]"
      ]
     },
     "metadata": {},
     "output_type": "display_data"
    },
    {
     "data": {
      "application/vnd.jupyter.widget-view+json": {
       "model_id": "307ae1dc153e4c80b9218b8e981f18a9",
       "version_major": 2,
       "version_minor": 0
      },
      "text/plain": [
       "Map:   0%|          | 0/5193 [00:00<?, ? examples/s]"
      ]
     },
     "metadata": {},
     "output_type": "display_data"
    }
   ],
   "source": [
    "def encode(batch, tokenizer):\n",
    "    return tokenizer(\n",
    "        batch[\"full_text\"], \n",
    "        padding=True,\n",
    "        return_tensors=\"pt\"\n",
    "    )\n",
    "data_dict = data_dict.map(\n",
    "    encode,\n",
    "    batched=True,\n",
    "    batch_size=500,\n",
    "    fn_kwargs={\"tokenizer\": deberta_v3_tokenizer}\n",
    ")\n",
    "data_collator = DataCollatorWithPadding(\n",
    "    tokenizer=deberta_v3_tokenizer,\n",
    "    return_tensors=\"pt\"\n",
    ")\n",
    "\n",
    "training_dataloader, validation_dataloader = tuple(\n",
    "    DataLoader(d, batch_size=64, shuffle=True)  # type: ignore\n",
    "    for d in data_dict.items()\n",
    ")"
   ]
  },
  {
   "cell_type": "markdown",
   "id": "9baec9ee72b00ff7",
   "metadata": {
    "collapsed": false
   },
   "source": [
    "## Set the classifier"
   ]
  },
  {
   "cell_type": "markdown",
   "id": "e6bd5839",
   "metadata": {},
   "source": [
    "In this section, I outline the structural framework for our model, incorporating an innovative technique known as Low-Rank Adaptation (LoRA) as proposed by [Yu et al., 2023](https://arxiv.org/abs/2309.15223). LoRA is a method specifically designed to enhance the efficiency of fine-tuning large pre-trained models. This is achieved by reducing the number of trainable parameters, thereby simplifying the model adaptation process and decreasing the computational overhead. The key advantage of using LoRA lies in its ability to retain the performance of the original model while significantly cutting down on the resources required for fine-tuning. This is accomplished by introducing low-rank matrices that modify the existing weights of a pre-trained model rather than retraining all parameters. This selective updating allows us to maintain a balance between computational efficiency and model effectiveness. Implementing LoRA involves decomposing the parameter matrices into smaller, more manageable components, which are easier to optimize. This method not only speeds up the adaptation process but also reduces the memory footprint, making it feasible to fine-tune large models on more modest hardware setups."
   ]
  },
  {
   "cell_type": "code",
   "execution_count": 50,
   "id": "0ba8416f",
   "metadata": {},
   "outputs": [],
   "source": [
    "mdl = AutoModel.from_pretrained(configuration_item.model_ckpt)\n",
    "input_ids = data_dict[\"training\"][:1][\"input_ids\"]\n",
    "attention_mask = data_dict[\"training\"][:1][\"attention_mask\"]\n",
    "if not isinstance(input_ids, torch.Tensor):\n",
    "    input_ids = torch.tensor(input_ids, dtype=torch.long)\n",
    "    attention_mask = torch.tensor(attention_mask, dtype=torch.long)\n",
    "itchi = mdl(input_ids=input_ids, attention_mask=attention_mask)\n",
    "a=1"
   ]
  },
  {
   "cell_type": "code",
   "execution_count": 80,
   "id": "f3ce2c35",
   "metadata": {},
   "outputs": [],
   "source": [
    "from sklearn.base import BaseEstimator, ClassifierMixin\n",
    "\n",
    "class EncoderForOrdinalRegression(nn.Module):\n",
    "    \"\"\"\n",
    "    A neural network module designed for encoding purposes, \n",
    "    based on PyTorch's Module class.\n",
    "\n",
    "    Attributes:\n",
    "        * config (dict): Configuration dictionary containing parameters \n",
    "            for the encoder network.\n",
    "    \"\"\"\n",
    "    def __init__(self, config):\n",
    "        \"\"\"\n",
    "        Initialize the EncoderNetwork with the specified configuration.\n",
    "\n",
    "        Parameters:\n",
    "            config (dict): Configuration parameters for initializing the network. \n",
    "                See the class docstring for expected keys and values.\n",
    "        \"\"\"\n",
    "        super().__init__()\n",
    "        self.pretrained = AutoModel.from_pretrained(config.model_ckpt)\n",
    "        self.output_layer = nn.Linear(\n",
    "            self.pretrained.config.hidden_size,\n",
    "            config.num_labels\n",
    "        )\n",
    "\n",
    "    def forward(self, input_ids, attention_mask):\n",
    "        \"\"\"\n",
    "        Define the forward pass of the encoder network.\n",
    "\n",
    "        Parameters:\n",
    "            batch (tensor): Input data batch to be processed by the network.\n",
    "\n",
    "        Returns:\n",
    "            tensor: The output of the network after processing the input batch, \n",
    "                typically involving encoding and subsequent classification or \n",
    "                transformation depending on the network configuration.\n",
    "        \"\"\"\n",
    "        outputs = self.pretrained(\n",
    "            ## deberta forward method that overrides the __call__\n",
    "            ## https://huggingface.co/docs/transformers/v4.40.2/en/model_doc/deberta-v2#transformers.DebertaV2Model.forward\n",
    "            input_ids=input_ids,\n",
    "            attention_mask=attention_mask\n",
    "        )\n",
    "        logits = self.output_layer(\n",
    "            # Only keeping the [CLS] token\n",
    "            outputs.laset_hidden_state[:, 0, :]\n",
    "        )\n",
    "        probs = torch.sigmoid(logits)\n",
    "        return probs\n"
   ]
  },
  {
   "cell_type": "code",
   "execution_count": null,
   "id": "4200fe8f",
   "metadata": {},
   "outputs": [],
   "source": [
    "# The train function will be included inside the fit function of the Estimator class defined below\n",
    "\n",
    "def train_model(\n",
    "    model, \n",
    "    train_loader, \n",
    "    eval_loader, \n",
    "    optimizer, \n",
    "    config,\n",
    "    epochs=3\n",
    "):\n",
    "    for epoch in range(epochs):\n",
    "        model.train() # -> the model is turned into a \"trainig\" state.\n",
    "        total_loss = 0\n",
    "        for batch in train_loader:\n",
    "            batch = tuple(b.to(config.device) for b in batch)\n",
    "            inputs, attention_mask, labels = batch\n",
    "            optimizer.zero_grad()\n",
    "            outputs = model(\n",
    "                input_ids=input_ids, \n",
    "                attention_mask=attention_mask\n",
    "            )\n",
    "            # Binary Cross Entropy loss (https://pytorch.org/docs/stable/generated/torch.nn.BCELoss.html)\n",
    "            loss=nn.BCELoss()(outputs, labels.float())\n",
    "            loss.backward()\n",
    "            optimizer.step()\n",
    "            total_loss += loss.item()\n",
    "\n",
    "        print(f\"Epoch {epoch + 1}/{epochs}, Mean Loss: {total_loss / len(train_loader)}\")\n",
    "        model.eval() # -> Turn the model into a \"evalutation\" state.\n",
    "        with torch.no_grad():\n",
    "            eval_loss = 0\n",
    "            for batch in eval_loader:\n",
    "                batch = tuple(b.to(config.device) for b in batch)\n",
    "                input_ids, attention_mask, labels = batch\n",
    "                outputs = model(\n",
    "                    input_ids = input_ids, \n",
    "                    attention_mask = attention_mask\n",
    "                )\n",
    "                loss = nn.BCELoss()(outputs, labels.float())\n",
    "                eval_loss += loss.item()\n",
    "            print(f\"Mean Evaluation Loss: {eval_loss / len(eval_loader)}\")"
   ]
  },
  {
   "cell_type": "code",
   "execution_count": null,
   "id": "8c4ed965",
   "metadata": {},
   "outputs": [],
   "source": [
    "class EncoderClassifier(BaseEstimator, ClassifierMixin):\n",
    "    \"\"\"\n",
    "    A classifier that encapsulates an encoder network for \n",
    "    feature extraction followed by classification.\n",
    "\n",
    "    Attributes:\n",
    "        encoder_network (EncoderNetwork): An instance of EncoderNetwork \n",
    "            used for encoding input data.\n",
    "        conf (dict, optional): Configuration dictionary for \n",
    "            classifier specific settings.\n",
    "    \"\"\"\n",
    "    def __init__(self, encoder_network, config=None):\n",
    "        \"\"\"\n",
    "        Initialize the EncoderClassifier with an encoder network \n",
    "        and an optional configuration.\n",
    "\n",
    "        Parameters:\n",
    "            encoder_network (EncoderNetwork): The encoder network \n",
    "                to use for data encoding.\n",
    "            conf (dict, optional): Additional configuration for \n",
    "                the classifier. Defaults to None.\n",
    "        \"\"\"\n",
    "        self.encoder_network = encoder_network\n",
    "        self.config = config if config is not None else {}\n",
    "\n",
    "    def fit(self, X, y):\n",
    "        \"\"\"\n",
    "        Fit the classifier to the training data. \n",
    "        This method should implement learning from the data.\n",
    "\n",
    "        Parameters:\n",
    "            X (array-like): Training data features.\n",
    "            y (array-like): Training data labels or target values.\n",
    "        \"\"\"\n",
    "        pass\n",
    "\n",
    "    def predict(self, X):\n",
    "        \"\"\"\n",
    "        Predict the labels of the input data using the trained classifier.\n",
    "\n",
    "        Parameters:\n",
    "            X (array-like): Data features for which \n",
    "                predictions are to be made.\n",
    "\n",
    "        Returns:\n",
    "            array: Predicted labels for the input data.\n",
    "        \"\"\"\n",
    "        pass"
   ]
  },
  {
   "cell_type": "code",
   "execution_count": 82,
   "id": "59b3a0f4",
   "metadata": {},
   "outputs": [
    {
     "name": "stderr",
     "output_type": "stream",
     "text": [
      "c:\\Users\\tddnth\\workspace\\kaggle\\competitions\\learning-agency-lab-automated-essay-scoring-2\\.venv\\Lib\\site-packages\\huggingface_hub\\file_download.py:1132: FutureWarning: `resume_download` is deprecated and will be removed in version 1.0.0. Downloads always resume when possible. If you want to force a new download, use `force_download=True`.\n",
      "  warnings.warn(\n"
     ]
    }
   ],
   "source": [
    "encoder = EncoderForOrdinalRegression(config=configuration_item)"
   ]
  },
  {
   "cell_type": "code",
   "execution_count": 35,
   "id": "82e7c469",
   "metadata": {},
   "outputs": [],
   "source": [
    "# TODO: set the configuration dataclass.\n",
    "\n",
    "collate_fn = DataCollatorWithPadding(\n",
    "    tokenizer=deberta_v3_tokenizer,\n",
    "    padding=\"longest\",\n",
    "    return_tensors=\"pt\"\n",
    ")\n"
   ]
  },
  {
   "cell_type": "code",
   "execution_count": 38,
   "id": "0fc5e95c",
   "metadata": {},
   "outputs": [
    {
     "ename": "TypeError",
     "evalue": "PreTrainedTokenizerBase.pad() missing 1 required positional argument: 'encoded_inputs'",
     "output_type": "error",
     "traceback": [
      "\u001b[1;31m---------------------------------------------------------------------------\u001b[0m",
      "\u001b[1;31mTypeError\u001b[0m                                 Traceback (most recent call last)",
      "Cell \u001b[1;32mIn[38], line 1\u001b[0m\n\u001b[1;32m----> 1\u001b[0m \u001b[43mdeberta_v3_tokenizer\u001b[49m\u001b[38;5;241;43m.\u001b[39;49m\u001b[43mpad\u001b[49m\u001b[43m(\u001b[49m\u001b[43m)\u001b[49m\n",
      "\u001b[1;31mTypeError\u001b[0m: PreTrainedTokenizerBase.pad() missing 1 required positional argument: 'encoded_inputs'"
     ]
    }
   ],
   "source": [
    "deberta_v3_tokenizer.pad()"
   ]
  },
  {
   "cell_type": "markdown",
   "id": "0872b394",
   "metadata": {},
   "source": [
    "# Modeling using ALBERT"
   ]
  }
 ],
 "metadata": {
  "kernelspec": {
   "display_name": "Python 3",
   "language": "python",
   "name": "python3"
  },
  "language_info": {
   "codemirror_mode": {
    "name": "ipython",
    "version": 3
   },
   "file_extension": ".py",
   "mimetype": "text/x-python",
   "name": "python",
   "nbconvert_exporter": "python",
   "pygments_lexer": "ipython3",
   "version": "3.11.4"
  }
 },
 "nbformat": 4,
 "nbformat_minor": 5
}
