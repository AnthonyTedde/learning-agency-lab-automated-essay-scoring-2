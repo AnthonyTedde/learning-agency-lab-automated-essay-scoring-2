{
 "cells": [
  {
   "cell_type": "markdown",
   "metadata": {},
   "source": [
    "# General context"
   ],
   "id": "f1c7931dfdced5bf"
  },
  {
   "cell_type": "markdown",
   "id": "da36979d",
   "metadata": {},
   "source": [
    "The [Learning Agency Lab - Automated Essay Scoring 2.0](https://www.kaggle.com/competitions/learning-agency-lab-automated-essay-scoring-2/overview) competition aims to enhance automated essay grading systems to support overburdened teachers, especially in underserved communities. It addresses the limitations of previous efforts by using a larger, more diverse dataset to improve scoring accuracy and fairness. Hosted by Vanderbilt University and The Learning Agency Lab, the competition seeks to develop open-source tools that provide timely feedback to students and integrate more effectively into real-world educational settings. This initiative represents a significant advancement in educational technology, promoting equitable access to reliable automated essay scoring.\n",
    "\n",
    "In this notebook, I conducted exploratory data analysis and developed models using the Deberta V3 architecture ([He et al., 2021](https://arxiv.org/abs/2111.09543)). Additionally, I utilized the Hugging Face `datasets` library in conjunction with PyTorch's `DataLoader` for efficient data handling. I established a training loop using native PyTorch functionalities and modeled the outputs as ordinal values to account for their inherent order.\n",
    "\n",
    "**Todo: add some result**"
   ]
  },
  {
   "cell_type": "markdown",
   "id": "712cdcd9",
   "metadata": {},
   "source": [
    "# Inclusion and global variables"
   ]
  },
  {
   "cell_type": "code",
   "execution_count": 18,
   "id": "19375a7c",
   "metadata": {
    "execution": {
     "iopub.execute_input": "2024-05-14T13:22:22.945369Z",
     "iopub.status.busy": "2024-05-14T13:22:22.945008Z",
     "iopub.status.idle": "2024-05-14T13:22:40.300151Z",
     "shell.execute_reply": "2024-05-14T13:22:40.299362Z",
     "shell.execute_reply.started": "2024-05-14T13:22:22.945336Z"
    },
    "trusted": true,
    "ExecuteTime": {
     "end_time": "2024-05-15T09:39:15.399609100Z",
     "start_time": "2024-05-15T09:39:15.391281200Z"
    }
   },
   "outputs": [],
   "source": [
    "import os\n",
    "import math\n",
    "from dataclasses import dataclass, field\n",
    "from pathlib import Path\n",
    "from typing import List, Any\n",
    "import logging\n",
    "\n",
    "import matplotlib.pyplot as plt\n",
    "import matplotlib as mpl\n",
    "import seaborn as sns\n",
    "\n",
    "import numpy as np\n",
    "import pandas as pd\n",
    "\n",
    "import torch\n",
    "import torch.utils\n",
    "import torch.utils.data\n",
    "import torch.nn as nn\n",
    "from torch.optim import AdamW\n",
    "from torch.utils.data import (\n",
    "    DataLoader,\n",
    ")\n",
    "\n",
    "from sklearn.model_selection import train_test_split\n",
    "import polars as pl\n",
    "\n",
    "from transformers import (\n",
    "    AutoTokenizer,\n",
    "    AutoModelForSequenceClassification,\n",
    "    AutoModel,\n",
    "    DataCollatorWithPadding,\n",
    ")\n",
    "import datasets\n",
    "from datasets import Dataset, DatasetDict\n",
    "# from peft import LoraConfig \n",
    "\n",
    "from sklearn.utils.estimator_checks import check_estimator\n",
    "from sklearn.base import (\n",
    "    BaseEstimator,\n",
    "    ClassifierMixin,\n",
    ")"
   ]
  },
  {
   "cell_type": "markdown",
   "id": "2d8ad2bc",
   "metadata": {},
   "source": [
    "## Set and define global configuration"
   ]
  },
  {
   "cell_type": "markdown",
   "id": "0bc44092",
   "metadata": {},
   "source": [
    "In this section, I set up a configuration builder that utilizes the Python data class `ConfigurationSetting` to enhance the code's flexibility. This approach allows the code to run with specific configurations in dedicated environments. The instance of `ConfigurationSetting` created by the builder is used throughout the code, replacing hardcoded values."
   ]
  },
  {
   "cell_type": "code",
   "execution_count": 19,
   "id": "77e20669",
   "metadata": {
    "execution": {
     "iopub.execute_input": "2024-05-14T13:23:04.919330Z",
     "iopub.status.busy": "2024-05-14T13:23:04.918647Z",
     "iopub.status.idle": "2024-05-14T13:23:04.924965Z",
     "shell.execute_reply": "2024-05-14T13:23:04.923859Z",
     "shell.execute_reply.started": "2024-05-14T13:23:04.919298Z"
    },
    "trusted": true,
    "ExecuteTime": {
     "end_time": "2024-05-15T09:39:17.439425800Z",
     "start_time": "2024-05-15T09:39:17.426721300Z"
    }
   },
   "outputs": [],
   "source": [
    "DATABRICKS_STR      = \"DATABRICKS\"\n",
    "KAGGLE_STR          = \"KAGGLE\"\n",
    "LOCAL_STR           = \"LOCAL\"\n",
    "MATPLOTBLUE         = \"#1f77b4\"\n",
    "SEED                = 1010\n",
    "DEVICE              = \"cuda\" if torch.cuda.is_available() else \"cpu\"\n",
    "DEBERTA_V3_CKPT     = \"microsoft/deberta-v3-base\"\n",
    "NUM_LABELS          = 5\n",
    "DATALOADER_BATCH    = 64\n"
   ]
  },
  {
   "cell_type": "code",
   "execution_count": 20,
   "id": "e1e3af88",
   "metadata": {
    "execution": {
     "iopub.execute_input": "2024-05-14T13:24:50.021304Z",
     "iopub.status.busy": "2024-05-14T13:24:50.020909Z",
     "iopub.status.idle": "2024-05-14T13:24:50.029762Z",
     "shell.execute_reply": "2024-05-14T13:24:50.028563Z",
     "shell.execute_reply.started": "2024-05-14T13:24:50.021273Z"
    },
    "trusted": true,
    "ExecuteTime": {
     "end_time": "2024-05-15T09:39:18.530233500Z",
     "start_time": "2024-05-15T09:39:18.516536600Z"
    }
   },
   "outputs": [],
   "source": [
    "@dataclass(frozen=True)\n",
    "class ConfigurationSetting:\n",
    "    name: str\n",
    "    model_ckpt: str\n",
    "    num_labels: int\n",
    "    n_worker: int\n",
    "    plot_color: str\n",
    "    seed: int\n",
    "    data_path: Path|None\n",
    "    device: str\n",
    "    torch_device:torch.device = field(init=False)\n",
    "    dataloader_batch: int = DATALOADER_BATCH\n",
    "    \n",
    "    # How to instanciate attributes in frozen dataclass using __post_init__ method:\n",
    "    # https://stackoverflow.com/questions/73816826/python-dataclasses-assign-variable-to-field-in-a-frozen-instance-from-input\n",
    "    def __post_init__(self):\n",
    "        object.__setattr__(self, \"torch_device\", torch.device(self.device))"
   ]
  },
  {
   "cell_type": "code",
   "execution_count": 21,
   "id": "6e96ff19",
   "metadata": {
    "execution": {
     "iopub.execute_input": "2024-05-14T13:31:13.292158Z",
     "iopub.status.busy": "2024-05-14T13:31:13.291744Z",
     "iopub.status.idle": "2024-05-14T13:31:13.299156Z",
     "shell.execute_reply": "2024-05-14T13:31:13.298365Z",
     "shell.execute_reply.started": "2024-05-14T13:31:13.292128Z"
    },
    "trusted": true,
    "ExecuteTime": {
     "end_time": "2024-05-15T09:39:19.433049700Z",
     "start_time": "2024-05-15T09:39:19.419261200Z"
    }
   },
   "outputs": [],
   "source": [
    "\n",
    "def configuration_builder(\n",
    "    model_ckpt = \"google-bert/bert-base-uncased\",\n",
    "    plot_color=\"#FFFFFF\",\n",
    "    seed=1010,\n",
    "    device=None\n",
    ") -> ConfigurationSetting:\n",
    "    if os.getenv(\"DATABRICKS_RUNTIME_VERSION\"):\n",
    "        environment_name = DATABRICKS_STR\n",
    "        n_worker=8\n",
    "        data_path = None\n",
    "    elif os.getenv(\"KAGGLE_KERNEL_RUN_TYPE\"):\n",
    "        environment_name = KAGGLE_STR\n",
    "        n_worker = 2\n",
    "        data_path = Path(\n",
    "            \"/kaggle/input/learning-agency-lab-automated-essay-scoring-2\"\n",
    "        )\n",
    "    else:\n",
    "        environment_name = LOCAL_STR\n",
    "        n_worker = math.floor(os.cpu_count() * 3/8) # type: ignore\n",
    "        data_path = Path(\"../data\")\n",
    "    return ConfigurationSetting(\n",
    "        name=environment_name,\n",
    "        model_ckpt=model_ckpt,\n",
    "        num_labels=5,\n",
    "        n_worker=n_worker,\n",
    "        plot_color=plot_color,\n",
    "        seed=seed,\n",
    "        data_path=data_path,\n",
    "        device=\"cpu\" if device is None else device\n",
    "    )"
   ]
  },
  {
   "cell_type": "code",
   "execution_count": 22,
   "id": "3e3af0b6",
   "metadata": {
    "execution": {
     "iopub.execute_input": "2024-05-14T13:31:16.197308Z",
     "iopub.status.busy": "2024-05-14T13:31:16.196685Z",
     "iopub.status.idle": "2024-05-14T13:31:16.201639Z",
     "shell.execute_reply": "2024-05-14T13:31:16.200927Z",
     "shell.execute_reply.started": "2024-05-14T13:31:16.197270Z"
    },
    "trusted": true,
    "ExecuteTime": {
     "end_time": "2024-05-15T09:39:20.120842200Z",
     "start_time": "2024-05-15T09:39:20.107277Z"
    }
   },
   "outputs": [],
   "source": [
    "configuration_item = configuration_builder(\n",
    "    model_ckpt=DEBERTA_V3_CKPT,\n",
    "    plot_color=MATPLOTBLUE,\n",
    "    seed=SEED,\n",
    "    device=DEVICE\n",
    ")"
   ]
  },
  {
   "cell_type": "markdown",
   "id": "d1b3fb44",
   "metadata": {},
   "source": [
    "Warnings are suppressed in my local environment, particularly to remove information about my computing system before the code is pushed to GitHub."
   ]
  },
  {
   "cell_type": "code",
   "execution_count": 23,
   "id": "f846cac2",
   "metadata": {
    "execution": {
     "iopub.execute_input": "2024-05-14T13:31:18.917738Z",
     "iopub.status.busy": "2024-05-14T13:31:18.916809Z",
     "iopub.status.idle": "2024-05-14T13:31:18.922889Z",
     "shell.execute_reply": "2024-05-14T13:31:18.921931Z",
     "shell.execute_reply.started": "2024-05-14T13:31:18.917704Z"
    },
    "trusted": true,
    "ExecuteTime": {
     "end_time": "2024-05-15T09:39:21.588009100Z",
     "start_time": "2024-05-15T09:39:21.557027500Z"
    }
   },
   "outputs": [],
   "source": [
    "if configuration_item.name == LOCAL_STR:\n",
    "    logging.captureWarnings(True)\n",
    "    logger: logging.Logger = logging.getLogger(\"py.warnings\")\n",
    "    logger.addHandler(logging.FileHandler(\"tmp.log\"))"
   ]
  },
  {
   "cell_type": "markdown",
   "id": "86e087f4",
   "metadata": {},
   "source": [
    "# Load the data"
   ]
  },
  {
   "cell_type": "markdown",
   "id": "162e2baa",
   "metadata": {},
   "source": [
    "Data comes from the Kaggle competition [Learning Agency Lab - Automated Essay Scoring 2.0](https://www.kaggle.com/competitions/learning-agency-lab-automated-essay-scoring-2/overview) and can be downloaded from the competition's page."
   ]
  },
  {
   "cell_type": "code",
   "execution_count": 24,
   "id": "a2c8a87c",
   "metadata": {
    "collapsed": false,
    "execution": {
     "iopub.execute_input": "2024-05-14T13:31:48.651961Z",
     "iopub.status.busy": "2024-05-14T13:31:48.651523Z",
     "iopub.status.idle": "2024-05-14T13:31:49.387015Z",
     "shell.execute_reply": "2024-05-14T13:31:49.385924Z",
     "shell.execute_reply.started": "2024-05-14T13:31:48.651889Z"
    },
    "trusted": true,
    "ExecuteTime": {
     "end_time": "2024-05-15T09:39:23.513463100Z",
     "start_time": "2024-05-15T09:39:23.140016600Z"
    }
   },
   "outputs": [],
   "source": [
    "if not configuration_item.data_path:\n",
    "    raise ValueError\n",
    "\n",
    "train_ds = pd.read_csv(\n",
    "    filepath_or_buffer=configuration_item.data_path / \"train.csv\"\n",
    ")\n"
   ]
  },
  {
   "cell_type": "markdown",
   "id": "e173c0e3",
   "metadata": {},
   "source": [
    "For the sake of speed, I reduced the dataset size in my local environment. However, even with fewer records, fine-tuning DeBERTA on CPU machines remains challenging and significantly slower without GPU access."
   ]
  },
  {
   "cell_type": "code",
   "execution_count": 25,
   "id": "31561afc",
   "metadata": {
    "execution": {
     "iopub.execute_input": "2024-05-14T13:32:03.868689Z",
     "iopub.status.busy": "2024-05-14T13:32:03.868328Z",
     "iopub.status.idle": "2024-05-14T13:32:03.873601Z",
     "shell.execute_reply": "2024-05-14T13:32:03.872617Z",
     "shell.execute_reply.started": "2024-05-14T13:32:03.868661Z"
    },
    "trusted": true,
    "ExecuteTime": {
     "end_time": "2024-05-15T09:39:24.322999600Z",
     "start_time": "2024-05-15T09:39:24.292602900Z"
    }
   },
   "outputs": [],
   "source": [
    "# Keep small for local investigation\n",
    "if configuration_item.name == LOCAL_STR:\n",
    "    train_ds, _ = train_test_split(\n",
    "        train_ds, \n",
    "        test_size=.99, \n",
    "        random_state=configuration_item.seed, \n",
    "        stratify=train_ds[\"score\"]\n",
    "    )"
   ]
  },
  {
   "cell_type": "markdown",
   "id": "02a2ae5d",
   "metadata": {},
   "source": [
    "# Exploratory Data Analysis"
   ]
  },
  {
   "cell_type": "markdown",
   "id": "2de20ef8",
   "metadata": {},
   "source": [
    "## What about the scores ?"
   ]
  },
  {
   "cell_type": "code",
   "execution_count": 26,
   "id": "c76243d5",
   "metadata": {
    "collapsed": false,
    "ExecuteTime": {
     "end_time": "2024-05-15T09:39:26.040427400Z",
     "start_time": "2024-05-15T09:39:25.867041700Z"
    }
   },
   "outputs": [
    {
     "data": {
      "text/plain": "<Figure size 640x480 with 1 Axes>",
      "image/png": "[encoded data removed]"
     },
     "metadata": {},
     "output_type": "display_data"
    }
   ],
   "source": [
    "score_count = (\n",
    "    train_ds[\"score\"]\n",
    "    .value_counts(normalize=True)\n",
    "    .rename_axis(\"score\")\n",
    "    .reset_index(name=\"proportion\")\n",
    ")\n",
    "# score_ordered = score_count.score.tolist()\n",
    "# score_ordered.sort()\n",
    "ax = sns.barplot(\n",
    "    x=\"score\",\n",
    "    y=\"proportion\",\n",
    "    data=score_count,\n",
    "    # order=score_ordered\n",
    "    color=MATPLOTBLUE\n",
    ")\n",
    "\n",
    "for p in ax.patches:\n",
    "    percentage = f\"{p.get_height()*100:.1f}\" # type: ignore\n",
    "    x = p.get_x() + p.get_width() / 2 # type: ignore\n",
    "    y = p.get_height() # type: ignore\n",
    "    ax.text(x, y, percentage, ha=\"center\", va=\"bottom\")\n",
    "plt.title(\"Score distribution\")\n",
    "plt.xlabel(\"Score\")\n",
    "plt.ylabel(\"Proportion\")\n",
    "plt.show()\n",
    "del score_count"
   ]
  },
  {
   "cell_type": "markdown",
   "id": "10e2bd46",
   "metadata": {},
   "source": [
    "The dataset appears to have a distribution that is weighted towards less extreme scores, with a notable decline in the proportion of the highest values. This uneven distribution requires careful consideration during analytical modeling. Special techniques may be necessary to account for the imbalance and to ensure that the analysis is robust, particularly when predicting or interpreting the less represented extreme values."
   ]
  },
  {
   "cell_type": "markdown",
   "id": "839de63a",
   "metadata": {},
   "source": [
    "## What about the text"
   ]
  },
  {
   "cell_type": "markdown",
   "id": "ff4f26a3",
   "metadata": {},
   "source": [
    "Addressing the issue of sequence size in the context of natural language processing models, such as [Sentence-BERT](https://arxiv.org/abs/1908.10084), is critical due to the token limit restrictions imposed by these models. Typically, these models cap the number of tokens that can be processed in a single pass, often set at [512 tokens, or sometimes fewer](https://sbert.net/docs/pretrained_models.html). This constraint poses a significant challenge when attempting to encode longer texts, as it necessitates either the omission of content or the application of sophisticated strategies to manage longer sequences effectively. In scholarly discourse, this topic is particularly relevant as it underscores a limitation within state-of-the-art language models when confronted with lengthy documents. It opens up an area for methodological advancements and innovative techniques aimed at preserving the semantic richness of extensive texts without compromising the quality of the generated embeddings. Focusing on the sequence size involves exploring and refining these techniques, which may include partitioning the text into smaller, manageable units while ensuring minimal loss of contextual information. The implications of such methods are profound, impacting both the efficiency of computational processes and the fidelity of text interpretation, especially in domains where the precision of language is paramount. Let's observe the distribution of the text size."
   ]
  },
  {
   "cell_type": "code",
   "execution_count": 27,
   "id": "bec390cd",
   "metadata": {
    "collapsed": false,
    "ExecuteTime": {
     "end_time": "2024-05-15T09:39:28.188094100Z",
     "start_time": "2024-05-15T09:39:28.019426200Z"
    }
   },
   "outputs": [
    {
     "data": {
      "text/plain": "<Figure size 640x480 with 1 Axes>",
      "image/png": "[encoded data removed]"
     },
     "metadata": {},
     "output_type": "display_data"
    }
   ],
   "source": [
    "full_text_size = train_ds.full_text.map(lambda x: len(x.split()))\n",
    "sns.histplot(full_text_size) # type: ignore\n",
    "plt.xlabel(\"Full Text Size\")\n",
    "plt.ylabel(\"Count\")\n",
    "plt.title(\"Distribution of text size\")\n",
    "plt.show()"
   ]
  },
  {
   "cell_type": "markdown",
   "id": "50b32cda",
   "metadata": {},
   "source": [
    "The graph highlights a right-skewed distribution of text lengths in a dataset, with most texts falling between 200 to 400 units and a few significantly longer outliers. Multiple peaks suggest the presence of several preferred text lengths. Regarding a potential use of Sentence-BERT for modeling, while adept at producing semantically meaningful sentence embeddings, it may face challenges with these longer texts due to token limits causing memory and computational burdens, potential loss of context when texts are truncated, and inefficiencies in encoding lengthy sequences. This underscores the need for strategic text handling to ensure meaningful semantic encoding by Sentence-BERT, particularly for outlier texts that exceed typical length constraints. To circumvent these limitations, a methodology involving the segmentation of longer texts into individual sentences is proposed, thereby allowing Sentence-BERT to operate within its tokenization parameters while preserving the textual integrity. Such segmentation facilitates detailed semantic analysis of each sentence independently, with the subsequent synthesis of these analyses yielding a comprehensive understanding of the text's overarching semantic structure. Enhancing this segmentation approach, the introduction of overlap between consecutive text chunks is advocated. By ensuring that adjacent segments share a subset of sentences, this strategy aims to safeguard the continuity of information, particularly across segment boundaries. This overlapping ensures the retention of crucial context, which is paramount in the construction of a coherent narrative, particularly for extensive documents where interpretative nuances are intrinsically linked to the broader context."
   ]
  },
  {
   "cell_type": "markdown",
   "id": "2ae9591d",
   "metadata": {},
   "source": [
    "# Data wrangling"
   ]
  },
  {
   "cell_type": "markdown",
   "id": "4bc7efd6",
   "metadata": {},
   "source": [
    "## Turn the score label into ordinal"
   ]
  },
  {
   "cell_type": "markdown",
   "id": "f4764e24",
   "metadata": {},
   "source": [
    "Ordinal regression is used when the dependent variable (the outcome you're trying to predict) holds an intrinsic order, but the distances between the levels are not known. The classic examples include a Likert scale for surveys (e.g., \"strongly disagree,\" \"disagree,\" \"neutral,\" \"agree,\" \"strongly agree\"), grades (A, B, C, D, F), or in the case at hand, essay scores. The key advantage of ordinal regression is its ability to handle dependent variables that are more nuanced than simple binary outcomes but don’t have the numeric spacing needed for linear regression. For instance, while we know that grade A is higher than grade B, we cannot say that it is exactly two points higher as we might with numerical scores. This is where ordinal regression comes in—it allows the modeling of the rank order of the dependent variable without making assumptions about the value of the intervals between levels. In the context of modeling essay scores, ordinal regression can predict the rank order of the essays' quality. It is particularly apt for this kind of task because it can learn from the order inherent in the scores without assuming equal spacing between score levels. This can result in more accurate models for ordered categorical data, as it respects the nature of the ranking involved. When using ordinal regression, we need to transform the target variable to reflect the ordinal nature. In a standard regression problem, the target is typically a single column of values. In ordinal regression, however, the target is often expanded into a matrix that represents the ranking order. This matrix enables the model to understand and predict not just whether one essay is better than another but the relative ranking across the spectrum of scores. To prepare for ordinal regression, the scores was transformed into an ordinal matrix with a process known as “one-hot encoding” of the ranks. "
   ]
  },
  {
   "cell_type": "code",
   "execution_count": 28,
   "id": "7e403e66",
   "metadata": {
    "collapsed": false,
    "ExecuteTime": {
     "end_time": "2024-05-15T09:39:30.964367Z",
     "start_time": "2024-05-15T09:39:30.946403700Z"
    }
   },
   "outputs": [],
   "source": [
    "def category_to_ordinal(category):\n",
    "    y = np.array(category, dtype=\"int\") \n",
    "    n = y.shape[0]\n",
    "    num_class = np.max(y) \n",
    "    range_values = np.tile(\n",
    "        np.expand_dims(np.arange(num_class), 0), \n",
    "        [n, 1]\n",
    "    ) \n",
    "    ordinal = np.zeros((n, num_class), dtype=\"int\") \n",
    "    ordinal[range_values < np.expand_dims(y, -1)] = 1 \n",
    "    return ordinal"
   ]
  },
  {
   "cell_type": "code",
   "execution_count": 29,
   "id": "454fed27",
   "metadata": {
    "ExecuteTime": {
     "end_time": "2024-05-15T09:39:32.278843700Z",
     "start_time": "2024-05-15T09:39:32.250624Z"
    }
   },
   "outputs": [],
   "source": [
    "train_ds[\"labels\"] = category_to_ordinal(train_ds.score.values).tolist()"
   ]
  },
  {
   "cell_type": "code",
   "execution_count": 30,
   "id": "13a44dd6",
   "metadata": {
    "ExecuteTime": {
     "end_time": "2024-05-15T09:39:33.567628100Z",
     "start_time": "2024-05-15T09:39:33.539331500Z"
    }
   },
   "outputs": [
    {
     "data": {
      "text/plain": "      essay_id                                          full_text  score  \\\n12859  bd3ec7d  While there have been presidents that have run...      6   \n1744   1b0037e  Is studying Venus a worthy pursuit despite the...      2   \n5646   545a0f3  Luke Bomberger had a friend who asked him to t...      1   \n6041   5a7d2db  In the article \"The Challenge of Exploring Ven...      2   \n7336   6e0d125  The Face\\n\\nSome people don't believe the Face...      3   \n\n                   labels  \n12859  [1, 1, 1, 1, 1, 1]  \n1744   [1, 1, 0, 0, 0, 0]  \n5646   [1, 0, 0, 0, 0, 0]  \n6041   [1, 1, 0, 0, 0, 0]  \n7336   [1, 1, 1, 0, 0, 0]  ",
      "text/html": "<div>\n<style scoped>\n    .dataframe tbody tr th:only-of-type {\n        vertical-align: middle;\n    }\n\n    .dataframe tbody tr th {\n        vertical-align: top;\n    }\n\n    .dataframe thead th {\n        text-align: right;\n    }\n</style>\n<table border=\"1\" class=\"dataframe\">\n  <thead>\n    <tr style=\"text-align: right;\">\n      <th></th>\n      <th>essay_id</th>\n      <th>full_text</th>\n      <th>score</th>\n      <th>labels</th>\n    </tr>\n  </thead>\n  <tbody>\n    <tr>\n      <th>12859</th>\n      <td>bd3ec7d</td>\n      <td>While there have been presidents that have run...</td>\n      <td>6</td>\n      <td>[1, 1, 1, 1, 1, 1]</td>\n    </tr>\n    <tr>\n      <th>1744</th>\n      <td>1b0037e</td>\n      <td>Is studying Venus a worthy pursuit despite the...</td>\n      <td>2</td>\n      <td>[1, 1, 0, 0, 0, 0]</td>\n    </tr>\n    <tr>\n      <th>5646</th>\n      <td>545a0f3</td>\n      <td>Luke Bomberger had a friend who asked him to t...</td>\n      <td>1</td>\n      <td>[1, 0, 0, 0, 0, 0]</td>\n    </tr>\n    <tr>\n      <th>6041</th>\n      <td>5a7d2db</td>\n      <td>In the article \"The Challenge of Exploring Ven...</td>\n      <td>2</td>\n      <td>[1, 1, 0, 0, 0, 0]</td>\n    </tr>\n    <tr>\n      <th>7336</th>\n      <td>6e0d125</td>\n      <td>The Face\\n\\nSome people don't believe the Face...</td>\n      <td>3</td>\n      <td>[1, 1, 1, 0, 0, 0]</td>\n    </tr>\n  </tbody>\n</table>\n</div>"
     },
     "metadata": {},
     "output_type": "display_data"
    }
   ],
   "source": [
    "display(train_ds.head())"
   ]
  },
  {
   "cell_type": "markdown",
   "id": "675b4c34",
   "metadata": {},
   "source": [
    "## Create training / validation set"
   ]
  },
  {
   "cell_type": "code",
   "execution_count": 31,
   "id": "3ff6fd18",
   "metadata": {
    "collapsed": false,
    "ExecuteTime": {
     "end_time": "2024-05-15T09:39:35.702147400Z",
     "start_time": "2024-05-15T09:39:35.698410700Z"
    }
   },
   "outputs": [],
   "source": [
    "train_set, validation_set = train_test_split(\n",
    "    train_ds, \n",
    "    train_size=.7, \n",
    "    random_state=SEED, \n",
    "    stratify=train_ds.score\n",
    ")"
   ]
  },
  {
   "cell_type": "code",
   "execution_count": 32,
   "id": "f41d98f5",
   "metadata": {
    "collapsed": false,
    "ExecuteTime": {
     "end_time": "2024-05-15T09:39:37.362039400Z",
     "start_time": "2024-05-15T09:39:37.044811800Z"
    }
   },
   "outputs": [
    {
     "data": {
      "text/plain": "<Figure size 640x480 with 1 Axes>",
      "image/png": "[encoded data removed]"
     },
     "metadata": {},
     "output_type": "display_data"
    }
   ],
   "source": [
    "train_set_tmp = train_set.copy()\n",
    "validation_set_tmp = validation_set.copy()\n",
    "\n",
    "train_set_tmp[\"type\"] = \"Training\"\n",
    "validation_set_tmp[\"type\"] = \"Validation\"\n",
    "# ingnore_index force the creation of a new index.\n",
    "combined_set = pd.concat(\n",
    "    [train_set_tmp, validation_set_tmp], \n",
    "    ignore_index=True\n",
    ")\n",
    "\n",
    "proportion = (\n",
    "    combined_set.groupby(\"type\")[\"score\"]\n",
    "    .value_counts(normalize=True)\n",
    "    .reset_index()\n",
    ")\n",
    "\n",
    "ax = sns.barplot(proportion, x=\"score\", y=\"proportion\", hue=\"type\")\n",
    "\n",
    "for p in ax.patches:\n",
    "    percentage = f\"{p.get_height()*100:.0f}%\" # type: ignore\n",
    "    x = p.get_x() + p.get_width() / 2 # type: ignore\n",
    "    y = p.get_height() # type: ignore\n",
    "    ax.text(x, y, percentage, ha=\"center\", va=\"bottom\")\n",
    "\n",
    "plt.title(\"Comparative Distribution of Scores Proportion in Training and Validation Sets\")\n",
    "plt.xlabel(\"Scores\")\n",
    "plt.ylabel(\"Proportion\")\n",
    "plt.show()\n",
    "\n",
    "del(train_set_tmp)\n",
    "del(validation_set_tmp)"
   ]
  },
  {
   "cell_type": "markdown",
   "id": "f2377c84",
   "metadata": {},
   "source": [
    "The provided plot presents a grouped bar chart depicting the distribution of scores within two distinct datasets: Training and Validation. Each score category from 1 to 6 is represented by a pair of bars—one for the Training set (in blue) and one for the Validation set (in orange). The stratification ensures that the proportion of scores in each score category is consistent across both training and validation sets. This consistency is critical when developing a model for ordinal regression, as it allows the model to learn from a training set that mirrors the real-world or expected distribution of scores. Consequently, when the model is validated, the validation set similarly reflects this distribution, allowing for an accurate assessment of the model's performance. From the visual comparison of the bar heights, it is evident that each score's representation in the training set closely matches its representation in the validation set."
   ]
  },
  {
   "cell_type": "code",
   "execution_count": 33,
   "id": "75780134",
   "metadata": {
    "ExecuteTime": {
     "end_time": "2024-05-15T09:39:39.599341400Z",
     "start_time": "2024-05-15T09:39:39.569845300Z"
    }
   },
   "outputs": [],
   "source": [
    "type(validation_set)\n",
    "data_dict = datasets.DatasetDict({\n",
    "    \"training\": datasets.Dataset.from_pandas(df=train_set),\n",
    "    \"validation\": datasets.Dataset.from_pandas(df=validation_set)\n",
    "})"
   ]
  },
  {
   "cell_type": "markdown",
   "id": "48f6e2d6",
   "metadata": {},
   "source": [
    "# Modeling usin DeBERTa"
   ]
  },
  {
   "cell_type": "markdown",
   "id": "827e41d9",
   "metadata": {},
   "source": [
    "The development of Bidirectional Encoder Representations from Transformers (BERT, [Delvin et al., 2018](https://arxiv.org/abs/1810.04805)) marked a significant advancement in natural language processing by introducing bidirectional training of Transformer models. This was a departure from previous unidirectional models and utilized strategies such as masked language modeling and next sentence prediction. Subsequent derivatives include Robustly Optimized BERT Pretraining Approach (RoBERTa, [Liu et al., 2019](https://arxiv.org/abs/1907.11692)), which optimized BERT by eliminating the next sentence prediction requirement and adjusting training conditions. DistilBERT ([Sanh et al., 2019](https://arxiv.org/abs/1910.01108)) offered a streamlined version retaining 95% of BERT's performance but with reduced size and enhanced speed through knowledge distillation ([Hinton, Vinyals and Dean, 2015](https://arxiv.org/abs/1503.02531)). Google Research introduced A Lite BERT (ALBERT, [Lan et al., 2019](https://arxiv.org/abs/1909.11942)), which minimized memory usage and complexity, improve parameter efficiency and accelerated training by implementing techniques like factorized embedding parameterization and cross-layer parameter sharing. Lastly, Decoding-enhanced BERT with Disentangled Attention (DeBERTa), developed by Microsoft Research and detailed by He et al. in 2020, enhanced the understanding of context and position in language models. ([He et al., 2020](https://arxiv.org/abs/2006.03654))\n",
    "\n",
    "Indeed, DeBERTa has evolved through several versions, each introducing significant advancements over its predecessors in the realm of natural language processing. The original version, DeBERTa V1 ([He et al., 2020](https://arxiv.org/abs/2006.03654)), introduced a disentangled attention mechanism that separately processes content and positional information, enabling a more nuanced understanding of word contexts. It also featured an enhanced mask decoder that improved syntax and semantic analysis by predicting both masked tokens and their relative positions. Building on V1, [DeBERTa V2](https://huggingface.co/docs/transformers/v4.40.0/model_doc/deberta-v2) incorporated more advanced training techniques and introduced an XXL model size, which substantially boosted performance across various NLP benchmarks. The latest iteration, DeBERTa V3 ([He et al., 2021](https://arxiv.org/abs/2111.09543)), further refined these capabilities by adopting ELECTRA-style pre-training, which enhances efficiency by training the model to differentiate between correct and incorrect token replacements."
   ]
  },
  {
   "cell_type": "markdown",
   "id": "5d543afa",
   "metadata": {},
   "source": [
    "**One way forward**: [BitFit: Simple Parameter-efficient Fine-tuning for Transformer-based Masked Language-models](https://arxiv.org/abs/2106.10199)\n",
    "\n",
    "The paper \"BitFit: Simple Parameter-efficient Fine-tuning for Transformer-based Masked Language-models\" presents a novel fine-tuning method for large transformer models, such as BERT and its variants, which optimizes a minimal subset of parameters—specifically the bias terms—while keeping the rest unchanged. This method leverages the finding that updating just the bias parameters can achieve performance comparable to, or sometimes surpassing, that of full model fine-tuning, particularly in situations with limited computational resources or sparse training data. BitFit's approach is highly efficient as it targets only a small fraction of the total model parameters, enhancing its utility in resource-constrained settings. Additionally, its simplicity accelerates training and adaptation, making it ideal for rapid deployment and frequent updates. Importantly, by freezing most of the parameters, BitFit preserves the general knowledge acquired during pre-training, thereby avoiding overfitting on specific fine-tuning datasets and allowing for effective adaptation to new tasks or minor domain shifts without extensive retraining."
   ]
  },
  {
   "cell_type": "markdown",
   "id": "2b81c323",
   "metadata": {},
   "source": [
    "In this section, we modelize using DeBERTa as checkpoint. (+ context M&M)"
   ]
  },
  {
   "cell_type": "markdown",
   "id": "a58a3c56",
   "metadata": {},
   "source": [
    "## Tokenize the text"
   ]
  },
  {
   "cell_type": "markdown",
   "id": "79f6226a",
   "metadata": {},
   "source": [
    "Tokenization is a fundamental process in natural language processing (NLP) where text is segmented into smaller units known as tokens. These tokens may be individual words, characters, or subwords. This segmentation is akin to parsing a sentence into its constituent words or decomposing a word into syllables. "
   ]
  },
  {
   "cell_type": "code",
   "execution_count": 34,
   "id": "5f4db3b1",
   "metadata": {
    "ExecuteTime": {
     "end_time": "2024-05-15T09:39:45.412077500Z",
     "start_time": "2024-05-15T09:39:43.291660Z"
    }
   },
   "outputs": [
    {
     "name": "stderr",
     "output_type": "stream",
     "text": [
      "Some weights of DebertaV2ForSequenceClassification were not initialized from the model checkpoint at microsoft/deberta-v3-base and are newly initialized: ['classifier.bias', 'classifier.weight', 'pooler.dense.bias', 'pooler.dense.weight']\n",
      "You should probably TRAIN this model on a down-stream task to be able to use it for predictions and inference.\n"
     ]
    }
   ],
   "source": [
    "deberta_v3_tokenizer = AutoTokenizer.from_pretrained(\n",
    "    configuration_item.model_ckpt\n",
    ")\n",
    "deberta_v3_mdl = AutoModelForSequenceClassification.from_pretrained(\n",
    "    configuration_item.model_ckpt\n",
    " )"
   ]
  },
  {
   "cell_type": "code",
   "execution_count": 35,
   "id": "6d1f105c",
   "metadata": {
    "ExecuteTime": {
     "end_time": "2024-05-15T09:39:57.488215Z",
     "start_time": "2024-05-15T09:39:57.243984Z"
    }
   },
   "outputs": [
    {
     "data": {
      "text/plain": "Map:   0%|          | 0/121 [00:00<?, ? examples/s]",
      "application/vnd.jupyter.widget-view+json": {
       "version_major": 2,
       "version_minor": 0,
       "model_id": "bb0320e14c5a4b2da51ddb8e3e1cabc2"
      }
     },
     "metadata": {},
     "output_type": "display_data"
    },
    {
     "data": {
      "text/plain": "Map:   0%|          | 0/52 [00:00<?, ? examples/s]",
      "application/vnd.jupyter.widget-view+json": {
       "version_major": 2,
       "version_minor": 0,
       "model_id": "7da86e1306ca4807b4b6571869e8d99d"
      }
     },
     "metadata": {},
     "output_type": "display_data"
    }
   ],
   "source": [
    "from datasets.arrow_dataset import Dataset\n",
    "\n",
    "\n",
    "def encode(batch, tokenizer):\n",
    "    return tokenizer(\n",
    "        batch[\"full_text\"], \n",
    "        padding=True,\n",
    "        return_tensors=\"pt\"\n",
    "    )\n",
    "data_dict: DatasetDict = data_dict.map(\n",
    "    encode,\n",
    "    batched=True,\n",
    "    batch_size=1000,\n",
    "    fn_kwargs={\"tokenizer\": deberta_v3_tokenizer}\n",
    ")\n",
    "data_collator = DataCollatorWithPadding(\n",
    "    tokenizer=deberta_v3_tokenizer,\n",
    "    return_tensors=\"pt\"\n",
    ")\n",
    "\n",
    "training_torch: Dataset = (\n",
    "    data_dict[\"training\"]\n",
    "    .select_columns([\"input_ids\", \"labels\", \"attention_mask\"])\n",
    "    .with_format(\"torch\", device=configuration_item.torch_device) \n",
    ")\n",
    "validation_torch: Dataset = (\n",
    "    data_dict[\"validation\"]\n",
    "    .select_columns([\"input_ids\", \"labels\", \"attention_mask\"])\n",
    "    .with_format(\"torch\", device=configuration_item.torch_device)\n",
    ")\n",
    "DataLoader(training_torch, batch_size=64, shuffle=True, collate_fn=data_collator) # type: ignore\n",
    "training_dataloader = DataLoader(training_torch, batch_size=64, shuffle=True, collate_fn=data_collator) # type: ignore\n",
    "validation_dataloader = DataLoader(validation_torch, batch_size=64, shuffle=True, collate_fn=data_collator) # type: ignore\n",
    "del training_torch\n",
    "del validation_torch\n"
   ]
  },
  {
   "cell_type": "markdown",
   "source": [
    "**Important Note**: The `DataCollatorWithPadding` modifies column names by changing `label` to `labels` (if the column exists). For the sake of conciseness and readability, I have updated all occurrences of `label` to `labels` throughout the code. This specific transformation is detailed in the `__call__` function of the [`DataCollatorWithPadding`](https://github.com/huggingface/transformers/blob/v4.40.2/src/transformers/data/data_collator.py#L236)."
   ],
   "metadata": {
    "collapsed": false
   },
   "id": "9ebe1f85"
  },
  {
   "cell_type": "markdown",
   "id": "b00ad79e",
   "metadata": {},
   "source": [
    "## Set the classifier"
   ]
  },
  {
   "cell_type": "markdown",
   "id": "82bf6811",
   "metadata": {},
   "source": [
    "In this section, I outline the structural framework for our model, incorporating an innovative technique known as Low-Rank Adaptation (LoRA) as proposed by [Yu et al., 2023](https://arxiv.org/abs/2309.15223) **TODO: quantization**. LoRA is a method specifically designed to enhance the efficiency of fine-tuning large pre-trained models. This is achieved by reducing the number of trainable parameters, thereby simplifying the model adaptation process and decreasing the computational overhead. The key advantage of using LoRA lies in its ability to retain the performance of the original model while significantly cutting down on the resources required for fine-tuning. This is accomplished by introducing low-rank matrices that modify the existing weights of a pre-trained model rather than retraining all parameters. This selective updating allows us to maintain a balance between computational efficiency and model effectiveness. Implementing LoRA involves decomposing the parameter matrices into smaller, more manageable components, which are easier to optimize. This method not only speeds up the adaptation process but also reduces the memory footprint, making it feasible to fine-tune large models on more modest hardware setups.\n",
    "\n",
    "In the `EncoderForOrdinalRegression` class designed for ordinal regression, a linear function is trained from a sigmoid activation to be consistent with the ordinal labels. Specifically, the linear layer is configured with five output nodes corresponding to the five ordinal values of the label. During the forward pass, this layer processes the extracted features and returns the sigmoid of the logits, effectively translating the raw logits into probabilities that are suitable for ordinal classification. This architecture allows for a nuanced interpretation of output probabilities directly aligned with the ordered categories inherent to the task."
   ]
  },
  {
   "cell_type": "code",
   "execution_count": 36,
   "id": "12fcb251",
   "metadata": {
    "ExecuteTime": {
     "end_time": "2024-05-15T09:40:01.351126800Z",
     "start_time": "2024-05-15T09:40:01.342152100Z"
    }
   },
   "outputs": [],
   "source": [
    "class EncoderForOrdinalRegression(nn.Module):\n",
    "    def __init__(self, config):\n",
    "        super().__init__()\n",
    "        self.pretrained = AutoModel.from_pretrained(config.model_ckpt)\n",
    "        self.pretrained.to(config.torch_device)\n",
    "        self.output_layer = nn.Linear(\n",
    "            self.pretrained.config.hidden_size,\n",
    "            config.num_labels\n",
    "        )\n",
    "\n",
    "    def forward(self, input_ids, attention_mask):\n",
    "        outputs = self.pretrained(\n",
    "            ## deberta forward method that overrides the __call__\n",
    "            ## https://huggingface.co/docs/transformers/v4.40.2/en/model_doc/deberta-v2#transformers.DebertaV2Model.forward\n",
    "            input_ids=input_ids,\n",
    "            attention_mask=attention_mask\n",
    "        )\n",
    "        logits = self.output_layer(\n",
    "            # Only keeping the [CLS] token\n",
    "            outputs.last_hidden_state[:, 0, :]\n",
    "        )\n",
    "        probs = torch.sigmoid(logits)\n",
    "        return probs\n"
   ]
  },
  {
   "cell_type": "markdown",
   "id": "b0c28a91",
   "metadata": {},
   "source": [
    "## Build the training loop "
   ]
  },
  {
   "cell_type": "markdown",
   "id": "5c43f594",
   "metadata": {},
   "source": [
    "The `train_model` function is designed to train and evaluate a PyTorch model across a specified number of epochs using both training and evaluation datasets. This function initializes a binary cross-entropy loss criterion and orchestrates the training loop, ensuring each epoch runs through both the training data and evaluation data to compute and display losses. It leverages helper functions `run_epoch` to process each epoch and `validate_dataset_columns` to check that the necessary data columns are present in the dataset."
   ]
  },
  {
   "cell_type": "code",
   "execution_count": 45,
   "id": "ad526ea1",
   "metadata": {
    "ExecuteTime": {
     "end_time": "2024-05-15T09:42:16.773227800Z",
     "start_time": "2024-05-15T09:42:16.755692800Z"
    }
   },
   "outputs": [],
   "source": [
    "from typing import Any, List\n",
    "\n",
    "def train_model(\n",
    "    model: nn.Module, \n",
    "    train_loader: torch.utils.data.DataLoader, \n",
    "    eval_loader: torch.utils.data.DataLoader, \n",
    "    optimizer: torch.optim.Optimizer, \n",
    "    config,\n",
    "    epochs: int = 3\n",
    "):\n",
    "    \"\"\"\n",
    "    Train a PyTorch model and evaluate it.\n",
    "\n",
    "    Parameters:\n",
    "        model (nn.Module): The model to train and evaluate.\n",
    "        train_loader (DataLoader): DataLoader for training data.\n",
    "        eval_loader (DataLoader): DataLoader for evaluation data.\n",
    "        optimizer (Optimizer): The optimizer for training.\n",
    "        config: Configuration object with attributes like device.\n",
    "        epochs (int): Number of training epochs.\n",
    "    \"\"\"\n",
    "    required_columns: List[str] = [\"input_ids\", \"attention_mask\", \"labels\"]\n",
    "    validate_dataset_columns(train_loader, required_columns)\n",
    "    validate_dataset_columns(eval_loader, required_columns)\n",
    "\n",
    "    criterion = nn.BCELoss()\n",
    "\n",
    "    for epoch in range(epochs):\n",
    "        print(f\"Epoch {epoch + 1}/{epochs}\")\n",
    "\n",
    "        train_loss: float = run_epoch(\n",
    "            model, \n",
    "            train_loader, \n",
    "            optimizer, \n",
    "            criterion, \n",
    "            config.torch_device, \n",
    "        )\n",
    "        eval_loss: float = run_epoch(\n",
    "            model, \n",
    "            eval_loader, \n",
    "            optimizer, \n",
    "            criterion, \n",
    "            config.torch_device, \n",
    "            training=False\n",
    "        )\n",
    "\n",
    "        print(f\"Mean Training Loss: {train_loss}\")\n",
    "        print(f\"Mean Evaluation Loss: {eval_loss}\")\n",
    "\n",
    "def run_epoch(model, loader, optimizer, criterion, device, training=True) -> float:\n",
    "    \"\"\" Run a training or evaluation epoch \"\"\"\n",
    "    if training:\n",
    "        model.train()\n",
    "    else:\n",
    "        model.eval()\n",
    "\n",
    "    total_loss = 0\n",
    "    with torch.set_grad_enabled(training):\n",
    "        for batch in loader:\n",
    "            batch = {\n",
    "                k: v.to(device) \n",
    "                for k, v in batch.items() \n",
    "                if k in [\"input_ids\", \"attention_mask\", \"labels\"]\n",
    "            }\n",
    "            input_ids, mask, labels = tuple([\n",
    "                batch[\"input_ids\"],\n",
    "                batch[\"attention_mask\"], \n",
    "                batch[\"labels\"]\n",
    "            ])\n",
    "            optimizer.zero_grad()\n",
    "            outputs = model(input_ids=input_ids, attention_mask=mask)\n",
    "            loss = criterion(outputs, labels.float())\n",
    "            if training:\n",
    "                loss.backward()\n",
    "                optimizer.step()\n",
    "            total_loss += loss.item()\n",
    "    return total_loss / len(loader)\n",
    "\n",
    "def validate_dataset_columns(loader, columns):\n",
    "    \"\"\" Ensure loader contains all necessary columns \"\"\"\n",
    "    sample_batch = next(iter(loader))\n",
    "    for column in columns:\n",
    "        if column not in sample_batch:\n",
    "            raise ValueError(f\"Column {column} missing from DataLoader\")"
   ]
  },
  {
   "cell_type": "markdown",
   "id": "798f31d1",
   "metadata": {},
   "source": [
    "## Train !"
   ]
  },
  {
   "cell_type": "markdown",
   "id": "da4bc102",
   "metadata": {},
   "source": [
    "Let's train ..."
   ]
  },
  {
   "cell_type": "code",
   "execution_count": 46,
   "id": "6de547a8",
   "metadata": {
    "ExecuteTime": {
     "end_time": "2024-05-15T09:42:33.244890Z",
     "start_time": "2024-05-15T09:42:22.563971300Z"
    }
   },
   "outputs": [
    {
     "name": "stdout",
     "output_type": "stream",
     "text": [
      "Epoch 1/3\n"
     ]
    },
    {
     "ename": "KeyboardInterrupt",
     "evalue": "",
     "output_type": "error",
     "traceback": [
      "\u001B[1;31m---------------------------------------------------------------------------\u001B[0m",
      "\u001B[1;31mKeyboardInterrupt\u001B[0m                         Traceback (most recent call last)",
      "Cell \u001B[1;32mIn[46], line 3\u001B[0m\n\u001B[0;32m      1\u001B[0m model \u001B[38;5;241m=\u001B[39m EncoderForOrdinalRegression(configuration_item)\n\u001B[0;32m      2\u001B[0m optimizer \u001B[38;5;241m=\u001B[39m AdamW(model\u001B[38;5;241m.\u001B[39mparameters(), lr\u001B[38;5;241m=\u001B[39m\u001B[38;5;241m2e-5\u001B[39m)\n\u001B[1;32m----> 3\u001B[0m \u001B[43mtrain_model\u001B[49m\u001B[43m(\u001B[49m\n\u001B[0;32m      4\u001B[0m \u001B[43m    \u001B[49m\u001B[43mmodel\u001B[49m\u001B[38;5;241;43m=\u001B[39;49m\u001B[43mmodel\u001B[49m\u001B[43m,\u001B[49m\n\u001B[0;32m      5\u001B[0m \u001B[43m    \u001B[49m\u001B[43mtrain_loader\u001B[49m\u001B[38;5;241;43m=\u001B[39;49m\u001B[43mtraining_dataloader\u001B[49m\u001B[43m,\u001B[49m\n\u001B[0;32m      6\u001B[0m \u001B[43m    \u001B[49m\u001B[43meval_loader\u001B[49m\u001B[38;5;241;43m=\u001B[39;49m\u001B[43mvalidation_dataloader\u001B[49m\u001B[43m,\u001B[49m\n\u001B[0;32m      7\u001B[0m \u001B[43m    \u001B[49m\u001B[43moptimizer\u001B[49m\u001B[38;5;241;43m=\u001B[39;49m\u001B[43moptimizer\u001B[49m\u001B[43m,\u001B[49m\n\u001B[0;32m      8\u001B[0m \u001B[43m    \u001B[49m\u001B[43mconfig\u001B[49m\u001B[38;5;241;43m=\u001B[39;49m\u001B[43mconfiguration_item\u001B[49m\n\u001B[0;32m      9\u001B[0m \u001B[43m)\u001B[49m\n",
      "Cell \u001B[1;32mIn[45], line 31\u001B[0m, in \u001B[0;36mtrain_model\u001B[1;34m(model, train_loader, eval_loader, optimizer, config, epochs)\u001B[0m\n\u001B[0;32m     28\u001B[0m \u001B[38;5;28;01mfor\u001B[39;00m epoch \u001B[38;5;129;01min\u001B[39;00m \u001B[38;5;28mrange\u001B[39m(epochs):\n\u001B[0;32m     29\u001B[0m     \u001B[38;5;28mprint\u001B[39m(\u001B[38;5;124mf\u001B[39m\u001B[38;5;124m\"\u001B[39m\u001B[38;5;124mEpoch \u001B[39m\u001B[38;5;132;01m{\u001B[39;00mepoch\u001B[38;5;250m \u001B[39m\u001B[38;5;241m+\u001B[39m\u001B[38;5;250m \u001B[39m\u001B[38;5;241m1\u001B[39m\u001B[38;5;132;01m}\u001B[39;00m\u001B[38;5;124m/\u001B[39m\u001B[38;5;132;01m{\u001B[39;00mepochs\u001B[38;5;132;01m}\u001B[39;00m\u001B[38;5;124m\"\u001B[39m)\n\u001B[1;32m---> 31\u001B[0m     train_loss: \u001B[38;5;28mfloat\u001B[39m \u001B[38;5;241m=\u001B[39m \u001B[43mrun_epoch\u001B[49m\u001B[43m(\u001B[49m\n\u001B[0;32m     32\u001B[0m \u001B[43m        \u001B[49m\u001B[43mmodel\u001B[49m\u001B[43m,\u001B[49m\u001B[43m \u001B[49m\n\u001B[0;32m     33\u001B[0m \u001B[43m        \u001B[49m\u001B[43mtrain_loader\u001B[49m\u001B[43m,\u001B[49m\u001B[43m \u001B[49m\n\u001B[0;32m     34\u001B[0m \u001B[43m        \u001B[49m\u001B[43moptimizer\u001B[49m\u001B[43m,\u001B[49m\u001B[43m \u001B[49m\n\u001B[0;32m     35\u001B[0m \u001B[43m        \u001B[49m\u001B[43mcriterion\u001B[49m\u001B[43m,\u001B[49m\u001B[43m \u001B[49m\n\u001B[0;32m     36\u001B[0m \u001B[43m        \u001B[49m\u001B[43mconfig\u001B[49m\u001B[38;5;241;43m.\u001B[39;49m\u001B[43mtorch_device\u001B[49m\u001B[43m,\u001B[49m\u001B[43m \u001B[49m\n\u001B[0;32m     37\u001B[0m \u001B[43m    \u001B[49m\u001B[43m)\u001B[49m\n\u001B[0;32m     38\u001B[0m     eval_loss: \u001B[38;5;28mfloat\u001B[39m \u001B[38;5;241m=\u001B[39m run_epoch(\n\u001B[0;32m     39\u001B[0m         model, \n\u001B[0;32m     40\u001B[0m         eval_loader, \n\u001B[1;32m   (...)\u001B[0m\n\u001B[0;32m     44\u001B[0m         training\u001B[38;5;241m=\u001B[39m\u001B[38;5;28;01mFalse\u001B[39;00m\n\u001B[0;32m     45\u001B[0m     )\n\u001B[0;32m     47\u001B[0m     \u001B[38;5;28mprint\u001B[39m(\u001B[38;5;124mf\u001B[39m\u001B[38;5;124m\"\u001B[39m\u001B[38;5;124mMean Training Loss: \u001B[39m\u001B[38;5;132;01m{\u001B[39;00mtrain_loss\u001B[38;5;132;01m}\u001B[39;00m\u001B[38;5;124m\"\u001B[39m)\n",
      "Cell \u001B[1;32mIn[45], line 71\u001B[0m, in \u001B[0;36mrun_epoch\u001B[1;34m(model, loader, optimizer, criterion, device, training)\u001B[0m\n\u001B[0;32m     65\u001B[0m input_ids, mask, labels \u001B[38;5;241m=\u001B[39m \u001B[38;5;28mtuple\u001B[39m([\n\u001B[0;32m     66\u001B[0m     batch[\u001B[38;5;124m\"\u001B[39m\u001B[38;5;124minput_ids\u001B[39m\u001B[38;5;124m\"\u001B[39m],\n\u001B[0;32m     67\u001B[0m     batch[\u001B[38;5;124m\"\u001B[39m\u001B[38;5;124mattention_mask\u001B[39m\u001B[38;5;124m\"\u001B[39m], \n\u001B[0;32m     68\u001B[0m     batch[\u001B[38;5;124m\"\u001B[39m\u001B[38;5;124mlabels\u001B[39m\u001B[38;5;124m\"\u001B[39m]\n\u001B[0;32m     69\u001B[0m ])\n\u001B[0;32m     70\u001B[0m optimizer\u001B[38;5;241m.\u001B[39mzero_grad()\n\u001B[1;32m---> 71\u001B[0m outputs \u001B[38;5;241m=\u001B[39m \u001B[43mmodel\u001B[49m\u001B[43m(\u001B[49m\u001B[43minput_ids\u001B[49m\u001B[38;5;241;43m=\u001B[39;49m\u001B[43minput_ids\u001B[49m\u001B[43m,\u001B[49m\u001B[43m \u001B[49m\u001B[43mattention_mask\u001B[49m\u001B[38;5;241;43m=\u001B[39;49m\u001B[43mmask\u001B[49m\u001B[43m)\u001B[49m\n\u001B[0;32m     72\u001B[0m loss \u001B[38;5;241m=\u001B[39m criterion(outputs, labels\u001B[38;5;241m.\u001B[39mfloat())\n\u001B[0;32m     73\u001B[0m \u001B[38;5;28;01mif\u001B[39;00m training:\n",
      "File \u001B[1;32m~\\workspace\\kaggle\\competitions\\learning-agency-lab-automated-essay-scoring-2\\.venv\\Lib\\site-packages\\torch\\nn\\modules\\module.py:1511\u001B[0m, in \u001B[0;36mModule._wrapped_call_impl\u001B[1;34m(self, *args, **kwargs)\u001B[0m\n\u001B[0;32m   1509\u001B[0m     \u001B[38;5;28;01mreturn\u001B[39;00m \u001B[38;5;28mself\u001B[39m\u001B[38;5;241m.\u001B[39m_compiled_call_impl(\u001B[38;5;241m*\u001B[39margs, \u001B[38;5;241m*\u001B[39m\u001B[38;5;241m*\u001B[39mkwargs)  \u001B[38;5;66;03m# type: ignore[misc]\u001B[39;00m\n\u001B[0;32m   1510\u001B[0m \u001B[38;5;28;01melse\u001B[39;00m:\n\u001B[1;32m-> 1511\u001B[0m     \u001B[38;5;28;01mreturn\u001B[39;00m \u001B[38;5;28;43mself\u001B[39;49m\u001B[38;5;241;43m.\u001B[39;49m\u001B[43m_call_impl\u001B[49m\u001B[43m(\u001B[49m\u001B[38;5;241;43m*\u001B[39;49m\u001B[43margs\u001B[49m\u001B[43m,\u001B[49m\u001B[43m \u001B[49m\u001B[38;5;241;43m*\u001B[39;49m\u001B[38;5;241;43m*\u001B[39;49m\u001B[43mkwargs\u001B[49m\u001B[43m)\u001B[49m\n",
      "File \u001B[1;32m~\\workspace\\kaggle\\competitions\\learning-agency-lab-automated-essay-scoring-2\\.venv\\Lib\\site-packages\\torch\\nn\\modules\\module.py:1520\u001B[0m, in \u001B[0;36mModule._call_impl\u001B[1;34m(self, *args, **kwargs)\u001B[0m\n\u001B[0;32m   1515\u001B[0m \u001B[38;5;66;03m# If we don't have any hooks, we want to skip the rest of the logic in\u001B[39;00m\n\u001B[0;32m   1516\u001B[0m \u001B[38;5;66;03m# this function, and just call forward.\u001B[39;00m\n\u001B[0;32m   1517\u001B[0m \u001B[38;5;28;01mif\u001B[39;00m \u001B[38;5;129;01mnot\u001B[39;00m (\u001B[38;5;28mself\u001B[39m\u001B[38;5;241m.\u001B[39m_backward_hooks \u001B[38;5;129;01mor\u001B[39;00m \u001B[38;5;28mself\u001B[39m\u001B[38;5;241m.\u001B[39m_backward_pre_hooks \u001B[38;5;129;01mor\u001B[39;00m \u001B[38;5;28mself\u001B[39m\u001B[38;5;241m.\u001B[39m_forward_hooks \u001B[38;5;129;01mor\u001B[39;00m \u001B[38;5;28mself\u001B[39m\u001B[38;5;241m.\u001B[39m_forward_pre_hooks\n\u001B[0;32m   1518\u001B[0m         \u001B[38;5;129;01mor\u001B[39;00m _global_backward_pre_hooks \u001B[38;5;129;01mor\u001B[39;00m _global_backward_hooks\n\u001B[0;32m   1519\u001B[0m         \u001B[38;5;129;01mor\u001B[39;00m _global_forward_hooks \u001B[38;5;129;01mor\u001B[39;00m _global_forward_pre_hooks):\n\u001B[1;32m-> 1520\u001B[0m     \u001B[38;5;28;01mreturn\u001B[39;00m \u001B[43mforward_call\u001B[49m\u001B[43m(\u001B[49m\u001B[38;5;241;43m*\u001B[39;49m\u001B[43margs\u001B[49m\u001B[43m,\u001B[49m\u001B[43m \u001B[49m\u001B[38;5;241;43m*\u001B[39;49m\u001B[38;5;241;43m*\u001B[39;49m\u001B[43mkwargs\u001B[49m\u001B[43m)\u001B[49m\n\u001B[0;32m   1522\u001B[0m \u001B[38;5;28;01mtry\u001B[39;00m:\n\u001B[0;32m   1523\u001B[0m     result \u001B[38;5;241m=\u001B[39m \u001B[38;5;28;01mNone\u001B[39;00m\n",
      "Cell \u001B[1;32mIn[36], line 12\u001B[0m, in \u001B[0;36mEncoderForOrdinalRegression.forward\u001B[1;34m(self, input_ids, attention_mask)\u001B[0m\n\u001B[0;32m     11\u001B[0m \u001B[38;5;28;01mdef\u001B[39;00m \u001B[38;5;21mforward\u001B[39m(\u001B[38;5;28mself\u001B[39m, input_ids, attention_mask):\n\u001B[1;32m---> 12\u001B[0m     outputs \u001B[38;5;241m=\u001B[39m \u001B[38;5;28;43mself\u001B[39;49m\u001B[38;5;241;43m.\u001B[39;49m\u001B[43mpretrained\u001B[49m\u001B[43m(\u001B[49m\n\u001B[0;32m     13\u001B[0m \u001B[43m        \u001B[49m\u001B[38;5;66;43;03m## deberta forward method that overrides the __call__\u001B[39;49;00m\n\u001B[0;32m     14\u001B[0m \u001B[43m        \u001B[49m\u001B[38;5;66;43;03m## https://huggingface.co/docs/transformers/v4.40.2/en/model_doc/deberta-v2#transformers.DebertaV2Model.forward\u001B[39;49;00m\n\u001B[0;32m     15\u001B[0m \u001B[43m        \u001B[49m\u001B[43minput_ids\u001B[49m\u001B[38;5;241;43m=\u001B[39;49m\u001B[43minput_ids\u001B[49m\u001B[43m,\u001B[49m\n\u001B[0;32m     16\u001B[0m \u001B[43m        \u001B[49m\u001B[43mattention_mask\u001B[49m\u001B[38;5;241;43m=\u001B[39;49m\u001B[43mattention_mask\u001B[49m\n\u001B[0;32m     17\u001B[0m \u001B[43m    \u001B[49m\u001B[43m)\u001B[49m\n\u001B[0;32m     18\u001B[0m     logits \u001B[38;5;241m=\u001B[39m \u001B[38;5;28mself\u001B[39m\u001B[38;5;241m.\u001B[39moutput_layer(\n\u001B[0;32m     19\u001B[0m         \u001B[38;5;66;03m# Only keeping the [CLS] token\u001B[39;00m\n\u001B[0;32m     20\u001B[0m         outputs\u001B[38;5;241m.\u001B[39mlast_hidden_state[:, \u001B[38;5;241m0\u001B[39m, :]\n\u001B[0;32m     21\u001B[0m     )\n\u001B[0;32m     22\u001B[0m     probs \u001B[38;5;241m=\u001B[39m torch\u001B[38;5;241m.\u001B[39msigmoid(logits)\n",
      "File \u001B[1;32m~\\workspace\\kaggle\\competitions\\learning-agency-lab-automated-essay-scoring-2\\.venv\\Lib\\site-packages\\torch\\nn\\modules\\module.py:1511\u001B[0m, in \u001B[0;36mModule._wrapped_call_impl\u001B[1;34m(self, *args, **kwargs)\u001B[0m\n\u001B[0;32m   1509\u001B[0m     \u001B[38;5;28;01mreturn\u001B[39;00m \u001B[38;5;28mself\u001B[39m\u001B[38;5;241m.\u001B[39m_compiled_call_impl(\u001B[38;5;241m*\u001B[39margs, \u001B[38;5;241m*\u001B[39m\u001B[38;5;241m*\u001B[39mkwargs)  \u001B[38;5;66;03m# type: ignore[misc]\u001B[39;00m\n\u001B[0;32m   1510\u001B[0m \u001B[38;5;28;01melse\u001B[39;00m:\n\u001B[1;32m-> 1511\u001B[0m     \u001B[38;5;28;01mreturn\u001B[39;00m \u001B[38;5;28;43mself\u001B[39;49m\u001B[38;5;241;43m.\u001B[39;49m\u001B[43m_call_impl\u001B[49m\u001B[43m(\u001B[49m\u001B[38;5;241;43m*\u001B[39;49m\u001B[43margs\u001B[49m\u001B[43m,\u001B[49m\u001B[43m \u001B[49m\u001B[38;5;241;43m*\u001B[39;49m\u001B[38;5;241;43m*\u001B[39;49m\u001B[43mkwargs\u001B[49m\u001B[43m)\u001B[49m\n",
      "File \u001B[1;32m~\\workspace\\kaggle\\competitions\\learning-agency-lab-automated-essay-scoring-2\\.venv\\Lib\\site-packages\\torch\\nn\\modules\\module.py:1520\u001B[0m, in \u001B[0;36mModule._call_impl\u001B[1;34m(self, *args, **kwargs)\u001B[0m\n\u001B[0;32m   1515\u001B[0m \u001B[38;5;66;03m# If we don't have any hooks, we want to skip the rest of the logic in\u001B[39;00m\n\u001B[0;32m   1516\u001B[0m \u001B[38;5;66;03m# this function, and just call forward.\u001B[39;00m\n\u001B[0;32m   1517\u001B[0m \u001B[38;5;28;01mif\u001B[39;00m \u001B[38;5;129;01mnot\u001B[39;00m (\u001B[38;5;28mself\u001B[39m\u001B[38;5;241m.\u001B[39m_backward_hooks \u001B[38;5;129;01mor\u001B[39;00m \u001B[38;5;28mself\u001B[39m\u001B[38;5;241m.\u001B[39m_backward_pre_hooks \u001B[38;5;129;01mor\u001B[39;00m \u001B[38;5;28mself\u001B[39m\u001B[38;5;241m.\u001B[39m_forward_hooks \u001B[38;5;129;01mor\u001B[39;00m \u001B[38;5;28mself\u001B[39m\u001B[38;5;241m.\u001B[39m_forward_pre_hooks\n\u001B[0;32m   1518\u001B[0m         \u001B[38;5;129;01mor\u001B[39;00m _global_backward_pre_hooks \u001B[38;5;129;01mor\u001B[39;00m _global_backward_hooks\n\u001B[0;32m   1519\u001B[0m         \u001B[38;5;129;01mor\u001B[39;00m _global_forward_hooks \u001B[38;5;129;01mor\u001B[39;00m _global_forward_pre_hooks):\n\u001B[1;32m-> 1520\u001B[0m     \u001B[38;5;28;01mreturn\u001B[39;00m \u001B[43mforward_call\u001B[49m\u001B[43m(\u001B[49m\u001B[38;5;241;43m*\u001B[39;49m\u001B[43margs\u001B[49m\u001B[43m,\u001B[49m\u001B[43m \u001B[49m\u001B[38;5;241;43m*\u001B[39;49m\u001B[38;5;241;43m*\u001B[39;49m\u001B[43mkwargs\u001B[49m\u001B[43m)\u001B[49m\n\u001B[0;32m   1522\u001B[0m \u001B[38;5;28;01mtry\u001B[39;00m:\n\u001B[0;32m   1523\u001B[0m     result \u001B[38;5;241m=\u001B[39m \u001B[38;5;28;01mNone\u001B[39;00m\n",
      "File \u001B[1;32m~\\workspace\\kaggle\\competitions\\learning-agency-lab-automated-essay-scoring-2\\.venv\\Lib\\site-packages\\transformers\\models\\deberta_v2\\modeling_deberta_v2.py:1066\u001B[0m, in \u001B[0;36mDebertaV2Model.forward\u001B[1;34m(self, input_ids, attention_mask, token_type_ids, position_ids, inputs_embeds, output_attentions, output_hidden_states, return_dict)\u001B[0m\n\u001B[0;32m   1056\u001B[0m     token_type_ids \u001B[38;5;241m=\u001B[39m torch\u001B[38;5;241m.\u001B[39mzeros(input_shape, dtype\u001B[38;5;241m=\u001B[39mtorch\u001B[38;5;241m.\u001B[39mlong, device\u001B[38;5;241m=\u001B[39mdevice)\n\u001B[0;32m   1058\u001B[0m embedding_output \u001B[38;5;241m=\u001B[39m \u001B[38;5;28mself\u001B[39m\u001B[38;5;241m.\u001B[39membeddings(\n\u001B[0;32m   1059\u001B[0m     input_ids\u001B[38;5;241m=\u001B[39minput_ids,\n\u001B[0;32m   1060\u001B[0m     token_type_ids\u001B[38;5;241m=\u001B[39mtoken_type_ids,\n\u001B[1;32m   (...)\u001B[0m\n\u001B[0;32m   1063\u001B[0m     inputs_embeds\u001B[38;5;241m=\u001B[39minputs_embeds,\n\u001B[0;32m   1064\u001B[0m )\n\u001B[1;32m-> 1066\u001B[0m encoder_outputs \u001B[38;5;241m=\u001B[39m \u001B[38;5;28;43mself\u001B[39;49m\u001B[38;5;241;43m.\u001B[39;49m\u001B[43mencoder\u001B[49m\u001B[43m(\u001B[49m\n\u001B[0;32m   1067\u001B[0m \u001B[43m    \u001B[49m\u001B[43membedding_output\u001B[49m\u001B[43m,\u001B[49m\n\u001B[0;32m   1068\u001B[0m \u001B[43m    \u001B[49m\u001B[43mattention_mask\u001B[49m\u001B[43m,\u001B[49m\n\u001B[0;32m   1069\u001B[0m \u001B[43m    \u001B[49m\u001B[43moutput_hidden_states\u001B[49m\u001B[38;5;241;43m=\u001B[39;49m\u001B[38;5;28;43;01mTrue\u001B[39;49;00m\u001B[43m,\u001B[49m\n\u001B[0;32m   1070\u001B[0m \u001B[43m    \u001B[49m\u001B[43moutput_attentions\u001B[49m\u001B[38;5;241;43m=\u001B[39;49m\u001B[43moutput_attentions\u001B[49m\u001B[43m,\u001B[49m\n\u001B[0;32m   1071\u001B[0m \u001B[43m    \u001B[49m\u001B[43mreturn_dict\u001B[49m\u001B[38;5;241;43m=\u001B[39;49m\u001B[43mreturn_dict\u001B[49m\u001B[43m,\u001B[49m\n\u001B[0;32m   1072\u001B[0m \u001B[43m\u001B[49m\u001B[43m)\u001B[49m\n\u001B[0;32m   1073\u001B[0m encoded_layers \u001B[38;5;241m=\u001B[39m encoder_outputs[\u001B[38;5;241m1\u001B[39m]\n\u001B[0;32m   1075\u001B[0m \u001B[38;5;28;01mif\u001B[39;00m \u001B[38;5;28mself\u001B[39m\u001B[38;5;241m.\u001B[39mz_steps \u001B[38;5;241m>\u001B[39m \u001B[38;5;241m1\u001B[39m:\n",
      "File \u001B[1;32m~\\workspace\\kaggle\\competitions\\learning-agency-lab-automated-essay-scoring-2\\.venv\\Lib\\site-packages\\torch\\nn\\modules\\module.py:1511\u001B[0m, in \u001B[0;36mModule._wrapped_call_impl\u001B[1;34m(self, *args, **kwargs)\u001B[0m\n\u001B[0;32m   1509\u001B[0m     \u001B[38;5;28;01mreturn\u001B[39;00m \u001B[38;5;28mself\u001B[39m\u001B[38;5;241m.\u001B[39m_compiled_call_impl(\u001B[38;5;241m*\u001B[39margs, \u001B[38;5;241m*\u001B[39m\u001B[38;5;241m*\u001B[39mkwargs)  \u001B[38;5;66;03m# type: ignore[misc]\u001B[39;00m\n\u001B[0;32m   1510\u001B[0m \u001B[38;5;28;01melse\u001B[39;00m:\n\u001B[1;32m-> 1511\u001B[0m     \u001B[38;5;28;01mreturn\u001B[39;00m \u001B[38;5;28;43mself\u001B[39;49m\u001B[38;5;241;43m.\u001B[39;49m\u001B[43m_call_impl\u001B[49m\u001B[43m(\u001B[49m\u001B[38;5;241;43m*\u001B[39;49m\u001B[43margs\u001B[49m\u001B[43m,\u001B[49m\u001B[43m \u001B[49m\u001B[38;5;241;43m*\u001B[39;49m\u001B[38;5;241;43m*\u001B[39;49m\u001B[43mkwargs\u001B[49m\u001B[43m)\u001B[49m\n",
      "File \u001B[1;32m~\\workspace\\kaggle\\competitions\\learning-agency-lab-automated-essay-scoring-2\\.venv\\Lib\\site-packages\\torch\\nn\\modules\\module.py:1520\u001B[0m, in \u001B[0;36mModule._call_impl\u001B[1;34m(self, *args, **kwargs)\u001B[0m\n\u001B[0;32m   1515\u001B[0m \u001B[38;5;66;03m# If we don't have any hooks, we want to skip the rest of the logic in\u001B[39;00m\n\u001B[0;32m   1516\u001B[0m \u001B[38;5;66;03m# this function, and just call forward.\u001B[39;00m\n\u001B[0;32m   1517\u001B[0m \u001B[38;5;28;01mif\u001B[39;00m \u001B[38;5;129;01mnot\u001B[39;00m (\u001B[38;5;28mself\u001B[39m\u001B[38;5;241m.\u001B[39m_backward_hooks \u001B[38;5;129;01mor\u001B[39;00m \u001B[38;5;28mself\u001B[39m\u001B[38;5;241m.\u001B[39m_backward_pre_hooks \u001B[38;5;129;01mor\u001B[39;00m \u001B[38;5;28mself\u001B[39m\u001B[38;5;241m.\u001B[39m_forward_hooks \u001B[38;5;129;01mor\u001B[39;00m \u001B[38;5;28mself\u001B[39m\u001B[38;5;241m.\u001B[39m_forward_pre_hooks\n\u001B[0;32m   1518\u001B[0m         \u001B[38;5;129;01mor\u001B[39;00m _global_backward_pre_hooks \u001B[38;5;129;01mor\u001B[39;00m _global_backward_hooks\n\u001B[0;32m   1519\u001B[0m         \u001B[38;5;129;01mor\u001B[39;00m _global_forward_hooks \u001B[38;5;129;01mor\u001B[39;00m _global_forward_pre_hooks):\n\u001B[1;32m-> 1520\u001B[0m     \u001B[38;5;28;01mreturn\u001B[39;00m \u001B[43mforward_call\u001B[49m\u001B[43m(\u001B[49m\u001B[38;5;241;43m*\u001B[39;49m\u001B[43margs\u001B[49m\u001B[43m,\u001B[49m\u001B[43m \u001B[49m\u001B[38;5;241;43m*\u001B[39;49m\u001B[38;5;241;43m*\u001B[39;49m\u001B[43mkwargs\u001B[49m\u001B[43m)\u001B[49m\n\u001B[0;32m   1522\u001B[0m \u001B[38;5;28;01mtry\u001B[39;00m:\n\u001B[0;32m   1523\u001B[0m     result \u001B[38;5;241m=\u001B[39m \u001B[38;5;28;01mNone\u001B[39;00m\n",
      "File \u001B[1;32m~\\workspace\\kaggle\\competitions\\learning-agency-lab-automated-essay-scoring-2\\.venv\\Lib\\site-packages\\transformers\\models\\deberta_v2\\modeling_deberta_v2.py:510\u001B[0m, in \u001B[0;36mDebertaV2Encoder.forward\u001B[1;34m(self, hidden_states, attention_mask, output_hidden_states, output_attentions, query_states, relative_pos, return_dict)\u001B[0m\n\u001B[0;32m    500\u001B[0m     output_states \u001B[38;5;241m=\u001B[39m \u001B[38;5;28mself\u001B[39m\u001B[38;5;241m.\u001B[39m_gradient_checkpointing_func(\n\u001B[0;32m    501\u001B[0m         layer_module\u001B[38;5;241m.\u001B[39m\u001B[38;5;21m__call__\u001B[39m,\n\u001B[0;32m    502\u001B[0m         next_kv,\n\u001B[1;32m   (...)\u001B[0m\n\u001B[0;32m    507\u001B[0m         output_attentions,\n\u001B[0;32m    508\u001B[0m     )\n\u001B[0;32m    509\u001B[0m \u001B[38;5;28;01melse\u001B[39;00m:\n\u001B[1;32m--> 510\u001B[0m     output_states \u001B[38;5;241m=\u001B[39m \u001B[43mlayer_module\u001B[49m\u001B[43m(\u001B[49m\n\u001B[0;32m    511\u001B[0m \u001B[43m        \u001B[49m\u001B[43mnext_kv\u001B[49m\u001B[43m,\u001B[49m\n\u001B[0;32m    512\u001B[0m \u001B[43m        \u001B[49m\u001B[43mattention_mask\u001B[49m\u001B[43m,\u001B[49m\n\u001B[0;32m    513\u001B[0m \u001B[43m        \u001B[49m\u001B[43mquery_states\u001B[49m\u001B[38;5;241;43m=\u001B[39;49m\u001B[43mquery_states\u001B[49m\u001B[43m,\u001B[49m\n\u001B[0;32m    514\u001B[0m \u001B[43m        \u001B[49m\u001B[43mrelative_pos\u001B[49m\u001B[38;5;241;43m=\u001B[39;49m\u001B[43mrelative_pos\u001B[49m\u001B[43m,\u001B[49m\n\u001B[0;32m    515\u001B[0m \u001B[43m        \u001B[49m\u001B[43mrel_embeddings\u001B[49m\u001B[38;5;241;43m=\u001B[39;49m\u001B[43mrel_embeddings\u001B[49m\u001B[43m,\u001B[49m\n\u001B[0;32m    516\u001B[0m \u001B[43m        \u001B[49m\u001B[43moutput_attentions\u001B[49m\u001B[38;5;241;43m=\u001B[39;49m\u001B[43moutput_attentions\u001B[49m\u001B[43m,\u001B[49m\n\u001B[0;32m    517\u001B[0m \u001B[43m    \u001B[49m\u001B[43m)\u001B[49m\n\u001B[0;32m    519\u001B[0m \u001B[38;5;28;01mif\u001B[39;00m output_attentions:\n\u001B[0;32m    520\u001B[0m     output_states, att_m \u001B[38;5;241m=\u001B[39m output_states\n",
      "File \u001B[1;32m~\\workspace\\kaggle\\competitions\\learning-agency-lab-automated-essay-scoring-2\\.venv\\Lib\\site-packages\\torch\\nn\\modules\\module.py:1511\u001B[0m, in \u001B[0;36mModule._wrapped_call_impl\u001B[1;34m(self, *args, **kwargs)\u001B[0m\n\u001B[0;32m   1509\u001B[0m     \u001B[38;5;28;01mreturn\u001B[39;00m \u001B[38;5;28mself\u001B[39m\u001B[38;5;241m.\u001B[39m_compiled_call_impl(\u001B[38;5;241m*\u001B[39margs, \u001B[38;5;241m*\u001B[39m\u001B[38;5;241m*\u001B[39mkwargs)  \u001B[38;5;66;03m# type: ignore[misc]\u001B[39;00m\n\u001B[0;32m   1510\u001B[0m \u001B[38;5;28;01melse\u001B[39;00m:\n\u001B[1;32m-> 1511\u001B[0m     \u001B[38;5;28;01mreturn\u001B[39;00m \u001B[38;5;28;43mself\u001B[39;49m\u001B[38;5;241;43m.\u001B[39;49m\u001B[43m_call_impl\u001B[49m\u001B[43m(\u001B[49m\u001B[38;5;241;43m*\u001B[39;49m\u001B[43margs\u001B[49m\u001B[43m,\u001B[49m\u001B[43m \u001B[49m\u001B[38;5;241;43m*\u001B[39;49m\u001B[38;5;241;43m*\u001B[39;49m\u001B[43mkwargs\u001B[49m\u001B[43m)\u001B[49m\n",
      "File \u001B[1;32m~\\workspace\\kaggle\\competitions\\learning-agency-lab-automated-essay-scoring-2\\.venv\\Lib\\site-packages\\torch\\nn\\modules\\module.py:1520\u001B[0m, in \u001B[0;36mModule._call_impl\u001B[1;34m(self, *args, **kwargs)\u001B[0m\n\u001B[0;32m   1515\u001B[0m \u001B[38;5;66;03m# If we don't have any hooks, we want to skip the rest of the logic in\u001B[39;00m\n\u001B[0;32m   1516\u001B[0m \u001B[38;5;66;03m# this function, and just call forward.\u001B[39;00m\n\u001B[0;32m   1517\u001B[0m \u001B[38;5;28;01mif\u001B[39;00m \u001B[38;5;129;01mnot\u001B[39;00m (\u001B[38;5;28mself\u001B[39m\u001B[38;5;241m.\u001B[39m_backward_hooks \u001B[38;5;129;01mor\u001B[39;00m \u001B[38;5;28mself\u001B[39m\u001B[38;5;241m.\u001B[39m_backward_pre_hooks \u001B[38;5;129;01mor\u001B[39;00m \u001B[38;5;28mself\u001B[39m\u001B[38;5;241m.\u001B[39m_forward_hooks \u001B[38;5;129;01mor\u001B[39;00m \u001B[38;5;28mself\u001B[39m\u001B[38;5;241m.\u001B[39m_forward_pre_hooks\n\u001B[0;32m   1518\u001B[0m         \u001B[38;5;129;01mor\u001B[39;00m _global_backward_pre_hooks \u001B[38;5;129;01mor\u001B[39;00m _global_backward_hooks\n\u001B[0;32m   1519\u001B[0m         \u001B[38;5;129;01mor\u001B[39;00m _global_forward_hooks \u001B[38;5;129;01mor\u001B[39;00m _global_forward_pre_hooks):\n\u001B[1;32m-> 1520\u001B[0m     \u001B[38;5;28;01mreturn\u001B[39;00m \u001B[43mforward_call\u001B[49m\u001B[43m(\u001B[49m\u001B[38;5;241;43m*\u001B[39;49m\u001B[43margs\u001B[49m\u001B[43m,\u001B[49m\u001B[43m \u001B[49m\u001B[38;5;241;43m*\u001B[39;49m\u001B[38;5;241;43m*\u001B[39;49m\u001B[43mkwargs\u001B[49m\u001B[43m)\u001B[49m\n\u001B[0;32m   1522\u001B[0m \u001B[38;5;28;01mtry\u001B[39;00m:\n\u001B[0;32m   1523\u001B[0m     result \u001B[38;5;241m=\u001B[39m \u001B[38;5;28;01mNone\u001B[39;00m\n",
      "File \u001B[1;32m~\\workspace\\kaggle\\competitions\\learning-agency-lab-automated-essay-scoring-2\\.venv\\Lib\\site-packages\\transformers\\models\\deberta_v2\\modeling_deberta_v2.py:358\u001B[0m, in \u001B[0;36mDebertaV2Layer.forward\u001B[1;34m(self, hidden_states, attention_mask, query_states, relative_pos, rel_embeddings, output_attentions)\u001B[0m\n\u001B[0;32m    349\u001B[0m \u001B[38;5;28;01mdef\u001B[39;00m \u001B[38;5;21mforward\u001B[39m(\n\u001B[0;32m    350\u001B[0m     \u001B[38;5;28mself\u001B[39m,\n\u001B[0;32m    351\u001B[0m     hidden_states,\n\u001B[1;32m   (...)\u001B[0m\n\u001B[0;32m    356\u001B[0m     output_attentions\u001B[38;5;241m=\u001B[39m\u001B[38;5;28;01mFalse\u001B[39;00m,\n\u001B[0;32m    357\u001B[0m ):\n\u001B[1;32m--> 358\u001B[0m     attention_output \u001B[38;5;241m=\u001B[39m \u001B[38;5;28;43mself\u001B[39;49m\u001B[38;5;241;43m.\u001B[39;49m\u001B[43mattention\u001B[49m\u001B[43m(\u001B[49m\n\u001B[0;32m    359\u001B[0m \u001B[43m        \u001B[49m\u001B[43mhidden_states\u001B[49m\u001B[43m,\u001B[49m\n\u001B[0;32m    360\u001B[0m \u001B[43m        \u001B[49m\u001B[43mattention_mask\u001B[49m\u001B[43m,\u001B[49m\n\u001B[0;32m    361\u001B[0m \u001B[43m        \u001B[49m\u001B[43moutput_attentions\u001B[49m\u001B[38;5;241;43m=\u001B[39;49m\u001B[43moutput_attentions\u001B[49m\u001B[43m,\u001B[49m\n\u001B[0;32m    362\u001B[0m \u001B[43m        \u001B[49m\u001B[43mquery_states\u001B[49m\u001B[38;5;241;43m=\u001B[39;49m\u001B[43mquery_states\u001B[49m\u001B[43m,\u001B[49m\n\u001B[0;32m    363\u001B[0m \u001B[43m        \u001B[49m\u001B[43mrelative_pos\u001B[49m\u001B[38;5;241;43m=\u001B[39;49m\u001B[43mrelative_pos\u001B[49m\u001B[43m,\u001B[49m\n\u001B[0;32m    364\u001B[0m \u001B[43m        \u001B[49m\u001B[43mrel_embeddings\u001B[49m\u001B[38;5;241;43m=\u001B[39;49m\u001B[43mrel_embeddings\u001B[49m\u001B[43m,\u001B[49m\n\u001B[0;32m    365\u001B[0m \u001B[43m    \u001B[49m\u001B[43m)\u001B[49m\n\u001B[0;32m    366\u001B[0m     \u001B[38;5;28;01mif\u001B[39;00m output_attentions:\n\u001B[0;32m    367\u001B[0m         attention_output, att_matrix \u001B[38;5;241m=\u001B[39m attention_output\n",
      "File \u001B[1;32m~\\workspace\\kaggle\\competitions\\learning-agency-lab-automated-essay-scoring-2\\.venv\\Lib\\site-packages\\torch\\nn\\modules\\module.py:1511\u001B[0m, in \u001B[0;36mModule._wrapped_call_impl\u001B[1;34m(self, *args, **kwargs)\u001B[0m\n\u001B[0;32m   1509\u001B[0m     \u001B[38;5;28;01mreturn\u001B[39;00m \u001B[38;5;28mself\u001B[39m\u001B[38;5;241m.\u001B[39m_compiled_call_impl(\u001B[38;5;241m*\u001B[39margs, \u001B[38;5;241m*\u001B[39m\u001B[38;5;241m*\u001B[39mkwargs)  \u001B[38;5;66;03m# type: ignore[misc]\u001B[39;00m\n\u001B[0;32m   1510\u001B[0m \u001B[38;5;28;01melse\u001B[39;00m:\n\u001B[1;32m-> 1511\u001B[0m     \u001B[38;5;28;01mreturn\u001B[39;00m \u001B[38;5;28;43mself\u001B[39;49m\u001B[38;5;241;43m.\u001B[39;49m\u001B[43m_call_impl\u001B[49m\u001B[43m(\u001B[49m\u001B[38;5;241;43m*\u001B[39;49m\u001B[43margs\u001B[49m\u001B[43m,\u001B[49m\u001B[43m \u001B[49m\u001B[38;5;241;43m*\u001B[39;49m\u001B[38;5;241;43m*\u001B[39;49m\u001B[43mkwargs\u001B[49m\u001B[43m)\u001B[49m\n",
      "File \u001B[1;32m~\\workspace\\kaggle\\competitions\\learning-agency-lab-automated-essay-scoring-2\\.venv\\Lib\\site-packages\\torch\\nn\\modules\\module.py:1520\u001B[0m, in \u001B[0;36mModule._call_impl\u001B[1;34m(self, *args, **kwargs)\u001B[0m\n\u001B[0;32m   1515\u001B[0m \u001B[38;5;66;03m# If we don't have any hooks, we want to skip the rest of the logic in\u001B[39;00m\n\u001B[0;32m   1516\u001B[0m \u001B[38;5;66;03m# this function, and just call forward.\u001B[39;00m\n\u001B[0;32m   1517\u001B[0m \u001B[38;5;28;01mif\u001B[39;00m \u001B[38;5;129;01mnot\u001B[39;00m (\u001B[38;5;28mself\u001B[39m\u001B[38;5;241m.\u001B[39m_backward_hooks \u001B[38;5;129;01mor\u001B[39;00m \u001B[38;5;28mself\u001B[39m\u001B[38;5;241m.\u001B[39m_backward_pre_hooks \u001B[38;5;129;01mor\u001B[39;00m \u001B[38;5;28mself\u001B[39m\u001B[38;5;241m.\u001B[39m_forward_hooks \u001B[38;5;129;01mor\u001B[39;00m \u001B[38;5;28mself\u001B[39m\u001B[38;5;241m.\u001B[39m_forward_pre_hooks\n\u001B[0;32m   1518\u001B[0m         \u001B[38;5;129;01mor\u001B[39;00m _global_backward_pre_hooks \u001B[38;5;129;01mor\u001B[39;00m _global_backward_hooks\n\u001B[0;32m   1519\u001B[0m         \u001B[38;5;129;01mor\u001B[39;00m _global_forward_hooks \u001B[38;5;129;01mor\u001B[39;00m _global_forward_pre_hooks):\n\u001B[1;32m-> 1520\u001B[0m     \u001B[38;5;28;01mreturn\u001B[39;00m \u001B[43mforward_call\u001B[49m\u001B[43m(\u001B[49m\u001B[38;5;241;43m*\u001B[39;49m\u001B[43margs\u001B[49m\u001B[43m,\u001B[49m\u001B[43m \u001B[49m\u001B[38;5;241;43m*\u001B[39;49m\u001B[38;5;241;43m*\u001B[39;49m\u001B[43mkwargs\u001B[49m\u001B[43m)\u001B[49m\n\u001B[0;32m   1522\u001B[0m \u001B[38;5;28;01mtry\u001B[39;00m:\n\u001B[0;32m   1523\u001B[0m     result \u001B[38;5;241m=\u001B[39m \u001B[38;5;28;01mNone\u001B[39;00m\n",
      "File \u001B[1;32m~\\workspace\\kaggle\\competitions\\learning-agency-lab-automated-essay-scoring-2\\.venv\\Lib\\site-packages\\transformers\\models\\deberta_v2\\modeling_deberta_v2.py:289\u001B[0m, in \u001B[0;36mDebertaV2Attention.forward\u001B[1;34m(self, hidden_states, attention_mask, output_attentions, query_states, relative_pos, rel_embeddings)\u001B[0m\n\u001B[0;32m    280\u001B[0m \u001B[38;5;28;01mdef\u001B[39;00m \u001B[38;5;21mforward\u001B[39m(\n\u001B[0;32m    281\u001B[0m     \u001B[38;5;28mself\u001B[39m,\n\u001B[0;32m    282\u001B[0m     hidden_states,\n\u001B[1;32m   (...)\u001B[0m\n\u001B[0;32m    287\u001B[0m     rel_embeddings\u001B[38;5;241m=\u001B[39m\u001B[38;5;28;01mNone\u001B[39;00m,\n\u001B[0;32m    288\u001B[0m ):\n\u001B[1;32m--> 289\u001B[0m     self_output \u001B[38;5;241m=\u001B[39m \u001B[38;5;28;43mself\u001B[39;49m\u001B[38;5;241;43m.\u001B[39;49m\u001B[43mself\u001B[49m\u001B[43m(\u001B[49m\n\u001B[0;32m    290\u001B[0m \u001B[43m        \u001B[49m\u001B[43mhidden_states\u001B[49m\u001B[43m,\u001B[49m\n\u001B[0;32m    291\u001B[0m \u001B[43m        \u001B[49m\u001B[43mattention_mask\u001B[49m\u001B[43m,\u001B[49m\n\u001B[0;32m    292\u001B[0m \u001B[43m        \u001B[49m\u001B[43moutput_attentions\u001B[49m\u001B[43m,\u001B[49m\n\u001B[0;32m    293\u001B[0m \u001B[43m        \u001B[49m\u001B[43mquery_states\u001B[49m\u001B[38;5;241;43m=\u001B[39;49m\u001B[43mquery_states\u001B[49m\u001B[43m,\u001B[49m\n\u001B[0;32m    294\u001B[0m \u001B[43m        \u001B[49m\u001B[43mrelative_pos\u001B[49m\u001B[38;5;241;43m=\u001B[39;49m\u001B[43mrelative_pos\u001B[49m\u001B[43m,\u001B[49m\n\u001B[0;32m    295\u001B[0m \u001B[43m        \u001B[49m\u001B[43mrel_embeddings\u001B[49m\u001B[38;5;241;43m=\u001B[39;49m\u001B[43mrel_embeddings\u001B[49m\u001B[43m,\u001B[49m\n\u001B[0;32m    296\u001B[0m \u001B[43m    \u001B[49m\u001B[43m)\u001B[49m\n\u001B[0;32m    297\u001B[0m     \u001B[38;5;28;01mif\u001B[39;00m output_attentions:\n\u001B[0;32m    298\u001B[0m         self_output, att_matrix \u001B[38;5;241m=\u001B[39m self_output\n",
      "File \u001B[1;32m~\\workspace\\kaggle\\competitions\\learning-agency-lab-automated-essay-scoring-2\\.venv\\Lib\\site-packages\\torch\\nn\\modules\\module.py:1511\u001B[0m, in \u001B[0;36mModule._wrapped_call_impl\u001B[1;34m(self, *args, **kwargs)\u001B[0m\n\u001B[0;32m   1509\u001B[0m     \u001B[38;5;28;01mreturn\u001B[39;00m \u001B[38;5;28mself\u001B[39m\u001B[38;5;241m.\u001B[39m_compiled_call_impl(\u001B[38;5;241m*\u001B[39margs, \u001B[38;5;241m*\u001B[39m\u001B[38;5;241m*\u001B[39mkwargs)  \u001B[38;5;66;03m# type: ignore[misc]\u001B[39;00m\n\u001B[0;32m   1510\u001B[0m \u001B[38;5;28;01melse\u001B[39;00m:\n\u001B[1;32m-> 1511\u001B[0m     \u001B[38;5;28;01mreturn\u001B[39;00m \u001B[38;5;28;43mself\u001B[39;49m\u001B[38;5;241;43m.\u001B[39;49m\u001B[43m_call_impl\u001B[49m\u001B[43m(\u001B[49m\u001B[38;5;241;43m*\u001B[39;49m\u001B[43margs\u001B[49m\u001B[43m,\u001B[49m\u001B[43m \u001B[49m\u001B[38;5;241;43m*\u001B[39;49m\u001B[38;5;241;43m*\u001B[39;49m\u001B[43mkwargs\u001B[49m\u001B[43m)\u001B[49m\n",
      "File \u001B[1;32m~\\workspace\\kaggle\\competitions\\learning-agency-lab-automated-essay-scoring-2\\.venv\\Lib\\site-packages\\torch\\nn\\modules\\module.py:1520\u001B[0m, in \u001B[0;36mModule._call_impl\u001B[1;34m(self, *args, **kwargs)\u001B[0m\n\u001B[0;32m   1515\u001B[0m \u001B[38;5;66;03m# If we don't have any hooks, we want to skip the rest of the logic in\u001B[39;00m\n\u001B[0;32m   1516\u001B[0m \u001B[38;5;66;03m# this function, and just call forward.\u001B[39;00m\n\u001B[0;32m   1517\u001B[0m \u001B[38;5;28;01mif\u001B[39;00m \u001B[38;5;129;01mnot\u001B[39;00m (\u001B[38;5;28mself\u001B[39m\u001B[38;5;241m.\u001B[39m_backward_hooks \u001B[38;5;129;01mor\u001B[39;00m \u001B[38;5;28mself\u001B[39m\u001B[38;5;241m.\u001B[39m_backward_pre_hooks \u001B[38;5;129;01mor\u001B[39;00m \u001B[38;5;28mself\u001B[39m\u001B[38;5;241m.\u001B[39m_forward_hooks \u001B[38;5;129;01mor\u001B[39;00m \u001B[38;5;28mself\u001B[39m\u001B[38;5;241m.\u001B[39m_forward_pre_hooks\n\u001B[0;32m   1518\u001B[0m         \u001B[38;5;129;01mor\u001B[39;00m _global_backward_pre_hooks \u001B[38;5;129;01mor\u001B[39;00m _global_backward_hooks\n\u001B[0;32m   1519\u001B[0m         \u001B[38;5;129;01mor\u001B[39;00m _global_forward_hooks \u001B[38;5;129;01mor\u001B[39;00m _global_forward_pre_hooks):\n\u001B[1;32m-> 1520\u001B[0m     \u001B[38;5;28;01mreturn\u001B[39;00m \u001B[43mforward_call\u001B[49m\u001B[43m(\u001B[49m\u001B[38;5;241;43m*\u001B[39;49m\u001B[43margs\u001B[49m\u001B[43m,\u001B[49m\u001B[43m \u001B[49m\u001B[38;5;241;43m*\u001B[39;49m\u001B[38;5;241;43m*\u001B[39;49m\u001B[43mkwargs\u001B[49m\u001B[43m)\u001B[49m\n\u001B[0;32m   1522\u001B[0m \u001B[38;5;28;01mtry\u001B[39;00m:\n\u001B[0;32m   1523\u001B[0m     result \u001B[38;5;241m=\u001B[39m \u001B[38;5;28;01mNone\u001B[39;00m\n",
      "File \u001B[1;32m~\\workspace\\kaggle\\competitions\\learning-agency-lab-automated-essay-scoring-2\\.venv\\Lib\\site-packages\\transformers\\models\\deberta_v2\\modeling_deberta_v2.py:717\u001B[0m, in \u001B[0;36mDisentangledSelfAttention.forward\u001B[1;34m(self, hidden_states, attention_mask, output_attentions, query_states, relative_pos, rel_embeddings)\u001B[0m\n\u001B[0;32m    715\u001B[0m \u001B[38;5;28;01mif\u001B[39;00m \u001B[38;5;28mself\u001B[39m\u001B[38;5;241m.\u001B[39mrelative_attention:\n\u001B[0;32m    716\u001B[0m     rel_embeddings \u001B[38;5;241m=\u001B[39m \u001B[38;5;28mself\u001B[39m\u001B[38;5;241m.\u001B[39mpos_dropout(rel_embeddings)\n\u001B[1;32m--> 717\u001B[0m     rel_att \u001B[38;5;241m=\u001B[39m \u001B[38;5;28;43mself\u001B[39;49m\u001B[38;5;241;43m.\u001B[39;49m\u001B[43mdisentangled_attention_bias\u001B[49m\u001B[43m(\u001B[49m\n\u001B[0;32m    718\u001B[0m \u001B[43m        \u001B[49m\u001B[43mquery_layer\u001B[49m\u001B[43m,\u001B[49m\u001B[43m \u001B[49m\u001B[43mkey_layer\u001B[49m\u001B[43m,\u001B[49m\u001B[43m \u001B[49m\u001B[43mrelative_pos\u001B[49m\u001B[43m,\u001B[49m\u001B[43m \u001B[49m\u001B[43mrel_embeddings\u001B[49m\u001B[43m,\u001B[49m\u001B[43m \u001B[49m\u001B[43mscale_factor\u001B[49m\n\u001B[0;32m    719\u001B[0m \u001B[43m    \u001B[49m\u001B[43m)\u001B[49m\n\u001B[0;32m    721\u001B[0m \u001B[38;5;28;01mif\u001B[39;00m rel_att \u001B[38;5;129;01mis\u001B[39;00m \u001B[38;5;129;01mnot\u001B[39;00m \u001B[38;5;28;01mNone\u001B[39;00m:\n\u001B[0;32m    722\u001B[0m     attention_scores \u001B[38;5;241m=\u001B[39m attention_scores \u001B[38;5;241m+\u001B[39m rel_att\n",
      "File \u001B[1;32m~\\workspace\\kaggle\\competitions\\learning-agency-lab-automated-essay-scoring-2\\.venv\\Lib\\site-packages\\transformers\\models\\deberta_v2\\modeling_deberta_v2.py:791\u001B[0m, in \u001B[0;36mDisentangledSelfAttention.disentangled_attention_bias\u001B[1;34m(self, query_layer, key_layer, relative_pos, rel_embeddings, scale_factor)\u001B[0m\n\u001B[0;32m    789\u001B[0m     c2p_att \u001B[38;5;241m=\u001B[39m torch\u001B[38;5;241m.\u001B[39mbmm(query_layer, pos_key_layer\u001B[38;5;241m.\u001B[39mtranspose(\u001B[38;5;241m-\u001B[39m\u001B[38;5;241m1\u001B[39m, \u001B[38;5;241m-\u001B[39m\u001B[38;5;241m2\u001B[39m))\n\u001B[0;32m    790\u001B[0m     c2p_pos \u001B[38;5;241m=\u001B[39m torch\u001B[38;5;241m.\u001B[39mclamp(relative_pos \u001B[38;5;241m+\u001B[39m att_span, \u001B[38;5;241m0\u001B[39m, att_span \u001B[38;5;241m*\u001B[39m \u001B[38;5;241m2\u001B[39m \u001B[38;5;241m-\u001B[39m \u001B[38;5;241m1\u001B[39m)\n\u001B[1;32m--> 791\u001B[0m     c2p_att \u001B[38;5;241m=\u001B[39m \u001B[43mtorch\u001B[49m\u001B[38;5;241;43m.\u001B[39;49m\u001B[43mgather\u001B[49m\u001B[43m(\u001B[49m\n\u001B[0;32m    792\u001B[0m \u001B[43m        \u001B[49m\u001B[43mc2p_att\u001B[49m\u001B[43m,\u001B[49m\n\u001B[0;32m    793\u001B[0m \u001B[43m        \u001B[49m\u001B[43mdim\u001B[49m\u001B[38;5;241;43m=\u001B[39;49m\u001B[38;5;241;43m-\u001B[39;49m\u001B[38;5;241;43m1\u001B[39;49m\u001B[43m,\u001B[49m\n\u001B[0;32m    794\u001B[0m \u001B[43m        \u001B[49m\u001B[43mindex\u001B[49m\u001B[38;5;241;43m=\u001B[39;49m\u001B[43mc2p_pos\u001B[49m\u001B[38;5;241;43m.\u001B[39;49m\u001B[43msqueeze\u001B[49m\u001B[43m(\u001B[49m\u001B[38;5;241;43m0\u001B[39;49m\u001B[43m)\u001B[49m\u001B[38;5;241;43m.\u001B[39;49m\u001B[43mexpand\u001B[49m\u001B[43m(\u001B[49m\u001B[43m[\u001B[49m\u001B[43mquery_layer\u001B[49m\u001B[38;5;241;43m.\u001B[39;49m\u001B[43msize\u001B[49m\u001B[43m(\u001B[49m\u001B[38;5;241;43m0\u001B[39;49m\u001B[43m)\u001B[49m\u001B[43m,\u001B[49m\u001B[43m \u001B[49m\u001B[43mquery_layer\u001B[49m\u001B[38;5;241;43m.\u001B[39;49m\u001B[43msize\u001B[49m\u001B[43m(\u001B[49m\u001B[38;5;241;43m1\u001B[39;49m\u001B[43m)\u001B[49m\u001B[43m,\u001B[49m\u001B[43m \u001B[49m\u001B[43mrelative_pos\u001B[49m\u001B[38;5;241;43m.\u001B[39;49m\u001B[43msize\u001B[49m\u001B[43m(\u001B[49m\u001B[38;5;241;43m-\u001B[39;49m\u001B[38;5;241;43m1\u001B[39;49m\u001B[43m)\u001B[49m\u001B[43m]\u001B[49m\u001B[43m)\u001B[49m\u001B[43m,\u001B[49m\n\u001B[0;32m    795\u001B[0m \u001B[43m    \u001B[49m\u001B[43m)\u001B[49m\n\u001B[0;32m    796\u001B[0m     score \u001B[38;5;241m+\u001B[39m\u001B[38;5;241m=\u001B[39m c2p_att \u001B[38;5;241m/\u001B[39m scale\u001B[38;5;241m.\u001B[39mto(dtype\u001B[38;5;241m=\u001B[39mc2p_att\u001B[38;5;241m.\u001B[39mdtype)\n\u001B[0;32m    798\u001B[0m \u001B[38;5;66;03m# position->content\u001B[39;00m\n",
      "\u001B[1;31mKeyboardInterrupt\u001B[0m: "
     ]
    }
   ],
   "source": [
    "model = EncoderForOrdinalRegression(configuration_item)\n",
    "optimizer = AdamW(model.parameters(), lr=2e-5)\n",
    "train_model(\n",
    "    model=model,\n",
    "    train_loader=training_dataloader,\n",
    "    eval_loader=validation_dataloader,\n",
    "    optimizer=optimizer,\n",
    "    config=configuration_item\n",
    ")"
   ]
  },
  {
   "cell_type": "markdown",
   "id": "23f3038e",
   "metadata": {},
   "source": [
    "# TODO stuff"
   ]
  },
  {
   "cell_type": "code",
   "execution_count": null,
   "id": "bde507cb",
   "metadata": {},
   "outputs": [],
   "source": [
    "\n",
    "# TODO: \n",
    "\n",
    "\n",
    "class EncoderClassifier(BaseEstimator, ClassifierMixin):\n",
    "    \"\"\"\n",
    "    A classifier that encapsulates an encoder network for \n",
    "    feature extraction followed by classification.\n",
    "\n",
    "    Attributes:\n",
    "        encoder_network (EncoderNetwork): An instance of EncoderNetwork \n",
    "            used for encoding input data.\n",
    "        conf (dict, optional): Configuration dictionary for \n",
    "            classifier specific settings.\n",
    "    \"\"\"\n",
    "    def __init__(self, encoder_network, config=None):\n",
    "        \"\"\"\n",
    "        Initialize the EncoderClassifier with an encoder network \n",
    "        and an optional configuration.\n",
    "\n",
    "        Parameters:\n",
    "            encoder_network (EncoderNetwork): The encoder network \n",
    "                to use for data encoding.\n",
    "            conf (dict, optional): Additional configuration for \n",
    "                the classifier. Defaults to None.\n",
    "        \"\"\"\n",
    "        self.encoder_network = encoder_network\n",
    "        self.config = config if config is not None else {}\n",
    "\n",
    "    def fit(self, X, y):\n",
    "        \"\"\"\n",
    "        Fit the classifier to the training data. \n",
    "        This method should implement learning from the data.\n",
    "\n",
    "        Parameters:\n",
    "            X (array-like): Training data features.\n",
    "            y (array-like): Training data labels or target values.\n",
    "        \"\"\"\n",
    "        pass\n",
    "\n",
    "    def predict(self, X):\n",
    "        \"\"\"\n",
    "        Predict the labels of the input data using the trained classifier.\n",
    "\n",
    "        Parameters:\n",
    "            X (array-like): Data features for which \n",
    "                predictions are to be made.\n",
    "\n",
    "        Returns:\n",
    "            array: Predicted labels for the input data.\n",
    "        \"\"\"\n",
    "        pass"
   ]
  },
  {
   "cell_type": "markdown",
   "metadata": {},
   "source": [
    "# Modeling using ALBERT"
   ],
   "id": "ffe56be4c78cf37c"
  }
 ],
 "metadata": {
  "kaggle": {
   "accelerator": "none",
   "dataSources": [
    {
     "databundleVersionId": 8059942,
     "sourceId": 71485,
     "sourceType": "competition"
    }
   ],
   "dockerImageVersionId": 30698,
   "isGpuEnabled": false,
   "isInternetEnabled": true,
   "language": "python",
   "sourceType": "notebook"
  },
  "kernelspec": {
   "display_name": "Python 3",
   "language": "python",
   "name": "python3"
  },
  "language_info": {
   "codemirror_mode": {
    "name": "ipython",
    "version": 3
   },
   "file_extension": ".py",
   "mimetype": "text/x-python",
   "name": "python",
   "nbconvert_exporter": "python",
   "pygments_lexer": "ipython3",
   "version": "3.11.4"
  }
 },
 "nbformat": 4,
 "nbformat_minor": 5
}
