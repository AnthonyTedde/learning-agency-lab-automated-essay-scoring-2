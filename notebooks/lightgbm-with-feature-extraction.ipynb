{
 "metadata": {
  "kaggle": {
   "accelerator": "gpu",
   "dataSources": [
    {
     "sourceId": 71485,
     "databundleVersionId": 8059942,
     "sourceType": "competition"
    }
   ],
   "dockerImageVersionId": 30699,
   "isInternetEnabled": true,
   "language": "python",
   "sourceType": "notebook",
   "isGpuEnabled": true
  },
  "kernelspec": {
   "display_name": "Python 3",
   "language": "python",
   "name": "python3"
  },
  "language_info": {
   "name": "python",
   "version": "3.10.13",
   "mimetype": "text/x-python",
   "codemirror_mode": {
    "name": "ipython",
    "version": 3
   },
   "pygments_lexer": "ipython3",
   "nbconvert_exporter": "python",
   "file_extension": ".py"
  }
 },
 "nbformat_minor": 5,
 "nbformat": 4,
 "cells": [
  {
   "cell_type": "markdown",
   "source": [
    "# General context"
   ],
   "metadata": {},
   "id": "8f6aecfafb899c1"
  },
  {
   "cell_type": "markdown",
   "source": [
    "The [Learning Agency Lab - Automated Essay Scoring 2.0](https://www.kaggle.com/competitions/learning-agency-lab-automated-essay-scoring-2/overview) competition aims to enhance automated essay grading systems to support overburdened teachers, especially in underserved communities. It addresses the limitations of previous efforts by using a larger, more diverse dataset to improve scoring accuracy and fairness. Hosted by Vanderbilt University and The Learning Agency Lab, the competition seeks to develop open-source tools that provide timely feedback to students and integrate more effectively into real-world educational settings. This initiative represents a significant advancement in educational technology, promoting equitable access to reliable automated essay scoring.\n",
    "\n",
    "In this notebook, I conducted exploratory data analysis and developed models using the Deberta V3 architecture ([He et al., 2021](https://arxiv.org/abs/2111.09543)). Additionally, I utilized the Hugging Face `datasets` library in conjunction with PyTorch's `DataLoader` for efficient data handling. I established a training loop using native PyTorch functionalities and modeled the outputs as ordinal values to account for their inherent order.\n",
    "\n",
    "**Todo: add some result**"
   ],
   "metadata": {},
   "id": "ea6aee9af3087c24"
  },
  {
   "cell_type": "markdown",
   "source": [
    "# Inclusion and global variables"
   ],
   "metadata": {},
   "id": "a6b498c5fa91027e"
  },
  {
   "cell_type": "code",
   "source": [
    "import os\n",
    "import math\n",
    "from dataclasses import dataclass, field\n",
    "from pathlib import Path\n",
    "from typing import List, Any\n",
    "import logging\n",
    "\n",
    "import settings.settings\n",
    "import importlib\n",
    "importlib.reload(settings.settings)\n",
    "\n",
    "from settings.settings import (\n",
    "    LOCAL_STR,\n",
    "    DEBERTA_V3_CKPT,\n",
    "    DISTILBERT,\n",
    "    MATPLOTBLUE,\n",
    "    SEED,\n",
    "    DEVICE,\n",
    "    configuration_builder,\n",
    ")\n",
    "from settings.function_utils import (\n",
    "    category_to_ordinal\n",
    ")\n",
    "\n",
    "import matplotlib.pyplot as plt\n",
    "import matplotlib as mpl\n",
    "import seaborn as sns\n",
    "\n",
    "import numpy as np\n",
    "import pandas as pd\n",
    "\n",
    "import torch\n",
    "import torch.utils\n",
    "import torch.utils.data\n",
    "import torch.nn as nn\n",
    "from torch.optim import AdamW\n",
    "from torch.utils.data import (\n",
    "    DataLoader,\n",
    ")\n",
    "\n",
    "from sklearn.model_selection import train_test_split\n",
    "import polars as pl\n",
    "\n",
    "from transformers import (\n",
    "    AutoTokenizer,\n",
    "    AutoModelForSequenceClassification,\n",
    "    AutoModel,\n",
    "    DataCollatorWithPadding,\n",
    ")\n",
    "import datasets\n",
    "from datasets import Dataset, DatasetDict\n",
    "# from peft import LoraConfig \n",
    "\n",
    "from sklearn.utils.estimator_checks import check_estimator\n",
    "from sklearn.base import (\n",
    "    BaseEstimator,\n",
    "    ClassifierMixin,\n",
    ")"
   ],
   "metadata": {
    "execution": {
     "iopub.status.busy": "2024-05-16T14:22:28.303518Z",
     "iopub.execute_input": "2024-05-16T14:22:28.304166Z",
     "iopub.status.idle": "2024-05-16T14:22:46.909315Z",
     "shell.execute_reply.started": "2024-05-16T14:22:28.304135Z",
     "shell.execute_reply": "2024-05-16T14:22:46.908345Z"
    },
    "trusted": true,
    "ExecuteTime": {
     "end_time": "2024-05-26T08:59:00.590846800Z",
     "start_time": "2024-05-26T08:59:00.333228400Z"
    }
   },
   "execution_count": 37,
   "outputs": [],
   "id": "cf01cfdb11c9978b"
  },
  {
   "cell_type": "code",
   "execution_count": 38,
   "outputs": [],
   "source": [
    "DEBUG = True"
   ],
   "metadata": {
    "collapsed": false,
    "ExecuteTime": {
     "end_time": "2024-05-26T08:59:00.594908700Z",
     "start_time": "2024-05-26T08:59:00.344701500Z"
    }
   },
   "id": "d10601a5b4682b76"
  },
  {
   "cell_type": "markdown",
   "source": [
    "## Set and define global configuration"
   ],
   "metadata": {},
   "id": "334dbc0c169b32b4"
  },
  {
   "cell_type": "markdown",
   "source": [
    "In this section, I set up a configuration builder that utilizes the Python data class `ConfigurationSetting` to enhance the code's flexibility. This approach allows the code to run with specific configurations in dedicated environments. The instance of `ConfigurationSetting` created by the builder is used throughout the code, replacing hardcoded values."
   ],
   "metadata": {},
   "id": "2dd04eafb242df94"
  },
  {
   "cell_type": "code",
   "source": [
    "configuration_item = configuration_builder(\n",
    "    model_ckpt=DISTILBERT,\n",
    "    plot_color=MATPLOTBLUE,\n",
    "    seed=SEED,\n",
    "    device=DEVICE\n",
    ")"
   ],
   "metadata": {
    "execution": {
     "iopub.status.busy": "2024-05-16T14:22:46.985478Z",
     "iopub.execute_input": "2024-05-16T14:22:46.985901Z",
     "iopub.status.idle": "2024-05-16T14:22:46.999376Z",
     "shell.execute_reply.started": "2024-05-16T14:22:46.985868Z",
     "shell.execute_reply": "2024-05-16T14:22:46.998596Z"
    },
    "trusted": true,
    "ExecuteTime": {
     "end_time": "2024-05-26T08:59:00.607874200Z",
     "start_time": "2024-05-26T08:59:00.351323Z"
    }
   },
   "execution_count": 39,
   "outputs": [],
   "id": "e02bf7b490560345"
  },
  {
   "cell_type": "markdown",
   "source": [
    "Warnings are suppressed in my local environment, particularly to remove information about my computing system before the code is pushed to GitHub."
   ],
   "metadata": {},
   "id": "e890f9f8fad6024e"
  },
  {
   "cell_type": "code",
   "source": [
    "if configuration_item.name == LOCAL_STR:\n",
    "    logging.captureWarnings(True)\n",
    "    logger: logging.Logger = logging.getLogger(\"py.warnings\")\n",
    "    logger.addHandler(logging.FileHandler(\"tmp.log\"))"
   ],
   "metadata": {
    "execution": {
     "iopub.status.busy": "2024-05-16T14:22:47.000533Z",
     "iopub.execute_input": "2024-05-16T14:22:47.001178Z",
     "iopub.status.idle": "2024-05-16T14:22:47.008578Z",
     "shell.execute_reply.started": "2024-05-16T14:22:47.001146Z",
     "shell.execute_reply": "2024-05-16T14:22:47.007776Z"
    },
    "trusted": true,
    "ExecuteTime": {
     "end_time": "2024-05-26T08:59:00.607874200Z",
     "start_time": "2024-05-26T08:59:00.363740600Z"
    }
   },
   "execution_count": 40,
   "outputs": [],
   "id": "4ad0f887ab31e924"
  },
  {
   "cell_type": "markdown",
   "source": [
    "# Load the data"
   ],
   "metadata": {},
   "id": "510888a651886c0e"
  },
  {
   "cell_type": "markdown",
   "source": [
    "Data comes from the Kaggle competition [Learning Agency Lab - Automated Essay Scoring 2.0](https://www.kaggle.com/competitions/learning-agency-lab-automated-essay-scoring-2/overview) and can be downloaded from the competition's page."
   ],
   "metadata": {},
   "id": "c8e0490cc9772205"
  },
  {
   "cell_type": "code",
   "source": [
    "if not configuration_item.data_path:\n",
    "    raise ValueError\n",
    "\n",
    "train_ds = pd.read_csv(\n",
    "    filepath_or_buffer=configuration_item.data_path / \"train.csv\"\n",
    ")\n"
   ],
   "metadata": {
    "collapsed": false,
    "execution": {
     "iopub.status.busy": "2024-05-16T14:22:47.009698Z",
     "iopub.execute_input": "2024-05-16T14:22:47.009968Z",
     "iopub.status.idle": "2024-05-16T14:22:47.779995Z",
     "shell.execute_reply.started": "2024-05-16T14:22:47.009947Z",
     "shell.execute_reply": "2024-05-16T14:22:47.778907Z"
    },
    "trusted": true,
    "ExecuteTime": {
     "end_time": "2024-05-26T08:59:00.755290500Z",
     "start_time": "2024-05-26T08:59:00.383006300Z"
    }
   },
   "execution_count": 41,
   "outputs": [],
   "id": "94de690130ee3965"
  },
  {
   "cell_type": "markdown",
   "source": [
    "For the sake of speed, I reduced the dataset size in my local environment. However, even with fewer records, fine-tuning DeBERTA on CPU machines remains challenging and significantly slower without GPU access."
   ],
   "metadata": {},
   "id": "d1c7082c033a8a66"
  },
  {
   "cell_type": "code",
   "source": [
    "# Keep small for local investigation\n",
    "if (configuration_item.name == LOCAL_STR) | DEBUG:\n",
    "    train_ds, _ = train_test_split(\n",
    "        train_ds, \n",
    "        test_size=.99, \n",
    "        random_state=configuration_item.seed, \n",
    "        stratify=train_ds[\"score\"]\n",
    "    )"
   ],
   "metadata": {
    "execution": {
     "iopub.status.busy": "2024-05-16T14:22:47.781245Z",
     "iopub.execute_input": "2024-05-16T14:22:47.781561Z",
     "iopub.status.idle": "2024-05-16T14:22:47.804739Z",
     "shell.execute_reply.started": "2024-05-16T14:22:47.781534Z",
     "shell.execute_reply": "2024-05-16T14:22:47.803855Z"
    },
    "trusted": true,
    "ExecuteTime": {
     "end_time": "2024-05-26T08:59:00.774651400Z",
     "start_time": "2024-05-26T08:59:00.755290500Z"
    }
   },
   "execution_count": 42,
   "outputs": [],
   "id": "d49ec797a52a4aa3"
  },
  {
   "cell_type": "markdown",
   "source": [
    "# Exploratory Data Analysis"
   ],
   "metadata": {},
   "id": "5d6d54ed980ddb4e"
  },
  {
   "cell_type": "markdown",
   "source": [
    "# Data wrangling"
   ],
   "metadata": {},
   "id": "11eb1b473f196950"
  },
  {
   "cell_type": "markdown",
   "source": [
    "## Turn the score label into ordinal"
   ],
   "metadata": {
    "collapsed": false
   },
   "id": "c89d5ed4e640a4aa"
  },
  {
   "cell_type": "markdown",
   "source": [
    "Ordinal regression is used when the dependent variable (the outcome you're trying to predict) holds an intrinsic order, but the distances between the levels are not known. The classic examples include a Likert scale for surveys (e.g., \"strongly disagree,\" \"disagree,\" \"neutral,\" \"agree,\" \"strongly agree\"), grades (A, B, C, D, F), or in the case at hand, essay scores. The key advantage of ordinal regression is its ability to handle dependent variables that are more nuanced than simple binary outcomes but don’t have the numeric spacing needed for linear regression. For instance, while we know that grade A is higher than grade B, we cannot say that it is exactly two points higher as we might with numerical scores. This is where ordinal regression comes in—it allows the modeling of the rank order of the dependent variable without making assumptions about the value of the intervals between levels. In the context of modeling essay scores, ordinal regression can predict the rank order of the essays' quality. It is particularly apt for this kind of task because it can learn from the order inherent in the scores without assuming equal spacing between score levels. This can result in more accurate models for ordered categorical data, as it respects the nature of the ranking involved. When using ordinal regression, we need to transform the target variable to reflect the ordinal nature. In a standard regression problem, the target is typically a single column of values. In ordinal regression, however, the target is often expanded into a matrix that represents the ranking order. This matrix enables the model to understand and predict not just whether one essay is better than another but the relative ranking across the spectrum of scores. To prepare for ordinal regression, the scores was transformed into an ordinal matrix with a process known as “one-hot encoding” of the ranks. "
   ],
   "metadata": {},
   "id": "1cd6d04b31cdc421"
  },
  {
   "cell_type": "code",
   "source": [
    "train_ds[\"labels\"] = category_to_ordinal(train_ds.score.values).tolist()"
   ],
   "metadata": {
    "execution": {
     "iopub.status.busy": "2024-05-16T14:22:48.372627Z",
     "iopub.execute_input": "2024-05-16T14:22:48.372882Z",
     "iopub.status.idle": "2024-05-16T14:22:48.381784Z",
     "shell.execute_reply.started": "2024-05-16T14:22:48.372860Z",
     "shell.execute_reply": "2024-05-16T14:22:48.380922Z"
    },
    "trusted": true,
    "ExecuteTime": {
     "end_time": "2024-05-26T08:59:00.787586300Z",
     "start_time": "2024-05-26T08:59:00.776628400Z"
    }
   },
   "execution_count": 43,
   "outputs": [],
   "id": "9d18239e2a6e105d"
  },
  {
   "cell_type": "markdown",
   "source": [
    "## Create training / validation set"
   ],
   "metadata": {},
   "id": "73cd99b0db4e4495"
  },
  {
   "cell_type": "code",
   "source": [
    "train_set, validation_set = train_test_split(\n",
    "    train_ds, \n",
    "    train_size=.7, \n",
    "    random_state=SEED, \n",
    "    stratify=train_ds.score\n",
    ")"
   ],
   "metadata": {
    "collapsed": false,
    "execution": {
     "iopub.status.busy": "2024-05-16T14:22:48.403063Z",
     "iopub.execute_input": "2024-05-16T14:22:48.403814Z",
     "iopub.status.idle": "2024-05-16T14:22:48.411452Z",
     "shell.execute_reply.started": "2024-05-16T14:22:48.403790Z",
     "shell.execute_reply": "2024-05-16T14:22:48.410530Z"
    },
    "trusted": true,
    "ExecuteTime": {
     "end_time": "2024-05-26T08:59:00.812773200Z",
     "start_time": "2024-05-26T08:59:00.783977300Z"
    }
   },
   "execution_count": 44,
   "outputs": [],
   "id": "565bf8f9d211feaa"
  },
  {
   "cell_type": "code",
   "source": [
    "train_set_tmp = train_set.copy()\n",
    "validation_set_tmp = validation_set.copy()\n",
    "\n",
    "train_set_tmp[\"type\"] = \"Training\"\n",
    "validation_set_tmp[\"type\"] = \"Validation\"\n",
    "# ingnore_index force the creation of a new index.\n",
    "combined_set = pd.concat(\n",
    "    [train_set_tmp, validation_set_tmp], \n",
    "    ignore_index=True\n",
    ")\n",
    "\n",
    "proportion = (\n",
    "    combined_set.groupby(\"type\")[\"score\"]\n",
    "    .value_counts(normalize=True)\n",
    "    .reset_index()\n",
    ")\n",
    "proportion[\"proportion\"] *=100\n",
    "\n",
    "ax = sns.barplot(proportion, x=\"score\", y=\"proportion\", hue=\"type\")\n",
    "ax.bar_label(ax.containers[0], fontsize=10, fmt=\"%.f%%\")\n",
    "ax.bar_label(ax.containers[1], fontsize=10, fmt=\"%.f%%\")\n",
    "\n",
    "plt.title(\"Comparative Distribution of Scores Proportion in Training and Validation Sets\")\n",
    "plt.xlabel(\"Scores\")\n",
    "plt.ylabel(\"Proportion (%)\")\n",
    "plt.show()\n",
    "\n",
    "del(train_set_tmp)\n",
    "del(validation_set_tmp)\n",
    "del(proportion)"
   ],
   "metadata": {
    "collapsed": false,
    "execution": {
     "iopub.status.busy": "2024-05-16T14:22:48.412576Z",
     "iopub.execute_input": "2024-05-16T14:22:48.413179Z",
     "iopub.status.idle": "2024-05-16T14:22:48.796431Z",
     "shell.execute_reply.started": "2024-05-16T14:22:48.413146Z",
     "shell.execute_reply": "2024-05-16T14:22:48.795513Z"
    },
    "trusted": true,
    "ExecuteTime": {
     "end_time": "2024-05-26T08:59:01.039412100Z",
     "start_time": "2024-05-26T08:59:00.797984300Z"
    }
   },
   "execution_count": 45,
   "outputs": [
    {
     "data": {
      "text/plain": "<Figure size 640x480 with 1 Axes>",
      "image/png": "[encoded data removed]"
     },
     "metadata": {},
     "output_type": "display_data"
    }
   ],
   "id": "8facf148c313605c"
  },
  {
   "cell_type": "markdown",
   "source": [
    "The provided plot presents a grouped bar chart depicting the distribution of scores within two distinct datasets: Training and Validation. Each score category from 1 to 6 is represented by a pair of bars—one for the Training set (in blue) and one for the Validation set (in orange). The stratification ensures that the proportion of scores in each score category is consistent across both training and validation sets. This consistency is critical when developing a model for ordinal regression, as it allows the model to learn from a training set that mirrors the real-world or expected distribution of scores. Consequently, when the model is validated, the validation set similarly reflects this distribution, allowing for an accurate assessment of the model's performance. From the visual comparison of the bar heights, it is evident that each score's representation in the training set closely matches its representation in the validation set."
   ],
   "metadata": {},
   "id": "6768819307df2f2b"
  },
  {
   "cell_type": "code",
   "execution_count": 46,
   "outputs": [],
   "source": [
    "data_dict = DatasetDict({\n",
    "    \"training\": Dataset.from_pandas(train_set),\n",
    "    \"validation\": Dataset.from_pandas(validation_set)\n",
    "})"
   ],
   "metadata": {
    "collapsed": false,
    "ExecuteTime": {
     "end_time": "2024-05-26T08:59:01.059489300Z",
     "start_time": "2024-05-26T08:59:01.040433Z"
    }
   },
   "id": "1a5d6f1416303c5d"
  },
  {
   "cell_type": "markdown",
   "source": [
    "## Tokenize the text"
   ],
   "metadata": {
    "collapsed": false
   },
   "id": "8014048ff9050888"
  },
  {
   "cell_type": "markdown",
   "source": [
    "Tokenization is a fundamental process in natural language processing (NLP) where text is segmented into smaller units known as tokens. These tokens can be individual words, characters, or subwords. This segmentation is similar to parsing a sentence into its constituent words or breaking a word down into syllables.\n",
    "\n",
    "In our experiment, we used [DistilBERT model](https://arxiv.org/abs/1910.01108), which has an input size limit of 512 tokens. To prevent errors caused by input sequences that exceed this limit, we set truncation to true for this model."
   ],
   "metadata": {
    "collapsed": false
   },
   "id": "258dbc659b7c2b34"
  },
  {
   "cell_type": "code",
   "execution_count": 47,
   "outputs": [
    {
     "data": {
      "text/plain": "Map:   0%|          | 0/121 [00:00<?, ? examples/s]",
      "application/vnd.jupyter.widget-view+json": {
       "version_major": 2,
       "version_minor": 0,
       "model_id": "2517e3d809e444c4b091bc33cc3556b9"
      }
     },
     "metadata": {},
     "output_type": "display_data"
    },
    {
     "data": {
      "text/plain": "Map:   0%|          | 0/52 [00:00<?, ? examples/s]",
      "application/vnd.jupyter.widget-view+json": {
       "version_major": 2,
       "version_minor": 0,
       "model_id": "cf05b735d0fe47a690aba0b2941c4c4b"
      }
     },
     "metadata": {},
     "output_type": "display_data"
    }
   ],
   "source": [
    "tokenizer = (AutoTokenizer\n",
    "             .from_pretrained(configuration_item.model_ckpt)\n",
    "             )\n",
    "\n",
    "def tokenize(batch):\n",
    "    a=1\n",
    "    return tokenizer(batch[\"full_text\"], padding=True, truncation=True)\n",
    "encoded_data_dict = data_dict.map(tokenize, batched=True, batch_size=1000)"
   ],
   "metadata": {
    "collapsed": false,
    "ExecuteTime": {
     "end_time": "2024-05-26T08:59:01.520193200Z",
     "start_time": "2024-05-26T08:59:01.063728900Z"
    }
   },
   "id": "b7b2a89e53327"
  },
  {
   "cell_type": "markdown",
   "source": [
    "## Compute last hidden state"
   ],
   "metadata": {
    "collapsed": false
   },
   "id": "d75904d69b995274"
  },
  {
   "cell_type": "markdown",
   "source": [
    "We transform the token encodings into the last hidden state embeddings using DistilBERT, where each token has a meaningful contextual representation. We extract the last hidden state of the [CLS] token, which specifies the start of the sequence, as a summary of the whole sequence. Ultimately, we use this last hidden state of the [CLS] token as input predictors in a LightGBM model."
   ],
   "metadata": {
    "collapsed": false
   },
   "id": "8d3bba799815cc9"
  },
  {
   "cell_type": "code",
   "execution_count": 48,
   "outputs": [
    {
     "data": {
      "text/plain": "Map:   0%|          | 0/121 [00:00<?, ? examples/s]",
      "application/vnd.jupyter.widget-view+json": {
       "version_major": 2,
       "version_minor": 0,
       "model_id": "01b49e9b675f46c5832e09cf73d794c6"
      }
     },
     "metadata": {},
     "output_type": "display_data"
    },
    {
     "data": {
      "text/plain": "Map:   0%|          | 0/52 [00:00<?, ? examples/s]",
      "application/vnd.jupyter.widget-view+json": {
       "version_major": 2,
       "version_minor": 0,
       "model_id": "7ea793151dd148f487b88ca2d82ecb51"
      }
     },
     "metadata": {},
     "output_type": "display_data"
    }
   ],
   "source": [
    "model = AutoModel.from_pretrained(\n",
    "    configuration_item.model_ckpt\n",
    ").to(configuration_item.torch_device)\n",
    "\n",
    "def extract_last_hidden_state(batch, model, tokenizer):\n",
    "    mdl_item = {k: v.to(configuration_item.torch_device) for k, v in batch.items() if k in tokenizer.model_input_names}\n",
    "    with torch.no_grad():\n",
    "        last_hidden_state = model(**mdl_item).last_hidden_state\n",
    "    return {\"last_hidden_state\": last_hidden_state[:, 0].cpu().numpy()}\n",
    "\n",
    "encoded_data_dict.set_format(type=\"pt\", columns=[\"input_ids\", \"attention_mask\", \"score\"])\n",
    "\n",
    "hidden_data_dict = encoded_data_dict.map(extract_last_hidden_state, \n",
    "                                       fn_kwargs={\"model\": model, \"tokenizer\": tokenizer}, \n",
    "                                       batched=True, batch_size=2)"
   ],
   "metadata": {
    "collapsed": false,
    "ExecuteTime": {
     "end_time": "2024-05-26T09:01:17.416613600Z",
     "start_time": "2024-05-26T08:59:01.509408Z"
    }
   },
   "id": "58bc3b0195e0d090"
  },
  {
   "cell_type": "markdown",
   "source": [
    "# Modeling using LightGBM"
   ],
   "metadata": {},
   "id": "6af63836563ea677"
  },
  {
   "cell_type": "code",
   "execution_count": 51,
   "outputs": [],
   "source": [
    "from sklearn.model_selection import KFold, cross_validate\n",
    "from optuna.samplers import TPESampler\n",
    "import optuna\n",
    "from optuna.integration.lightgbm import cv\n",
    "from lightgbm import Dataset as LGBMDataSet, early_stopping, cv, LGBMClassifier\n",
    "\n",
    "\n",
    "from sklearn.preprocessing import (\n",
    "    StandardScaler,\n",
    "    MinMaxScaler,\n",
    "    RobustScaler\n",
    ")\n",
    "from sklearn.pipeline import Pipeline\n",
    "from sklearn.metrics import (\n",
    "    accuracy_score,\n",
    "    balanced_accuracy_score,\n",
    "    cohen_kappa_score,\n",
    "    f1_score,\n",
    "    recall_score,\n",
    "    confusion_matrix,\n",
    "    ConfusionMatrixDisplay,\n",
    ")"
   ],
   "metadata": {
    "collapsed": false,
    "ExecuteTime": {
     "end_time": "2024-05-26T09:15:00.348278400Z",
     "start_time": "2024-05-26T09:15:00.316974400Z"
    }
   },
   "id": "49784980db90fe31"
  },
  {
   "cell_type": "markdown",
   "source": [
    "## Dealing with data"
   ],
   "metadata": {
    "collapsed": false
   },
   "id": "277e593f8aa00705"
  },
  {
   "cell_type": "code",
   "execution_count": 52,
   "outputs": [],
   "source": [
    "from sklearn.base import BaseEstimator, TransformerMixin, ClassifierMixin, clone\n",
    "from sklearn.model_selection import cross_val_score, cross_validate"
   ],
   "metadata": {
    "collapsed": false,
    "ExecuteTime": {
     "end_time": "2024-05-26T09:15:04.192565400Z",
     "start_time": "2024-05-26T09:15:04.179946700Z"
    }
   },
   "id": "9c0687eff238ea4a"
  },
  {
   "cell_type": "code",
   "execution_count": 53,
   "outputs": [],
   "source": [
    "hidden_data_dict.set_format(type=\"numpy\")\n",
    "n_dim = hidden_data_dict[\"training\"][\"last_hidden_state\"].shape[1]\n",
    "col_names = [f\"V{i + 1:03d}\" for i in range(n_dim)]\n",
    "X_training = pd.DataFrame(hidden_data_dict[\"training\"][\"last_hidden_state\"], columns=col_names)\n",
    "y_training = pd.DataFrame(hidden_data_dict[\"training\"][\"score\"], columns=[\"score\"])\n",
    "X_validation = pd.DataFrame(hidden_data_dict[\"validation\"][\"last_hidden_state\"], columns=col_names)\n",
    "y_validation = pd.DataFrame(hidden_data_dict[\"validation\"][\"score\"], columns=[\"score\"])\n",
    "# y_training[\"score\"] = y_training.score - 1\n",
    "# y_validation[\"score\"] = y_validation.score - 1\n",
    "hidden_data_dict.reset_format()"
   ],
   "metadata": {
    "collapsed": false,
    "ExecuteTime": {
     "end_time": "2024-05-26T09:15:05.460893100Z",
     "start_time": "2024-05-26T09:15:05.443835200Z"
    }
   },
   "id": "35eb7f1b90742bf8"
  },
  {
   "cell_type": "code",
   "execution_count": 54,
   "outputs": [],
   "source": [
    "class TargetTransformer(BaseEstimator, TransformerMixin):\n",
    "    def fit(self, y):\n",
    "        self.min = y.min()\n",
    "        return self\n",
    "    def transform(self, y):\n",
    "        return y - self.min\n",
    "    def inverse_transform(self, y):\n",
    "        return y + self.min"
   ],
   "metadata": {
    "collapsed": false,
    "ExecuteTime": {
     "end_time": "2024-05-26T09:15:07.879135500Z",
     "start_time": "2024-05-26T09:15:07.868407800Z"
    }
   },
   "id": "4edd7e3a21b9fa1"
  },
  {
   "cell_type": "code",
   "execution_count": 55,
   "outputs": [],
   "source": [
    "class CustomTransformedTargetClassifier(BaseEstimator, ClassifierMixin):\n",
    "    def __int__(self, classifier, transformer):\n",
    "        self.classifier = classifier\n",
    "        self.transformer = transformer\n",
    "    def fit(self, X, y):\n",
    "        y_transformed = self.transformer.fit_transform(y)\n",
    "        self.classifier_ = clone(self.classifier)\n",
    "        self.classifier_.fit(X, y_transformed)\n",
    "        return self\n",
    "    def predict(self, X):\n",
    "        y_pred_transformed = self.classifier_.predict(X)\n",
    "        return self.transformer.inverse_transform(y_pred_transformed)\n",
    "    def predict_proba(self, X):\n",
    "        return self.classifier_.predict_proba(X)\n",
    "    "
   ],
   "metadata": {
    "collapsed": false,
    "ExecuteTime": {
     "end_time": "2024-05-26T09:15:09.401144100Z",
     "start_time": "2024-05-26T09:15:09.386520Z"
    }
   },
   "id": "9988bc170bf9efa6"
  },
  {
   "cell_type": "markdown",
   "source": [
    "## Parameters"
   ],
   "metadata": {
    "collapsed": false
   },
   "id": "bec0a693c149ecb4"
  },
  {
   "cell_type": "markdown",
   "source": [
    "### Objectives parameters"
   ],
   "metadata": {
    "collapsed": false
   },
   "id": "21d3f9285c98cc33"
  },
  {
   "cell_type": "markdown",
   "source": [
    "### Metric parameters"
   ],
   "metadata": {
    "collapsed": false
   },
   "id": "8bcf04abc5e3b24d"
  },
  {
   "cell_type": "code",
   "execution_count": 76,
   "outputs": [],
   "source": [
    "def wrap_param(trial=None, refit=False):\n",
    "    params = {\n",
    "        \"task\": \"train\",\n",
    "        \"objective\": \"multiclass\",\n",
    "        \"num_class\": configuration_item.num_labels,\n",
    "        \"is_unbalanced\": True,\n",
    "        \"boosting\": \"gbdt\",\n",
    "        \"device_type\": configuration_item.device,\n",
    "        \"num_thread\": configuration_item.n_worker,\n",
    "        \"tree_learner\": \"feature_parallel\", # (https://lightgbm.readthedocs.io/en/stable/Parallel-Learning-Guide.html)\n",
    "        \"seed\": configuration_item.seed, # Overal seed.\n",
    "        \"verbosity\": -1,\n",
    "        \"learning_rate\": 1e-1,\n",
    "        \"metric\": [\"multi_logloss\", \"multi_error\", \"auc_mu\", ],\n",
    "        \"first_metric_only\": True,\n",
    "        \"data_sample_strategy\": \"goss\", # Gradient-Based One-Side Sampling --> Focusing on higher errored records\n",
    "        \"boost_from_average\": True,\n",
    "        \"extra_trees\": True, # EXTremely RAndomize trees: speed up training, decrease training overfitting.\n",
    "        \"is_provide_training_metric\": True,\n",
    "        # \"force_col_wise\": True, # Force because large number of columns. Forcing reduce overhead due to testing the best data representation.\n",
    "        \n",
    "    }\n",
    "    if trial:\n",
    "        params |= {\n",
    "            \"feature_fraction\": trial.suggest_float(\"feature_fraction\", .4, 1.0),\n",
    "            \"sigmoid\": trial.suggest_float(\"sigmoid\", 10e-4, 5.0),\n",
    "            \"num_leaves\": trial.suggest_int(\"num_leaves\", 8, 256),\n",
    "            \"lambda_l2\": trial.suggest_float(\"lambda_l2\", 0, 10.0),\n",
    "            \"min_sum_hessian\": trial.suggest_int(\"min_sum_hessian\", 1, 50),\n",
    "            \"bagging_fraction\": trial.suggest_float(\"bagging_fraction\", .4, 1.0),\n",
    "            \"sigmoid\": trial.suggest_float(\"sigmoid\", 10e-4, 8),\n",
    "        }\n",
    "    elif refit:\n",
    "        params |= {\"task\": \"refit\"}\n",
    "    else:\n",
    "        params |= {\"task\": \"predict\"}\n",
    "    \n",
    "    return params"
   ],
   "metadata": {
    "collapsed": false,
    "ExecuteTime": {
     "end_time": "2024-05-26T09:18:58.272604300Z",
     "start_time": "2024-05-26T09:18:58.263999900Z"
    }
   },
   "id": "3f979affcdfbac56"
  },
  {
   "cell_type": "code",
   "execution_count": 77,
   "outputs": [],
   "source": [
    "def objective(X, y, get_params):\n",
    "    target_transformer = TargetTransformer()\n",
    "    y = target_transformer.fit_transform(y)\n",
    "    # TODO:  X --> include Robust scaler.\n",
    "    def run(trial):\n",
    "        target_transformer\n",
    "        training_set = LGBMDataSet(data=X, label=y, free_raw_data=False)\n",
    "        params = get_params(trial)\n",
    "        \n",
    "        callbacks = [ early_stopping(stopping_rounds=200, first_metric_only=True, verbose=True) ]\n",
    "        \n",
    "        reg_cv = cv(\n",
    "            params=params,\n",
    "            train_set=training_set,\n",
    "            num_boost_round=1000,  # == num_iterations\n",
    "            nfold=10,\n",
    "            stratified=True,\n",
    "            callbacks=callbacks,\n",
    "            seed=configuration_item.seed,\n",
    "            return_cvbooster=True,\n",
    "        )\n",
    "        trial.set_user_attr(\"num_iterations\", reg_cv.get(\"cvbooster\").best_iteration)\n",
    "        return np.min(\n",
    "            np.add(\n",
    "                reg_cv.get(\"valid multi_logloss-mean\"),\n",
    "                reg_cv.get(\"valid multi_logloss-stdv\")\n",
    "            )\n",
    "        )\n",
    "    return run"
   ],
   "metadata": {
    "collapsed": false,
    "ExecuteTime": {
     "end_time": "2024-05-26T09:18:59.654053100Z",
     "start_time": "2024-05-26T09:18:59.638345700Z"
    }
   },
   "id": "50851917a6c95850"
  },
  {
   "cell_type": "code",
   "execution_count": 78,
   "outputs": [],
   "source": [
    "def lgbm_cv(X, y, n_trials=10, study_name=\"default\", get_param=None):\n",
    "    study = optuna.create_study(\n",
    "        study_name=study_name,\n",
    "        sampler=TPESampler(n_startup_trials=7, multivariate=True),\n",
    "    )\n",
    "    study.optimize(\n",
    "        func=objective(X, y, get_param),\n",
    "        n_trials=10,\n",
    "        show_progress_bar=True,\n",
    "    )\n",
    "    return study"
   ],
   "metadata": {
    "collapsed": false,
    "ExecuteTime": {
     "end_time": "2024-05-26T09:19:02.184220700Z",
     "start_time": "2024-05-26T09:19:02.176668300Z"
    }
   },
   "id": "212d61f720698a1a"
  },
  {
   "cell_type": "code",
   "execution_count": 80,
   "outputs": [
    {
     "ename": "ValueError",
     "evalue": "I/O operation on closed file",
     "output_type": "error",
     "traceback": [
      "\u001B[1;31m---------------------------------------------------------------------------\u001B[0m",
      "\u001B[1;31mValueError\u001B[0m                                Traceback (most recent call last)",
      "File \u001B[1;32m~\\AppData\\Local\\Programs\\Python\\Python311\\Lib\\logging\\__init__.py:1113\u001B[0m, in \u001B[0;36mStreamHandler.emit\u001B[1;34m(self, record)\u001B[0m\n\u001B[0;32m   1112\u001B[0m \u001B[38;5;66;03m# issue 35046: merged two stream.writes into one.\u001B[39;00m\n\u001B[1;32m-> 1113\u001B[0m \u001B[43mstream\u001B[49m\u001B[38;5;241;43m.\u001B[39;49m\u001B[43mwrite\u001B[49m\u001B[43m(\u001B[49m\u001B[43mmsg\u001B[49m\u001B[43m \u001B[49m\u001B[38;5;241;43m+\u001B[39;49m\u001B[43m \u001B[49m\u001B[38;5;28;43mself\u001B[39;49m\u001B[38;5;241;43m.\u001B[39;49m\u001B[43mterminator\u001B[49m\u001B[43m)\u001B[49m\n\u001B[0;32m   1114\u001B[0m \u001B[38;5;28mself\u001B[39m\u001B[38;5;241m.\u001B[39mflush()\n",
      "File \u001B[1;32m~\\workspace\\kaggle\\competitions\\learning-agency-lab-automated-essay-scoring-2\\.venv\\Lib\\site-packages\\ipykernel\\iostream.py:679\u001B[0m, in \u001B[0;36mOutStream.write\u001B[1;34m(self, string)\u001B[0m\n\u001B[0;32m    678\u001B[0m     msg \u001B[38;5;241m=\u001B[39m \u001B[38;5;124m\"\u001B[39m\u001B[38;5;124mI/O operation on closed file\u001B[39m\u001B[38;5;124m\"\u001B[39m\n\u001B[1;32m--> 679\u001B[0m     \u001B[38;5;28;01mraise\u001B[39;00m \u001B[38;5;167;01mValueError\u001B[39;00m(msg)\n\u001B[0;32m    681\u001B[0m is_child \u001B[38;5;241m=\u001B[39m \u001B[38;5;129;01mnot\u001B[39;00m \u001B[38;5;28mself\u001B[39m\u001B[38;5;241m.\u001B[39m_is_master_process()\n",
      "\u001B[1;31mValueError\u001B[0m: I/O operation on closed file",
      "\nDuring handling of the above exception, another exception occurred:\n",
      "\u001B[1;31mValueError\u001B[0m                                Traceback (most recent call last)",
      "Cell \u001B[1;32mIn[80], line 1\u001B[0m\n\u001B[1;32m----> 1\u001B[0m study \u001B[38;5;241m=\u001B[39m \u001B[43mlgbm_cv\u001B[49m\u001B[43m(\u001B[49m\u001B[43mX_training\u001B[49m\u001B[43m,\u001B[49m\u001B[43m \u001B[49m\u001B[43my_training\u001B[49m\u001B[43m,\u001B[49m\u001B[43m \u001B[49m\u001B[43mget_param\u001B[49m\u001B[38;5;241;43m=\u001B[39;49m\u001B[43mwrap_param\u001B[49m\u001B[43m,\u001B[49m\u001B[43m \u001B[49m\u001B[43mn_trials\u001B[49m\u001B[38;5;241;43m=\u001B[39;49m\u001B[38;5;241;43m1\u001B[39;49m\u001B[43m)\u001B[49m\n",
      "Cell \u001B[1;32mIn[78], line 2\u001B[0m, in \u001B[0;36mlgbm_cv\u001B[1;34m(X, y, n_trials, study_name, get_param)\u001B[0m\n\u001B[0;32m      1\u001B[0m \u001B[38;5;28;01mdef\u001B[39;00m \u001B[38;5;21mlgbm_cv\u001B[39m(X, y, n_trials\u001B[38;5;241m=\u001B[39m\u001B[38;5;241m10\u001B[39m, study_name\u001B[38;5;241m=\u001B[39m\u001B[38;5;124m\"\u001B[39m\u001B[38;5;124mdefault\u001B[39m\u001B[38;5;124m\"\u001B[39m, get_param\u001B[38;5;241m=\u001B[39m\u001B[38;5;28;01mNone\u001B[39;00m):\n\u001B[1;32m----> 2\u001B[0m     study \u001B[38;5;241m=\u001B[39m \u001B[43moptuna\u001B[49m\u001B[38;5;241;43m.\u001B[39;49m\u001B[43mcreate_study\u001B[49m\u001B[43m(\u001B[49m\n\u001B[0;32m      3\u001B[0m \u001B[43m        \u001B[49m\u001B[43mstudy_name\u001B[49m\u001B[38;5;241;43m=\u001B[39;49m\u001B[43mstudy_name\u001B[49m\u001B[43m,\u001B[49m\n\u001B[0;32m      4\u001B[0m \u001B[43m        \u001B[49m\u001B[43msampler\u001B[49m\u001B[38;5;241;43m=\u001B[39;49m\u001B[43mTPESampler\u001B[49m\u001B[43m(\u001B[49m\u001B[43mn_startup_trials\u001B[49m\u001B[38;5;241;43m=\u001B[39;49m\u001B[38;5;241;43m7\u001B[39;49m\u001B[43m,\u001B[49m\u001B[43m \u001B[49m\u001B[43mmultivariate\u001B[49m\u001B[38;5;241;43m=\u001B[39;49m\u001B[38;5;28;43;01mTrue\u001B[39;49;00m\u001B[43m)\u001B[49m\u001B[43m,\u001B[49m\n\u001B[0;32m      5\u001B[0m \u001B[43m    \u001B[49m\u001B[43m)\u001B[49m\n\u001B[0;32m      6\u001B[0m     study\u001B[38;5;241m.\u001B[39moptimize(\n\u001B[0;32m      7\u001B[0m         func\u001B[38;5;241m=\u001B[39mobjective(X, y, get_param),\n\u001B[0;32m      8\u001B[0m         n_trials\u001B[38;5;241m=\u001B[39m\u001B[38;5;241m10\u001B[39m,\n\u001B[0;32m      9\u001B[0m         show_progress_bar\u001B[38;5;241m=\u001B[39m\u001B[38;5;28;01mTrue\u001B[39;00m,\n\u001B[0;32m     10\u001B[0m     )\n\u001B[0;32m     11\u001B[0m     \u001B[38;5;28;01mreturn\u001B[39;00m study\n",
      "File \u001B[1;32m~\\workspace\\kaggle\\competitions\\learning-agency-lab-automated-essay-scoring-2\\.venv\\Lib\\site-packages\\optuna\\_convert_positional_args.py:83\u001B[0m, in \u001B[0;36mconvert_positional_args.<locals>.converter_decorator.<locals>.converter_wrapper\u001B[1;34m(*args, **kwargs)\u001B[0m\n\u001B[0;32m     77\u001B[0m     \u001B[38;5;28;01mraise\u001B[39;00m \u001B[38;5;167;01mTypeError\u001B[39;00m(\n\u001B[0;32m     78\u001B[0m         \u001B[38;5;124mf\u001B[39m\u001B[38;5;124m\"\u001B[39m\u001B[38;5;132;01m{\u001B[39;00mfunc\u001B[38;5;241m.\u001B[39m\u001B[38;5;18m__name__\u001B[39m\u001B[38;5;132;01m}\u001B[39;00m\u001B[38;5;124m() got multiple values for arguments \u001B[39m\u001B[38;5;132;01m{\u001B[39;00mduplicated_kwds\u001B[38;5;132;01m}\u001B[39;00m\u001B[38;5;124m.\u001B[39m\u001B[38;5;124m\"\u001B[39m\n\u001B[0;32m     79\u001B[0m     )\n\u001B[0;32m     81\u001B[0m kwargs\u001B[38;5;241m.\u001B[39mupdate(inferred_kwargs)\n\u001B[1;32m---> 83\u001B[0m \u001B[38;5;28;01mreturn\u001B[39;00m \u001B[43mfunc\u001B[49m\u001B[43m(\u001B[49m\u001B[38;5;241;43m*\u001B[39;49m\u001B[38;5;241;43m*\u001B[39;49m\u001B[43mkwargs\u001B[49m\u001B[43m)\u001B[49m\n",
      "File \u001B[1;32m~\\workspace\\kaggle\\competitions\\learning-agency-lab-automated-essay-scoring-2\\.venv\\Lib\\site-packages\\optuna\\study\\study.py:1251\u001B[0m, in \u001B[0;36mcreate_study\u001B[1;34m(storage, sampler, pruner, study_name, direction, load_if_exists, directions)\u001B[0m\n\u001B[0;32m   1249\u001B[0m storage \u001B[38;5;241m=\u001B[39m storages\u001B[38;5;241m.\u001B[39mget_storage(storage)\n\u001B[0;32m   1250\u001B[0m \u001B[38;5;28;01mtry\u001B[39;00m:\n\u001B[1;32m-> 1251\u001B[0m     study_id \u001B[38;5;241m=\u001B[39m \u001B[43mstorage\u001B[49m\u001B[38;5;241;43m.\u001B[39;49m\u001B[43mcreate_new_study\u001B[49m\u001B[43m(\u001B[49m\u001B[43mdirection_objects\u001B[49m\u001B[43m,\u001B[49m\u001B[43m \u001B[49m\u001B[43mstudy_name\u001B[49m\u001B[43m)\u001B[49m\n\u001B[0;32m   1252\u001B[0m \u001B[38;5;28;01mexcept\u001B[39;00m exceptions\u001B[38;5;241m.\u001B[39mDuplicatedStudyError:\n\u001B[0;32m   1253\u001B[0m     \u001B[38;5;28;01mif\u001B[39;00m load_if_exists:\n",
      "File \u001B[1;32m~\\workspace\\kaggle\\competitions\\learning-agency-lab-automated-essay-scoring-2\\.venv\\Lib\\site-packages\\optuna\\storages\\_in_memory.py:70\u001B[0m, in \u001B[0;36mInMemoryStorage.create_new_study\u001B[1;34m(self, directions, study_name)\u001B[0m\n\u001B[0;32m     67\u001B[0m \u001B[38;5;28mself\u001B[39m\u001B[38;5;241m.\u001B[39m_studies[study_id] \u001B[38;5;241m=\u001B[39m _StudyInfo(study_name, \u001B[38;5;28mlist\u001B[39m(directions))\n\u001B[0;32m     68\u001B[0m \u001B[38;5;28mself\u001B[39m\u001B[38;5;241m.\u001B[39m_study_name_to_id[study_name] \u001B[38;5;241m=\u001B[39m study_id\n\u001B[1;32m---> 70\u001B[0m \u001B[43m_logger\u001B[49m\u001B[38;5;241;43m.\u001B[39;49m\u001B[43minfo\u001B[49m\u001B[43m(\u001B[49m\u001B[38;5;124;43m\"\u001B[39;49m\u001B[38;5;124;43mA new study created in memory with name: \u001B[39;49m\u001B[38;5;132;43;01m{}\u001B[39;49;00m\u001B[38;5;124;43m\"\u001B[39;49m\u001B[38;5;241;43m.\u001B[39;49m\u001B[43mformat\u001B[49m\u001B[43m(\u001B[49m\u001B[43mstudy_name\u001B[49m\u001B[43m)\u001B[49m\u001B[43m)\u001B[49m\n\u001B[0;32m     72\u001B[0m \u001B[38;5;28;01mreturn\u001B[39;00m study_id\n",
      "File \u001B[1;32m~\\AppData\\Local\\Programs\\Python\\Python311\\Lib\\logging\\__init__.py:1489\u001B[0m, in \u001B[0;36mLogger.info\u001B[1;34m(self, msg, *args, **kwargs)\u001B[0m\n\u001B[0;32m   1480\u001B[0m \u001B[38;5;250m\u001B[39m\u001B[38;5;124;03m\"\"\"\u001B[39;00m\n\u001B[0;32m   1481\u001B[0m \u001B[38;5;124;03mLog 'msg % args' with severity 'INFO'.\u001B[39;00m\n\u001B[0;32m   1482\u001B[0m \n\u001B[1;32m   (...)\u001B[0m\n\u001B[0;32m   1486\u001B[0m \u001B[38;5;124;03mlogger.info(\"Houston, we have a %s\", \"interesting problem\", exc_info=1)\u001B[39;00m\n\u001B[0;32m   1487\u001B[0m \u001B[38;5;124;03m\"\"\"\u001B[39;00m\n\u001B[0;32m   1488\u001B[0m \u001B[38;5;28;01mif\u001B[39;00m \u001B[38;5;28mself\u001B[39m\u001B[38;5;241m.\u001B[39misEnabledFor(INFO):\n\u001B[1;32m-> 1489\u001B[0m     \u001B[38;5;28;43mself\u001B[39;49m\u001B[38;5;241;43m.\u001B[39;49m\u001B[43m_log\u001B[49m\u001B[43m(\u001B[49m\u001B[43mINFO\u001B[49m\u001B[43m,\u001B[49m\u001B[43m \u001B[49m\u001B[43mmsg\u001B[49m\u001B[43m,\u001B[49m\u001B[43m \u001B[49m\u001B[43margs\u001B[49m\u001B[43m,\u001B[49m\u001B[43m \u001B[49m\u001B[38;5;241;43m*\u001B[39;49m\u001B[38;5;241;43m*\u001B[39;49m\u001B[43mkwargs\u001B[49m\u001B[43m)\u001B[49m\n",
      "File \u001B[1;32m~\\AppData\\Local\\Programs\\Python\\Python311\\Lib\\logging\\__init__.py:1634\u001B[0m, in \u001B[0;36mLogger._log\u001B[1;34m(self, level, msg, args, exc_info, extra, stack_info, stacklevel)\u001B[0m\n\u001B[0;32m   1631\u001B[0m         exc_info \u001B[38;5;241m=\u001B[39m sys\u001B[38;5;241m.\u001B[39mexc_info()\n\u001B[0;32m   1632\u001B[0m record \u001B[38;5;241m=\u001B[39m \u001B[38;5;28mself\u001B[39m\u001B[38;5;241m.\u001B[39mmakeRecord(\u001B[38;5;28mself\u001B[39m\u001B[38;5;241m.\u001B[39mname, level, fn, lno, msg, args,\n\u001B[0;32m   1633\u001B[0m                          exc_info, func, extra, sinfo)\n\u001B[1;32m-> 1634\u001B[0m \u001B[38;5;28;43mself\u001B[39;49m\u001B[38;5;241;43m.\u001B[39;49m\u001B[43mhandle\u001B[49m\u001B[43m(\u001B[49m\u001B[43mrecord\u001B[49m\u001B[43m)\u001B[49m\n",
      "File \u001B[1;32m~\\AppData\\Local\\Programs\\Python\\Python311\\Lib\\logging\\__init__.py:1644\u001B[0m, in \u001B[0;36mLogger.handle\u001B[1;34m(self, record)\u001B[0m\n\u001B[0;32m   1637\u001B[0m \u001B[38;5;250m\u001B[39m\u001B[38;5;124;03m\"\"\"\u001B[39;00m\n\u001B[0;32m   1638\u001B[0m \u001B[38;5;124;03mCall the handlers for the specified record.\u001B[39;00m\n\u001B[0;32m   1639\u001B[0m \n\u001B[0;32m   1640\u001B[0m \u001B[38;5;124;03mThis method is used for unpickled records received from a socket, as\u001B[39;00m\n\u001B[0;32m   1641\u001B[0m \u001B[38;5;124;03mwell as those created locally. Logger-level filtering is applied.\u001B[39;00m\n\u001B[0;32m   1642\u001B[0m \u001B[38;5;124;03m\"\"\"\u001B[39;00m\n\u001B[0;32m   1643\u001B[0m \u001B[38;5;28;01mif\u001B[39;00m (\u001B[38;5;129;01mnot\u001B[39;00m \u001B[38;5;28mself\u001B[39m\u001B[38;5;241m.\u001B[39mdisabled) \u001B[38;5;129;01mand\u001B[39;00m \u001B[38;5;28mself\u001B[39m\u001B[38;5;241m.\u001B[39mfilter(record):\n\u001B[1;32m-> 1644\u001B[0m     \u001B[38;5;28;43mself\u001B[39;49m\u001B[38;5;241;43m.\u001B[39;49m\u001B[43mcallHandlers\u001B[49m\u001B[43m(\u001B[49m\u001B[43mrecord\u001B[49m\u001B[43m)\u001B[49m\n",
      "File \u001B[1;32m~\\AppData\\Local\\Programs\\Python\\Python311\\Lib\\logging\\__init__.py:1706\u001B[0m, in \u001B[0;36mLogger.callHandlers\u001B[1;34m(self, record)\u001B[0m\n\u001B[0;32m   1704\u001B[0m     found \u001B[38;5;241m=\u001B[39m found \u001B[38;5;241m+\u001B[39m \u001B[38;5;241m1\u001B[39m\n\u001B[0;32m   1705\u001B[0m     \u001B[38;5;28;01mif\u001B[39;00m record\u001B[38;5;241m.\u001B[39mlevelno \u001B[38;5;241m>\u001B[39m\u001B[38;5;241m=\u001B[39m hdlr\u001B[38;5;241m.\u001B[39mlevel:\n\u001B[1;32m-> 1706\u001B[0m         \u001B[43mhdlr\u001B[49m\u001B[38;5;241;43m.\u001B[39;49m\u001B[43mhandle\u001B[49m\u001B[43m(\u001B[49m\u001B[43mrecord\u001B[49m\u001B[43m)\u001B[49m\n\u001B[0;32m   1707\u001B[0m \u001B[38;5;28;01mif\u001B[39;00m \u001B[38;5;129;01mnot\u001B[39;00m c\u001B[38;5;241m.\u001B[39mpropagate:\n\u001B[0;32m   1708\u001B[0m     c \u001B[38;5;241m=\u001B[39m \u001B[38;5;28;01mNone\u001B[39;00m    \u001B[38;5;66;03m#break out\u001B[39;00m\n",
      "File \u001B[1;32m~\\AppData\\Local\\Programs\\Python\\Python311\\Lib\\logging\\__init__.py:978\u001B[0m, in \u001B[0;36mHandler.handle\u001B[1;34m(self, record)\u001B[0m\n\u001B[0;32m    976\u001B[0m \u001B[38;5;28mself\u001B[39m\u001B[38;5;241m.\u001B[39macquire()\n\u001B[0;32m    977\u001B[0m \u001B[38;5;28;01mtry\u001B[39;00m:\n\u001B[1;32m--> 978\u001B[0m     \u001B[38;5;28;43mself\u001B[39;49m\u001B[38;5;241;43m.\u001B[39;49m\u001B[43memit\u001B[49m\u001B[43m(\u001B[49m\u001B[43mrecord\u001B[49m\u001B[43m)\u001B[49m\n\u001B[0;32m    979\u001B[0m \u001B[38;5;28;01mfinally\u001B[39;00m:\n\u001B[0;32m    980\u001B[0m     \u001B[38;5;28mself\u001B[39m\u001B[38;5;241m.\u001B[39mrelease()\n",
      "File \u001B[1;32m~\\AppData\\Local\\Programs\\Python\\Python311\\Lib\\logging\\__init__.py:1118\u001B[0m, in \u001B[0;36mStreamHandler.emit\u001B[1;34m(self, record)\u001B[0m\n\u001B[0;32m   1116\u001B[0m     \u001B[38;5;28;01mraise\u001B[39;00m\n\u001B[0;32m   1117\u001B[0m \u001B[38;5;28;01mexcept\u001B[39;00m \u001B[38;5;167;01mException\u001B[39;00m:\n\u001B[1;32m-> 1118\u001B[0m     \u001B[38;5;28;43mself\u001B[39;49m\u001B[38;5;241;43m.\u001B[39;49m\u001B[43mhandleError\u001B[49m\u001B[43m(\u001B[49m\u001B[43mrecord\u001B[49m\u001B[43m)\u001B[49m\n",
      "File \u001B[1;32m~\\AppData\\Local\\Programs\\Python\\Python311\\Lib\\logging\\__init__.py:1031\u001B[0m, in \u001B[0;36mHandler.handleError\u001B[1;34m(self, record)\u001B[0m\n\u001B[0;32m   1029\u001B[0m t, v, tb \u001B[38;5;241m=\u001B[39m sys\u001B[38;5;241m.\u001B[39mexc_info()\n\u001B[0;32m   1030\u001B[0m \u001B[38;5;28;01mtry\u001B[39;00m:\n\u001B[1;32m-> 1031\u001B[0m     \u001B[43msys\u001B[49m\u001B[38;5;241;43m.\u001B[39;49m\u001B[43mstderr\u001B[49m\u001B[38;5;241;43m.\u001B[39;49m\u001B[43mwrite\u001B[49m\u001B[43m(\u001B[49m\u001B[38;5;124;43m'\u001B[39;49m\u001B[38;5;124;43m--- Logging error ---\u001B[39;49m\u001B[38;5;130;43;01m\\n\u001B[39;49;00m\u001B[38;5;124;43m'\u001B[39;49m\u001B[43m)\u001B[49m\n\u001B[0;32m   1032\u001B[0m     traceback\u001B[38;5;241m.\u001B[39mprint_exception(t, v, tb, \u001B[38;5;28;01mNone\u001B[39;00m, sys\u001B[38;5;241m.\u001B[39mstderr)\n\u001B[0;32m   1033\u001B[0m     sys\u001B[38;5;241m.\u001B[39mstderr\u001B[38;5;241m.\u001B[39mwrite(\u001B[38;5;124m'\u001B[39m\u001B[38;5;124mCall stack:\u001B[39m\u001B[38;5;130;01m\\n\u001B[39;00m\u001B[38;5;124m'\u001B[39m)\n",
      "File \u001B[1;32m~\\workspace\\kaggle\\competitions\\learning-agency-lab-automated-essay-scoring-2\\.venv\\Lib\\site-packages\\ipykernel\\iostream.py:679\u001B[0m, in \u001B[0;36mOutStream.write\u001B[1;34m(self, string)\u001B[0m\n\u001B[0;32m    677\u001B[0m \u001B[38;5;28;01mif\u001B[39;00m \u001B[38;5;28mself\u001B[39m\u001B[38;5;241m.\u001B[39mpub_thread \u001B[38;5;129;01mis\u001B[39;00m \u001B[38;5;28;01mNone\u001B[39;00m:\n\u001B[0;32m    678\u001B[0m     msg \u001B[38;5;241m=\u001B[39m \u001B[38;5;124m\"\u001B[39m\u001B[38;5;124mI/O operation on closed file\u001B[39m\u001B[38;5;124m\"\u001B[39m\n\u001B[1;32m--> 679\u001B[0m     \u001B[38;5;28;01mraise\u001B[39;00m \u001B[38;5;167;01mValueError\u001B[39;00m(msg)\n\u001B[0;32m    681\u001B[0m is_child \u001B[38;5;241m=\u001B[39m \u001B[38;5;129;01mnot\u001B[39;00m \u001B[38;5;28mself\u001B[39m\u001B[38;5;241m.\u001B[39m_is_master_process()\n\u001B[0;32m    682\u001B[0m \u001B[38;5;66;03m# only touch the buffer in the IO thread to avoid races\u001B[39;00m\n",
      "\u001B[1;31mValueError\u001B[0m: I/O operation on closed file"
     ]
    }
   ],
   "source": [
    "study = lgbm_cv(X_training, y_training, get_param=wrap_param, n_trials=1)"
   ],
   "metadata": {
    "collapsed": false,
    "ExecuteTime": {
     "end_time": "2024-05-26T09:19:11.196515300Z",
     "start_time": "2024-05-26T09:19:11.064351800Z"
    }
   },
   "id": "f0f2f0e4cdd20526"
  },
  {
   "cell_type": "code",
   "execution_count": 74,
   "outputs": [],
   "source": [
    "target_transformer = TargetTransformer()\n",
    "scaler = RobustScaler()\n",
    "model = LGBMClassifier(objective=\"multiclass\", num_class=configuration_item.num_labels)"
   ],
   "metadata": {
    "collapsed": false,
    "ExecuteTime": {
     "end_time": "2024-05-26T09:18:51.743564700Z",
     "start_time": "2024-05-26T09:18:51.721340900Z"
    }
   },
   "id": "e55b9968d52f3705"
  },
  {
   "cell_type": "code",
   "execution_count": 20,
   "outputs": [],
   "source": [
    "def get_performance_metrics(truth, estimate):\n",
    "    return ({\n",
    "        \"Accuracy\": accuracy_score(truth, estimate),\n",
    "        \"Balanced Accuracy\": balanced_accuracy_score(truth, estimate),\n",
    "        \"Weighted F1\": f1_score(truth, estimate, average=\"weighted\"),\n",
    "        \"Weighted Recall\": recall_score(truth, estimate, average=\"weighted\"),\n",
    "        \"QWK\": cohen_kappa_score(truth, estimate, weights=\"quadratic\"),\n",
    "    })"
   ],
   "metadata": {
    "collapsed": false,
    "ExecuteTime": {
     "end_time": "2024-05-25T05:22:48.261349900Z",
     "start_time": "2024-05-25T05:22:48.244658800Z"
    }
   },
   "id": "bcbc20abe7866f7c"
  },
  {
   "cell_type": "code",
   "execution_count": 21,
   "outputs": [],
   "source": [
    "fixed_params = wrap_param(refit=True)\n",
    "hyperparametrized_params = study.best_trial.params\n",
    "n_iteration = study.best_trial.user_attrs\n",
    "params = fixed_params | hyperparametrized_params | n_iteration\n",
    "\n",
    "model = LGBMClassifier(**params)\n",
    "model.fit(X_training, np.ravel(y_training[\"score\"]))\n",
    "\n",
    "y_validation_pred = model.predict(X_validation)\n"
   ],
   "metadata": {
    "collapsed": false,
    "ExecuteTime": {
     "end_time": "2024-05-25T05:22:49.031224100Z",
     "start_time": "2024-05-25T05:22:48.250656400Z"
    }
   },
   "id": "1ef26e7bd98f6cac"
  },
  {
   "cell_type": "code",
   "execution_count": 22,
   "outputs": [
    {
     "data": {
      "text/plain": "{'Accuracy': 0.4423076923076923,\n 'Balanced Accuracy': 0.27832080200501247,\n 'Weighted F1': 0.3685513916283147,\n 'Weighted Recall': 0.4423076923076923,\n 'QWK': 0.40313549832026874}"
     },
     "execution_count": 22,
     "metadata": {},
     "output_type": "execute_result"
    }
   ],
   "source": [
    "performances = get_performance_metrics(truth=y_validation, estimate=y_validation_pred)\n",
    "performances\n",
    "# display(pd.DataFrame.from_dict(performances))"
   ],
   "metadata": {
    "collapsed": false,
    "ExecuteTime": {
     "end_time": "2024-05-25T05:22:49.093492100Z",
     "start_time": "2024-05-25T05:22:49.031224100Z"
    }
   },
   "id": "7a46caed4b7d2030"
  },
  {
   "cell_type": "code",
   "execution_count": 23,
   "outputs": [
    {
     "data": {
      "text/plain": "0     2\n1     3\n2     1\n3     3\n4     2\n5     2\n6     2\n7     2\n8     0\n9     3\n10    1\n11    2\n12    1\n13    2\n14    1\n15    4\n16    0\n17    0\n18    1\n19    3\n20    2\n21    2\n22    1\n23    3\n24    3\n25    0\n26    1\n27    1\n28    2\n29    2\n30    3\n31    3\n32    1\n33    1\n34    2\n35    4\n36    2\n37    3\n38    3\n39    2\n40    2\n41    2\n42    2\n43    2\n44    3\n45    3\n46    4\n47    2\n48    1\n49    1\n50    1\n51    1\nName: score, dtype: int64"
     },
     "execution_count": 23,
     "metadata": {},
     "output_type": "execute_result"
    }
   ],
   "source": [
    "y_validation.score"
   ],
   "metadata": {
    "collapsed": false,
    "ExecuteTime": {
     "end_time": "2024-05-25T05:22:49.108208900Z",
     "start_time": "2024-05-25T05:22:49.064652200Z"
    }
   },
   "id": "5a59c9ea98b15fbd"
  },
  {
   "cell_type": "code",
   "execution_count": 35,
   "outputs": [
    {
     "data": {
      "text/plain": "<Figure size 640x480 with 2 Axes>",
      "image/png": "[encoded data removed]"
     },
     "metadata": {},
     "output_type": "display_data"
    }
   ],
   "source": [
    "cm = confusion_matrix(y_validation, y_validation_pred, labels=[i for i in range(6)], normalize=\"true\").round(2)\n",
    "dist = ConfusionMatrixDisplay(cm, display_labels=[i for i in range(6)])\n",
    "dist.plot()\n",
    "plt.show()"
   ],
   "metadata": {
    "collapsed": false,
    "ExecuteTime": {
     "end_time": "2024-05-25T08:40:28.916872900Z",
     "start_time": "2024-05-25T08:40:28.705126700Z"
    }
   },
   "id": "8787fe307034a423"
  }
 ]
}
