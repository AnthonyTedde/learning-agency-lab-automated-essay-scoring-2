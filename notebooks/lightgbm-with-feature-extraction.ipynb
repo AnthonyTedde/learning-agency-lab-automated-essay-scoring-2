{
 "metadata": {
  "kaggle": {
   "accelerator": "gpu",
   "dataSources": [
    {
     "sourceId": 71485,
     "databundleVersionId": 8059942,
     "sourceType": "competition"
    }
   ],
   "dockerImageVersionId": 30699,
   "isInternetEnabled": true,
   "language": "python",
   "sourceType": "notebook",
   "isGpuEnabled": true
  },
  "kernelspec": {
   "display_name": "Python 3",
   "language": "python",
   "name": "python3"
  },
  "language_info": {
   "name": "python",
   "version": "3.10.13",
   "mimetype": "text/x-python",
   "codemirror_mode": {
    "name": "ipython",
    "version": 3
   },
   "pygments_lexer": "ipython3",
   "nbconvert_exporter": "python",
   "file_extension": ".py"
  }
 },
 "nbformat_minor": 5,
 "nbformat": 4,
 "cells": [
  {
   "cell_type": "markdown",
   "source": [
    "# General context"
   ],
   "metadata": {},
   "id": "8f6aecfafb899c1"
  },
  {
   "cell_type": "markdown",
   "source": [
    "The [Learning Agency Lab - Automated Essay Scoring 2.0](https://www.kaggle.com/competitions/learning-agency-lab-automated-essay-scoring-2/overview) competition aims to enhance automated essay grading systems to support overburdened teachers, especially in underserved communities. It addresses the limitations of previous efforts by using a larger, more diverse dataset to improve scoring accuracy and fairness. Hosted by Vanderbilt University and The Learning Agency Lab, the competition seeks to develop open-source tools that provide timely feedback to students and integrate more effectively into real-world educational settings. This initiative represents a significant advancement in educational technology, promoting equitable access to reliable automated essay scoring.\n",
    "\n",
    "In this notebook, I conducted exploratory data analysis and developed models using the Deberta V3 architecture ([He et al., 2021](https://arxiv.org/abs/2111.09543)). Additionally, I utilized the Hugging Face `datasets` library in conjunction with PyTorch's `DataLoader` for efficient data handling. I established a training loop using native PyTorch functionalities and modeled the outputs as ordinal values to account for their inherent order.\n",
    "\n",
    "**Todo: add some result**"
   ],
   "metadata": {},
   "id": "ea6aee9af3087c24"
  },
  {
   "cell_type": "markdown",
   "source": [
    "# Inclusion and global variables"
   ],
   "metadata": {},
   "id": "a6b498c5fa91027e"
  },
  {
   "cell_type": "code",
   "source": [
    "import os\n",
    "import math\n",
    "from dataclasses import dataclass, field\n",
    "from pathlib import Path\n",
    "from typing import List, Any\n",
    "import logging\n",
    "\n",
    "import settings.settings\n",
    "import importlib\n",
    "importlib.reload(settings.settings)\n",
    "\n",
    "from settings.settings import (\n",
    "    LOCAL_STR,\n",
    "    DEBERTA_V3_CKPT,\n",
    "    DISTILBERT,\n",
    "    MATPLOTBLUE,\n",
    "    SEED,\n",
    "    DEVICE,\n",
    "    configuration_builder,\n",
    ")\n",
    "from settings.function_utils import (\n",
    "    category_to_ordinal\n",
    ")\n",
    "\n",
    "import matplotlib.pyplot as plt\n",
    "import matplotlib as mpl\n",
    "import seaborn as sns\n",
    "\n",
    "import numpy as np\n",
    "import pandas as pd\n",
    "\n",
    "import torch\n",
    "import torch.utils\n",
    "import torch.utils.data\n",
    "import torch.nn as nn\n",
    "from torch.optim import AdamW\n",
    "from torch.utils.data import (\n",
    "    DataLoader,\n",
    ")\n",
    "\n",
    "from sklearn.model_selection import train_test_split\n",
    "import polars as pl\n",
    "\n",
    "from transformers import (\n",
    "    AutoTokenizer,\n",
    "    AutoModelForSequenceClassification,\n",
    "    AutoModel,\n",
    "    DataCollatorWithPadding,\n",
    ")\n",
    "import datasets\n",
    "from datasets import Dataset, DatasetDict\n",
    "# from peft import LoraConfig \n",
    "\n",
    "from sklearn.utils.estimator_checks import check_estimator\n",
    "from sklearn.base import (\n",
    "    BaseEstimator,\n",
    "    ClassifierMixin,\n",
    ")"
   ],
   "metadata": {
    "execution": {
     "iopub.status.busy": "2024-05-16T14:22:28.303518Z",
     "iopub.execute_input": "2024-05-16T14:22:28.304166Z",
     "iopub.status.idle": "2024-05-16T14:22:46.909315Z",
     "shell.execute_reply.started": "2024-05-16T14:22:28.304135Z",
     "shell.execute_reply": "2024-05-16T14:22:46.908345Z"
    },
    "trusted": true,
    "ExecuteTime": {
     "end_time": "2024-05-25T04:33:51.879127300Z",
     "start_time": "2024-05-25T04:33:19.265741300Z"
    }
   },
   "execution_count": 1,
   "outputs": [],
   "id": "cf01cfdb11c9978b"
  },
  {
   "cell_type": "code",
   "execution_count": 2,
   "outputs": [],
   "source": [
    "DEBUG = True"
   ],
   "metadata": {
    "collapsed": false,
    "ExecuteTime": {
     "end_time": "2024-05-25T04:33:51.897139800Z",
     "start_time": "2024-05-25T04:33:51.879127300Z"
    }
   },
   "id": "d10601a5b4682b76"
  },
  {
   "cell_type": "markdown",
   "source": [
    "## Set and define global configuration"
   ],
   "metadata": {},
   "id": "334dbc0c169b32b4"
  },
  {
   "cell_type": "markdown",
   "source": [
    "In this section, I set up a configuration builder that utilizes the Python data class `ConfigurationSetting` to enhance the code's flexibility. This approach allows the code to run with specific configurations in dedicated environments. The instance of `ConfigurationSetting` created by the builder is used throughout the code, replacing hardcoded values."
   ],
   "metadata": {},
   "id": "2dd04eafb242df94"
  },
  {
   "cell_type": "code",
   "source": [
    "configuration_item = configuration_builder(\n",
    "    model_ckpt=DISTILBERT,\n",
    "    plot_color=MATPLOTBLUE,\n",
    "    seed=SEED,\n",
    "    device=DEVICE\n",
    ")"
   ],
   "metadata": {
    "execution": {
     "iopub.status.busy": "2024-05-16T14:22:46.985478Z",
     "iopub.execute_input": "2024-05-16T14:22:46.985901Z",
     "iopub.status.idle": "2024-05-16T14:22:46.999376Z",
     "shell.execute_reply.started": "2024-05-16T14:22:46.985868Z",
     "shell.execute_reply": "2024-05-16T14:22:46.998596Z"
    },
    "trusted": true,
    "ExecuteTime": {
     "end_time": "2024-05-25T04:33:51.907387600Z",
     "start_time": "2024-05-25T04:33:51.880804900Z"
    }
   },
   "execution_count": 3,
   "outputs": [],
   "id": "e02bf7b490560345"
  },
  {
   "cell_type": "markdown",
   "source": [
    "Warnings are suppressed in my local environment, particularly to remove information about my computing system before the code is pushed to GitHub."
   ],
   "metadata": {},
   "id": "e890f9f8fad6024e"
  },
  {
   "cell_type": "code",
   "source": [
    "if configuration_item.name == LOCAL_STR:\n",
    "    logging.captureWarnings(True)\n",
    "    logger: logging.Logger = logging.getLogger(\"py.warnings\")\n",
    "    logger.addHandler(logging.FileHandler(\"tmp.log\"))"
   ],
   "metadata": {
    "execution": {
     "iopub.status.busy": "2024-05-16T14:22:47.000533Z",
     "iopub.execute_input": "2024-05-16T14:22:47.001178Z",
     "iopub.status.idle": "2024-05-16T14:22:47.008578Z",
     "shell.execute_reply.started": "2024-05-16T14:22:47.001146Z",
     "shell.execute_reply": "2024-05-16T14:22:47.007776Z"
    },
    "trusted": true,
    "ExecuteTime": {
     "end_time": "2024-05-25T04:33:51.907387600Z",
     "start_time": "2024-05-25T04:33:51.897139800Z"
    }
   },
   "execution_count": 4,
   "outputs": [],
   "id": "4ad0f887ab31e924"
  },
  {
   "cell_type": "markdown",
   "source": [
    "# Load the data"
   ],
   "metadata": {},
   "id": "510888a651886c0e"
  },
  {
   "cell_type": "markdown",
   "source": [
    "Data comes from the Kaggle competition [Learning Agency Lab - Automated Essay Scoring 2.0](https://www.kaggle.com/competitions/learning-agency-lab-automated-essay-scoring-2/overview) and can be downloaded from the competition's page."
   ],
   "metadata": {},
   "id": "c8e0490cc9772205"
  },
  {
   "cell_type": "code",
   "source": [
    "if not configuration_item.data_path:\n",
    "    raise ValueError\n",
    "\n",
    "train_ds = pd.read_csv(\n",
    "    filepath_or_buffer=configuration_item.data_path / \"train.csv\"\n",
    ")\n"
   ],
   "metadata": {
    "collapsed": false,
    "execution": {
     "iopub.status.busy": "2024-05-16T14:22:47.009698Z",
     "iopub.execute_input": "2024-05-16T14:22:47.009968Z",
     "iopub.status.idle": "2024-05-16T14:22:47.779995Z",
     "shell.execute_reply.started": "2024-05-16T14:22:47.009947Z",
     "shell.execute_reply": "2024-05-16T14:22:47.778907Z"
    },
    "trusted": true,
    "ExecuteTime": {
     "end_time": "2024-05-25T04:33:52.417867600Z",
     "start_time": "2024-05-25T04:33:51.912450Z"
    }
   },
   "execution_count": 5,
   "outputs": [],
   "id": "94de690130ee3965"
  },
  {
   "cell_type": "markdown",
   "source": [
    "For the sake of speed, I reduced the dataset size in my local environment. However, even with fewer records, fine-tuning DeBERTA on CPU machines remains challenging and significantly slower without GPU access."
   ],
   "metadata": {},
   "id": "d1c7082c033a8a66"
  },
  {
   "cell_type": "code",
   "source": [
    "# Keep small for local investigation\n",
    "if (configuration_item.name == LOCAL_STR) | DEBUG:\n",
    "    train_ds, _ = train_test_split(\n",
    "        train_ds, \n",
    "        test_size=.99, \n",
    "        random_state=configuration_item.seed, \n",
    "        stratify=train_ds[\"score\"]\n",
    "    )"
   ],
   "metadata": {
    "execution": {
     "iopub.status.busy": "2024-05-16T14:22:47.781245Z",
     "iopub.execute_input": "2024-05-16T14:22:47.781561Z",
     "iopub.status.idle": "2024-05-16T14:22:47.804739Z",
     "shell.execute_reply.started": "2024-05-16T14:22:47.781534Z",
     "shell.execute_reply": "2024-05-16T14:22:47.803855Z"
    },
    "trusted": true,
    "ExecuteTime": {
     "end_time": "2024-05-25T04:33:52.445770500Z",
     "start_time": "2024-05-25T04:33:52.417867600Z"
    }
   },
   "execution_count": 6,
   "outputs": [],
   "id": "d49ec797a52a4aa3"
  },
  {
   "cell_type": "markdown",
   "source": [
    "# Exploratory Data Analysis"
   ],
   "metadata": {},
   "id": "5d6d54ed980ddb4e"
  },
  {
   "cell_type": "markdown",
   "source": [
    "# Data wrangling"
   ],
   "metadata": {},
   "id": "11eb1b473f196950"
  },
  {
   "cell_type": "markdown",
   "source": [
    "## Turn the score label into ordinal"
   ],
   "metadata": {
    "collapsed": false
   },
   "id": "c89d5ed4e640a4aa"
  },
  {
   "cell_type": "markdown",
   "source": [
    "Ordinal regression is used when the dependent variable (the outcome you're trying to predict) holds an intrinsic order, but the distances between the levels are not known. The classic examples include a Likert scale for surveys (e.g., \"strongly disagree,\" \"disagree,\" \"neutral,\" \"agree,\" \"strongly agree\"), grades (A, B, C, D, F), or in the case at hand, essay scores. The key advantage of ordinal regression is its ability to handle dependent variables that are more nuanced than simple binary outcomes but don’t have the numeric spacing needed for linear regression. For instance, while we know that grade A is higher than grade B, we cannot say that it is exactly two points higher as we might with numerical scores. This is where ordinal regression comes in—it allows the modeling of the rank order of the dependent variable without making assumptions about the value of the intervals between levels. In the context of modeling essay scores, ordinal regression can predict the rank order of the essays' quality. It is particularly apt for this kind of task because it can learn from the order inherent in the scores without assuming equal spacing between score levels. This can result in more accurate models for ordered categorical data, as it respects the nature of the ranking involved. When using ordinal regression, we need to transform the target variable to reflect the ordinal nature. In a standard regression problem, the target is typically a single column of values. In ordinal regression, however, the target is often expanded into a matrix that represents the ranking order. This matrix enables the model to understand and predict not just whether one essay is better than another but the relative ranking across the spectrum of scores. To prepare for ordinal regression, the scores was transformed into an ordinal matrix with a process known as “one-hot encoding” of the ranks. "
   ],
   "metadata": {},
   "id": "1cd6d04b31cdc421"
  },
  {
   "cell_type": "code",
   "source": [
    "train_ds[\"labels\"] = category_to_ordinal(train_ds.score.values).tolist()"
   ],
   "metadata": {
    "execution": {
     "iopub.status.busy": "2024-05-16T14:22:48.372627Z",
     "iopub.execute_input": "2024-05-16T14:22:48.372882Z",
     "iopub.status.idle": "2024-05-16T14:22:48.381784Z",
     "shell.execute_reply.started": "2024-05-16T14:22:48.372860Z",
     "shell.execute_reply": "2024-05-16T14:22:48.380922Z"
    },
    "trusted": true,
    "ExecuteTime": {
     "end_time": "2024-05-25T04:33:52.469840100Z",
     "start_time": "2024-05-25T04:33:52.447508200Z"
    }
   },
   "execution_count": 7,
   "outputs": [],
   "id": "9d18239e2a6e105d"
  },
  {
   "cell_type": "code",
   "source": [
    "display(train_ds.head())"
   ],
   "metadata": {
    "execution": {
     "iopub.status.busy": "2024-05-16T14:22:48.382844Z",
     "iopub.execute_input": "2024-05-16T14:22:48.383164Z",
     "iopub.status.idle": "2024-05-16T14:22:48.401998Z",
     "shell.execute_reply.started": "2024-05-16T14:22:48.383136Z",
     "shell.execute_reply": "2024-05-16T14:22:48.400913Z"
    },
    "trusted": true,
    "ExecuteTime": {
     "end_time": "2024-05-25T04:33:52.514637400Z",
     "start_time": "2024-05-25T04:33:52.449714800Z"
    }
   },
   "execution_count": 8,
   "outputs": [
    {
     "data": {
      "text/plain": "      essay_id                                          full_text  score  \\\n12859  bd3ec7d  While there have been presidents that have run...      6   \n1744   1b0037e  Is studying Venus a worthy pursuit despite the...      2   \n5646   545a0f3  Luke Bomberger had a friend who asked him to t...      1   \n6041   5a7d2db  In the article \"The Challenge of Exploring Ven...      2   \n7336   6e0d125  The Face\\n\\nSome people don't believe the Face...      3   \n\n                   labels  \n12859  [1, 1, 1, 1, 1, 1]  \n1744   [1, 1, 0, 0, 0, 0]  \n5646   [1, 0, 0, 0, 0, 0]  \n6041   [1, 1, 0, 0, 0, 0]  \n7336   [1, 1, 1, 0, 0, 0]  ",
      "text/html": "<div>\n<style scoped>\n    .dataframe tbody tr th:only-of-type {\n        vertical-align: middle;\n    }\n\n    .dataframe tbody tr th {\n        vertical-align: top;\n    }\n\n    .dataframe thead th {\n        text-align: right;\n    }\n</style>\n<table border=\"1\" class=\"dataframe\">\n  <thead>\n    <tr style=\"text-align: right;\">\n      <th></th>\n      <th>essay_id</th>\n      <th>full_text</th>\n      <th>score</th>\n      <th>labels</th>\n    </tr>\n  </thead>\n  <tbody>\n    <tr>\n      <th>12859</th>\n      <td>bd3ec7d</td>\n      <td>While there have been presidents that have run...</td>\n      <td>6</td>\n      <td>[1, 1, 1, 1, 1, 1]</td>\n    </tr>\n    <tr>\n      <th>1744</th>\n      <td>1b0037e</td>\n      <td>Is studying Venus a worthy pursuit despite the...</td>\n      <td>2</td>\n      <td>[1, 1, 0, 0, 0, 0]</td>\n    </tr>\n    <tr>\n      <th>5646</th>\n      <td>545a0f3</td>\n      <td>Luke Bomberger had a friend who asked him to t...</td>\n      <td>1</td>\n      <td>[1, 0, 0, 0, 0, 0]</td>\n    </tr>\n    <tr>\n      <th>6041</th>\n      <td>5a7d2db</td>\n      <td>In the article \"The Challenge of Exploring Ven...</td>\n      <td>2</td>\n      <td>[1, 1, 0, 0, 0, 0]</td>\n    </tr>\n    <tr>\n      <th>7336</th>\n      <td>6e0d125</td>\n      <td>The Face\\n\\nSome people don't believe the Face...</td>\n      <td>3</td>\n      <td>[1, 1, 1, 0, 0, 0]</td>\n    </tr>\n  </tbody>\n</table>\n</div>"
     },
     "metadata": {},
     "output_type": "display_data"
    }
   ],
   "id": "36cc9c353009ecb9"
  },
  {
   "cell_type": "markdown",
   "source": [
    "## Create training / validation set"
   ],
   "metadata": {},
   "id": "73cd99b0db4e4495"
  },
  {
   "cell_type": "code",
   "source": [
    "train_set, validation_set = train_test_split(\n",
    "    train_ds, \n",
    "    train_size=.7, \n",
    "    random_state=SEED, \n",
    "    stratify=train_ds.score\n",
    ")"
   ],
   "metadata": {
    "collapsed": false,
    "execution": {
     "iopub.status.busy": "2024-05-16T14:22:48.403063Z",
     "iopub.execute_input": "2024-05-16T14:22:48.403814Z",
     "iopub.status.idle": "2024-05-16T14:22:48.411452Z",
     "shell.execute_reply.started": "2024-05-16T14:22:48.403790Z",
     "shell.execute_reply": "2024-05-16T14:22:48.410530Z"
    },
    "trusted": true,
    "ExecuteTime": {
     "end_time": "2024-05-25T04:33:52.514637400Z",
     "start_time": "2024-05-25T04:33:52.497166400Z"
    }
   },
   "execution_count": 9,
   "outputs": [],
   "id": "565bf8f9d211feaa"
  },
  {
   "cell_type": "code",
   "source": [
    "train_set_tmp = train_set.copy()\n",
    "validation_set_tmp = validation_set.copy()\n",
    "\n",
    "train_set_tmp[\"type\"] = \"Training\"\n",
    "validation_set_tmp[\"type\"] = \"Validation\"\n",
    "# ingnore_index force the creation of a new index.\n",
    "combined_set = pd.concat(\n",
    "    [train_set_tmp, validation_set_tmp], \n",
    "    ignore_index=True\n",
    ")\n",
    "\n",
    "proportion = (\n",
    "    combined_set.groupby(\"type\")[\"score\"]\n",
    "    .value_counts(normalize=True)\n",
    "    .reset_index()\n",
    ")\n",
    "proportion[\"proportion\"] *=100\n",
    "\n",
    "ax = sns.barplot(proportion, x=\"score\", y=\"proportion\", hue=\"type\")\n",
    "ax.bar_label(ax.containers[0], fontsize=10, fmt=\"%.f%%\")\n",
    "ax.bar_label(ax.containers[1], fontsize=10, fmt=\"%.f%%\")\n",
    "\n",
    "plt.title(\"Comparative Distribution of Scores Proportion in Training and Validation Sets\")\n",
    "plt.xlabel(\"Scores\")\n",
    "plt.ylabel(\"Proportion (%)\")\n",
    "plt.show()\n",
    "\n",
    "del(train_set_tmp)\n",
    "del(validation_set_tmp)\n",
    "del(proportion)"
   ],
   "metadata": {
    "collapsed": false,
    "execution": {
     "iopub.status.busy": "2024-05-16T14:22:48.412576Z",
     "iopub.execute_input": "2024-05-16T14:22:48.413179Z",
     "iopub.status.idle": "2024-05-16T14:22:48.796431Z",
     "shell.execute_reply.started": "2024-05-16T14:22:48.413146Z",
     "shell.execute_reply": "2024-05-16T14:22:48.795513Z"
    },
    "trusted": true,
    "ExecuteTime": {
     "end_time": "2024-05-25T04:33:53.097369900Z",
     "start_time": "2024-05-25T04:33:52.512457700Z"
    }
   },
   "execution_count": 10,
   "outputs": [
    {
     "data": {
      "text/plain": "<Figure size 640x480 with 1 Axes>",
      "image/png": "[encoded data removed]"
     },
     "metadata": {},
     "output_type": "display_data"
    }
   ],
   "id": "8facf148c313605c"
  },
  {
   "cell_type": "markdown",
   "source": [
    "The provided plot presents a grouped bar chart depicting the distribution of scores within two distinct datasets: Training and Validation. Each score category from 1 to 6 is represented by a pair of bars—one for the Training set (in blue) and one for the Validation set (in orange). The stratification ensures that the proportion of scores in each score category is consistent across both training and validation sets. This consistency is critical when developing a model for ordinal regression, as it allows the model to learn from a training set that mirrors the real-world or expected distribution of scores. Consequently, when the model is validated, the validation set similarly reflects this distribution, allowing for an accurate assessment of the model's performance. From the visual comparison of the bar heights, it is evident that each score's representation in the training set closely matches its representation in the validation set."
   ],
   "metadata": {},
   "id": "6768819307df2f2b"
  },
  {
   "cell_type": "code",
   "execution_count": 11,
   "outputs": [],
   "source": [
    "data_dict = DatasetDict({\n",
    "    \"training\": Dataset.from_pandas(train_set),\n",
    "    \"validation\": Dataset.from_pandas(validation_set)\n",
    "})"
   ],
   "metadata": {
    "collapsed": false,
    "ExecuteTime": {
     "end_time": "2024-05-25T04:33:53.278920900Z",
     "start_time": "2024-05-25T04:33:53.097369900Z"
    }
   },
   "id": "1a5d6f1416303c5d"
  },
  {
   "cell_type": "markdown",
   "source": [
    "## Tokenize the text"
   ],
   "metadata": {
    "collapsed": false
   },
   "id": "8014048ff9050888"
  },
  {
   "cell_type": "markdown",
   "source": [
    "Tokenization is a fundamental process in natural language processing (NLP) where text is segmented into smaller units known as tokens. These tokens can be individual words, characters, or subwords. This segmentation is similar to parsing a sentence into its constituent words or breaking a word down into syllables.\n",
    "\n",
    "In our experiment, we used [DistilBERT model](https://arxiv.org/abs/1910.01108), which has an input size limit of 512 tokens. To prevent errors caused by input sequences that exceed this limit, we set truncation to true for this model."
   ],
   "metadata": {
    "collapsed": false
   },
   "id": "258dbc659b7c2b34"
  },
  {
   "cell_type": "code",
   "execution_count": 12,
   "outputs": [
    {
     "data": {
      "text/plain": "Map:   0%|          | 0/121 [00:00<?, ? examples/s]",
      "application/vnd.jupyter.widget-view+json": {
       "version_major": 2,
       "version_minor": 0,
       "model_id": "151e798d347341db9b46f9197501bebd"
      }
     },
     "metadata": {},
     "output_type": "display_data"
    },
    {
     "data": {
      "text/plain": "Map:   0%|          | 0/52 [00:00<?, ? examples/s]",
      "application/vnd.jupyter.widget-view+json": {
       "version_major": 2,
       "version_minor": 0,
       "model_id": "b827c9a9a45c49019335b7c58e845b40"
      }
     },
     "metadata": {},
     "output_type": "display_data"
    }
   ],
   "source": [
    "tokenizer = (AutoTokenizer\n",
    "             .from_pretrained(configuration_item.model_ckpt)\n",
    "             )\n",
    "\n",
    "def tokenize(batch):\n",
    "    a=1\n",
    "    return tokenizer(batch[\"full_text\"], padding=True, truncation=True)\n",
    "encoded_data_dict = data_dict.map(tokenize, batched=True, batch_size=1000)"
   ],
   "metadata": {
    "collapsed": false,
    "ExecuteTime": {
     "end_time": "2024-05-25T04:33:53.846696400Z",
     "start_time": "2024-05-25T04:33:53.160543800Z"
    }
   },
   "id": "b7b2a89e53327"
  },
  {
   "cell_type": "markdown",
   "source": [
    "## Compute last hidden state"
   ],
   "metadata": {
    "collapsed": false
   },
   "id": "d75904d69b995274"
  },
  {
   "cell_type": "markdown",
   "source": [
    "We transform the token encodings into the last hidden state embeddings using DistilBERT, where each token has a meaningful contextual representation. We extract the last hidden state of the [CLS] token, which specifies the start of the sequence, as a summary of the whole sequence. Ultimately, we use this last hidden state of the [CLS] token as input predictors in a LightGBM model."
   ],
   "metadata": {
    "collapsed": false
   },
   "id": "8d3bba799815cc9"
  },
  {
   "cell_type": "code",
   "execution_count": 13,
   "outputs": [
    {
     "data": {
      "text/plain": "Map:   0%|          | 0/121 [00:00<?, ? examples/s]",
      "application/vnd.jupyter.widget-view+json": {
       "version_major": 2,
       "version_minor": 0,
       "model_id": "2194c83102b34bd7ae4adeaa63c93896"
      }
     },
     "metadata": {},
     "output_type": "display_data"
    },
    {
     "data": {
      "text/plain": "Map:   0%|          | 0/52 [00:00<?, ? examples/s]",
      "application/vnd.jupyter.widget-view+json": {
       "version_major": 2,
       "version_minor": 0,
       "model_id": "3b8b8d337a4d47ed9d23a579f27d00a6"
      }
     },
     "metadata": {},
     "output_type": "display_data"
    }
   ],
   "source": [
    "model = AutoModel.from_pretrained(\n",
    "    configuration_item.model_ckpt\n",
    ").to(configuration_item.torch_device)\n",
    "\n",
    "def extract_last_hidden_state(batch, model, tokenizer):\n",
    "    mdl_item = {k: v.to(configuration_item.torch_device) for k, v in batch.items() if k in tokenizer.model_input_names}\n",
    "    with torch.no_grad():\n",
    "        last_hidden_state = model(**mdl_item).last_hidden_state\n",
    "    return {\"last_hidden_state\": last_hidden_state[:, 0].cpu().numpy()}\n",
    "\n",
    "encoded_data_dict.set_format(type=\"pt\", columns=[\"input_ids\", \"attention_mask\", \"score\"])\n",
    "\n",
    "hidden_data_dict = encoded_data_dict.map(extract_last_hidden_state, \n",
    "                                       fn_kwargs={\"model\": model, \"tokenizer\": tokenizer}, \n",
    "                                       batched=True, batch_size=2)"
   ],
   "metadata": {
    "collapsed": false,
    "ExecuteTime": {
     "end_time": "2024-05-25T04:36:42.405029100Z",
     "start_time": "2024-05-25T04:33:53.837641400Z"
    }
   },
   "id": "58bc3b0195e0d090"
  },
  {
   "cell_type": "markdown",
   "source": [
    "# Modeling using LightGBM"
   ],
   "metadata": {},
   "id": "6af63836563ea677"
  },
  {
   "cell_type": "code",
   "execution_count": 23,
   "outputs": [],
   "source": [
    "from sklearn.model_selection import KFold, cross_validate\n",
    "from optuna.samplers import TPESampler\n",
    "import optuna\n",
    "from optuna.integration.lightgbm import cv\n",
    "from lightgbm import Dataset as LGBMDataSet, early_stopping, cv, LGBMClassifier\n",
    "\n",
    "from sklearn.metrics import (\n",
    "    accuracy_score,\n",
    "    balanced_accuracy_score,\n",
    "    cohen_kappa_score,\n",
    "    f1_score,\n",
    "    recall_score,\n",
    ")"
   ],
   "metadata": {
    "collapsed": false,
    "ExecuteTime": {
     "end_time": "2024-05-25T05:07:27.677455500Z",
     "start_time": "2024-05-25T05:07:27.667228500Z"
    }
   },
   "id": "49784980db90fe31"
  },
  {
   "cell_type": "markdown",
   "source": [
    "## Parameters"
   ],
   "metadata": {
    "collapsed": false
   },
   "id": "bec0a693c149ecb4"
  },
  {
   "cell_type": "markdown",
   "source": [
    "### Objectives parameters"
   ],
   "metadata": {
    "collapsed": false
   },
   "id": "21d3f9285c98cc33"
  },
  {
   "cell_type": "markdown",
   "source": [
    "### Metric parameters"
   ],
   "metadata": {
    "collapsed": false
   },
   "id": "8bcf04abc5e3b24d"
  },
  {
   "cell_type": "code",
   "execution_count": 15,
   "outputs": [],
   "source": [
    "def wrap_param(trial=None, refit=False):\n",
    "    params = {\n",
    "        \"task\": \"train\",\n",
    "        \"objective\": \"multiclass\",\n",
    "        \"num_class\": configuration_item.num_labels,\n",
    "        \"is_unbalanced\": True,\n",
    "        \"boosting\": \"gbdt\",\n",
    "        \"device_type\": configuration_item.device,\n",
    "        \"num_thread\": configuration_item.n_worker,\n",
    "        \"tree_learner\": \"feature_parallel\", # (https://lightgbm.readthedocs.io/en/stable/Parallel-Learning-Guide.html)\n",
    "        \"seed\": configuration_item.seed, # Overal seed.\n",
    "        \"verbosity\": -1,\n",
    "        \"learning_rate\": 1e-1,\n",
    "        \"metric\": [\"multi_logloss\", \"multi_error\", \"auc_mu\", ],\n",
    "        \"first_metric_only\": True,\n",
    "        \"data_sample_strategy\": \"goss\", # Gradient-Based One-Side Sampling --> Focusing on higher errored records\n",
    "        \"boost_from_average\": True,\n",
    "        \"extra_trees\": True, # EXTremely RAndomize trees: speed up training, decrease training overfitting.\n",
    "        \"is_provide_training_metric\": True,\n",
    "        \"force_col_wise\": True, # Force because large number of columns. Forcing reduce overhead due to testing the best data representation.\n",
    "        \n",
    "    }\n",
    "    if trial:\n",
    "        params |= {\n",
    "            \"feature_fraction\": trial.suggest_float(\"feature_fraction\", .4, 1.0),\n",
    "            \"sigmoid\": trial.suggest_float(\"sigmoid\", 10e-4, 5.0),\n",
    "            \"num_leaves\": trial.suggest_int(\"num_leaves\", 8, 256),\n",
    "            \"lambda_l2\": trial.suggest_float(\"lambda_l2\", 0, 10.0),\n",
    "            \"min_sum_hessian\": trial.suggest_int(\"min_sum_hessian\", 1, 50),\n",
    "            \"bagging_fraction\": trial.suggest_float(\"bagging_fraction\", .4, 1.0),\n",
    "            \"sigmoid\": trial.suggest_float(\"sigmoid\", 10e-4, 8),\n",
    "        }\n",
    "    elif refit:\n",
    "        params |= {\"task\": \"refit\"}\n",
    "    else:\n",
    "        params |= {\"task\": \"predict\"}\n",
    "    \n",
    "    return params"
   ],
   "metadata": {
    "collapsed": false,
    "ExecuteTime": {
     "end_time": "2024-05-25T04:36:43.254451300Z",
     "start_time": "2024-05-25T04:36:43.246428700Z"
    }
   },
   "id": "3f979affcdfbac56"
  },
  {
   "cell_type": "code",
   "execution_count": 16,
   "outputs": [],
   "source": [
    "def objective(X, y, get_params):\n",
    "    def run(trial):\n",
    "        training_set = LGBMDataSet(data=X, label=y, free_raw_data=False)\n",
    "        params = get_params(trial)\n",
    "        \n",
    "        callbacks = [ early_stopping(stopping_rounds=200, first_metric_only=True, verbose=True) ]\n",
    "        reg_cv = cv(\n",
    "            params=params,\n",
    "            train_set=training_set,\n",
    "            num_boost_round=1000,  # == num_iterations\n",
    "            nfold=10,\n",
    "            stratified=True,\n",
    "            callbacks=callbacks,\n",
    "            seed=configuration_item.seed,\n",
    "            return_cvbooster=True,\n",
    "        )\n",
    "        trial.set_user_attr(\"num_iterations\", reg_cv.get(\"cvbooster\").best_iteration)\n",
    "        return np.min(\n",
    "            np.add(\n",
    "                reg_cv.get(\"valid multi_logloss-mean\"),\n",
    "                reg_cv.get(\"valid multi_logloss-stdv\")\n",
    "            )\n",
    "        )\n",
    "    return run"
   ],
   "metadata": {
    "collapsed": false,
    "ExecuteTime": {
     "end_time": "2024-05-25T04:36:43.280468800Z",
     "start_time": "2024-05-25T04:36:43.254451300Z"
    }
   },
   "id": "50851917a6c95850"
  },
  {
   "cell_type": "code",
   "execution_count": 17,
   "outputs": [],
   "source": [
    "def lgbm_cv(X, y, n_trials=10, study_name=\"default\", get_param=None):\n",
    "    study = optuna.create_study(\n",
    "        study_name=study_name,\n",
    "        sampler=TPESampler(n_startup_trials=7, multivariate=True),\n",
    "    )\n",
    "    study.optimize(\n",
    "        func=objective(X, y, get_param),\n",
    "        n_trials=10,\n",
    "        show_progress_bar=True,\n",
    "    )\n",
    "    return study"
   ],
   "metadata": {
    "collapsed": false,
    "ExecuteTime": {
     "end_time": "2024-05-25T04:36:43.280468800Z",
     "start_time": "2024-05-25T04:36:43.268193600Z"
    }
   },
   "id": "212d61f720698a1a"
  },
  {
   "cell_type": "code",
   "execution_count": 18,
   "outputs": [],
   "source": [
    "hidden_data_dict.set_format(type=\"numpy\")\n",
    "n_dim = hidden_data_dict[\"training\"][\"last_hidden_state\"].shape[1]\n",
    "col_names = [f\"V{i + 1:03d}\" for i in range(n_dim)]\n",
    "X_training = pd.DataFrame(hidden_data_dict[\"training\"][\"last_hidden_state\"], columns=col_names)\n",
    "y_training = pd.DataFrame(hidden_data_dict[\"training\"][\"score\"], columns=[\"score\"])\n",
    "X_validation = pd.DataFrame(hidden_data_dict[\"validation\"][\"last_hidden_state\"], columns=col_names)\n",
    "y_validation = pd.DataFrame(hidden_data_dict[\"validation\"][\"score\"], columns=[\"score\"])\n",
    "y_training[\"score\"] = y_training.score - 1\n",
    "hidden_data_dict.reset_format()"
   ],
   "metadata": {
    "collapsed": false,
    "ExecuteTime": {
     "end_time": "2024-05-25T04:36:43.308269500Z",
     "start_time": "2024-05-25T04:36:43.280468800Z"
    }
   },
   "id": "35eb7f1b90742bf8"
  },
  {
   "cell_type": "code",
   "execution_count": 19,
   "outputs": [
    {
     "name": "stderr",
     "output_type": "stream",
     "text": [
      "[I 2024-05-25 06:36:43,308] A new study created in memory with name: default\n"
     ]
    },
    {
     "data": {
      "text/plain": "  0%|          | 0/10 [00:00<?, ?it/s]",
      "application/vnd.jupyter.widget-view+json": {
       "version_major": 2,
       "version_minor": 0,
       "model_id": "485c8da9a593425dad8b5bd6f83bfeba"
      }
     },
     "metadata": {},
     "output_type": "display_data"
    },
    {
     "name": "stdout",
     "output_type": "stream",
     "text": [
      "Training until validation scores don't improve for 200 rounds\n",
      "Early stopping, best iteration is:\n",
      "[1]\tcv_agg's valid multi_logloss: 1.48327 + 0.125027\tcv_agg's valid multi_error: 0.635897 + 0.043552\tcv_agg's valid auc_mu: nan + nan\n",
      "Evaluated only: multi_logloss\n",
      "[I 2024-05-25 06:36:45,138] Trial 0 finished with value: 1.6083019669045713 and parameters: {'feature_fraction': 0.6477809940331694, 'sigmoid': 0.9418883145443464, 'num_leaves': 17, 'lambda_l2': 8.685171858288737, 'min_sum_hessian': 41, 'bagging_fraction': 0.6967001641152247}. Best is trial 0 with value: 1.6083019669045713.\n",
      "Training until validation scores don't improve for 200 rounds\n",
      "Early stopping, best iteration is:\n",
      "[1]\tcv_agg's valid multi_logloss: 1.48327 + 0.125027\tcv_agg's valid multi_error: 0.635897 + 0.043552\tcv_agg's valid auc_mu: nan + nan\n",
      "Evaluated only: multi_logloss\n",
      "[I 2024-05-25 06:36:47,519] Trial 1 finished with value: 1.6083019669045713 and parameters: {'feature_fraction': 0.9188091450580556, 'sigmoid': 4.905463398360266, 'num_leaves': 197, 'lambda_l2': 7.829072379295461, 'min_sum_hessian': 23, 'bagging_fraction': 0.6483871868703119}. Best is trial 0 with value: 1.6083019669045713.\n",
      "Training until validation scores don't improve for 200 rounds\n",
      "Early stopping, best iteration is:\n",
      "[1]\tcv_agg's valid multi_logloss: 1.48327 + 0.125027\tcv_agg's valid multi_error: 0.635897 + 0.043552\tcv_agg's valid auc_mu: nan + nan\n",
      "Evaluated only: multi_logloss\n",
      "[I 2024-05-25 06:36:49,444] Trial 2 finished with value: 1.6083019669045713 and parameters: {'feature_fraction': 0.5265767526452224, 'sigmoid': 4.5249795064253915, 'num_leaves': 182, 'lambda_l2': 9.161687768000501, 'min_sum_hessian': 47, 'bagging_fraction': 0.8301922996513538}. Best is trial 0 with value: 1.6083019669045713.\n",
      "Training until validation scores don't improve for 200 rounds\n",
      "Early stopping, best iteration is:\n",
      "[1]\tcv_agg's valid multi_logloss: 1.48327 + 0.125027\tcv_agg's valid multi_error: 0.635897 + 0.043552\tcv_agg's valid auc_mu: nan + nan\n",
      "Evaluated only: multi_logloss\n",
      "[I 2024-05-25 06:36:51,217] Trial 3 finished with value: 1.6083019669045713 and parameters: {'feature_fraction': 0.5830338014991697, 'sigmoid': 1.6707325686702814, 'num_leaves': 88, 'lambda_l2': 2.564430166137146, 'min_sum_hessian': 41, 'bagging_fraction': 0.7778275701280741}. Best is trial 0 with value: 1.6083019669045713.\n",
      "Training until validation scores don't improve for 200 rounds\n",
      "Early stopping, best iteration is:\n",
      "[1]\tcv_agg's valid multi_logloss: 1.48327 + 0.125027\tcv_agg's valid multi_error: 0.635897 + 0.043552\tcv_agg's valid auc_mu: nan + nan\n",
      "Evaluated only: multi_logloss\n",
      "[I 2024-05-25 06:36:53,156] Trial 4 finished with value: 1.6083019669045713 and parameters: {'feature_fraction': 0.8762021615514555, 'sigmoid': 4.252163350372505, 'num_leaves': 34, 'lambda_l2': 8.002363384780175, 'min_sum_hessian': 26, 'bagging_fraction': 0.5572010787004824}. Best is trial 0 with value: 1.6083019669045713.\n",
      "Training until validation scores don't improve for 200 rounds\n",
      "Early stopping, best iteration is:\n",
      "[1]\tcv_agg's valid multi_logloss: 1.48327 + 0.125027\tcv_agg's valid multi_error: 0.635897 + 0.043552\tcv_agg's valid auc_mu: nan + nan\n",
      "Evaluated only: multi_logloss\n",
      "[I 2024-05-25 06:36:55,527] Trial 5 finished with value: 1.6083019669045713 and parameters: {'feature_fraction': 0.907545584378133, 'sigmoid': 3.3181873799354005, 'num_leaves': 69, 'lambda_l2': 3.0070443237936573, 'min_sum_hessian': 29, 'bagging_fraction': 0.9391599587874147}. Best is trial 0 with value: 1.6083019669045713.\n",
      "Training until validation scores don't improve for 200 rounds\n",
      "Early stopping, best iteration is:\n",
      "[1]\tcv_agg's valid multi_logloss: 1.48327 + 0.125027\tcv_agg's valid multi_error: 0.635897 + 0.043552\tcv_agg's valid auc_mu: nan + nan\n",
      "Evaluated only: multi_logloss\n",
      "[I 2024-05-25 06:36:57,780] Trial 6 finished with value: 1.6083019669045713 and parameters: {'feature_fraction': 0.7900183641022622, 'sigmoid': 2.2035600127944694, 'num_leaves': 195, 'lambda_l2': 4.951893882995366, 'min_sum_hessian': 31, 'bagging_fraction': 0.4715833301854054}. Best is trial 0 with value: 1.6083019669045713.\n",
      "Training until validation scores don't improve for 200 rounds\n",
      "Early stopping, best iteration is:\n",
      "[1]\tcv_agg's valid multi_logloss: 1.48327 + 0.125027\tcv_agg's valid multi_error: 0.635897 + 0.043552\tcv_agg's valid auc_mu: nan + nan\n",
      "Evaluated only: multi_logloss\n",
      "[I 2024-05-25 06:36:59,492] Trial 7 finished with value: 1.6083019669045713 and parameters: {'feature_fraction': 0.5390985080020093, 'sigmoid': 0.13528768847490347, 'num_leaves': 93, 'lambda_l2': 8.464989457828135, 'min_sum_hessian': 33, 'bagging_fraction': 0.7975989858048311}. Best is trial 0 with value: 1.6083019669045713.\n",
      "Training until validation scores don't improve for 200 rounds\n",
      "Early stopping, best iteration is:\n",
      "[1]\tcv_agg's valid multi_logloss: 1.48327 + 0.125027\tcv_agg's valid multi_error: 0.635897 + 0.043552\tcv_agg's valid auc_mu: nan + nan\n",
      "Evaluated only: multi_logloss\n",
      "[I 2024-05-25 06:37:01,395] Trial 8 finished with value: 1.6083019669045713 and parameters: {'feature_fraction': 0.7469092848714562, 'sigmoid': 1.2422334859685131, 'num_leaves': 91, 'lambda_l2': 9.926717676478845, 'min_sum_hessian': 45, 'bagging_fraction': 0.5515398512229037}. Best is trial 0 with value: 1.6083019669045713.\n",
      "Training until validation scores don't improve for 200 rounds\n",
      "Early stopping, best iteration is:\n",
      "[1]\tcv_agg's valid multi_logloss: 1.48327 + 0.125027\tcv_agg's valid multi_error: 0.635897 + 0.043552\tcv_agg's valid auc_mu: nan + nan\n",
      "Evaluated only: multi_logloss\n",
      "[I 2024-05-25 06:37:03,211] Trial 9 finished with value: 1.6083019669045713 and parameters: {'feature_fraction': 0.7198547658851017, 'sigmoid': 1.4374720800025576, 'num_leaves': 46, 'lambda_l2': 5.439227405420006, 'min_sum_hessian': 19, 'bagging_fraction': 0.6890004695380785}. Best is trial 0 with value: 1.6083019669045713.\n"
     ]
    }
   ],
   "source": [
    "study = lgbm_cv(X_training, y_training, get_param=wrap_param, n_trials=1)"
   ],
   "metadata": {
    "collapsed": false,
    "ExecuteTime": {
     "end_time": "2024-05-25T04:37:03.228612900Z",
     "start_time": "2024-05-25T04:36:43.298267600Z"
    }
   },
   "id": "8c9a1d342e45f523"
  },
  {
   "cell_type": "code",
   "execution_count": 20,
   "outputs": [],
   "source": [
    "def get_performance_metrics(truth, estimate):\n",
    "    return ({\n",
    "        \"Accuracy\": accuracy_score(truth, estimate),\n",
    "        \"Balanced Accuracy\": balanced_accuracy_score(truth, estimate),\n",
    "        \"Weighted F1\": f1_score(truth, estimate, average=\"weighted\"),\n",
    "        \"Weighted Recall\": recall_score(truth, estimate, average=\"weighted\"),\n",
    "        \"QWK\": cohen_kappa_score(truth, estimate, weights=\"quadratic\"),\n",
    "    })"
   ],
   "metadata": {
    "collapsed": false,
    "ExecuteTime": {
     "end_time": "2024-05-25T05:05:46.821881900Z",
     "start_time": "2024-05-25T05:05:46.799614100Z"
    }
   },
   "id": "bcbc20abe7866f7c"
  },
  {
   "cell_type": "code",
   "execution_count": 21,
   "outputs": [],
   "source": [
    "fixed_params = wrap_param(refit=True)\n",
    "hyperparametrized_params = study.best_trial.params\n",
    "n_iteration = study.best_trial.user_attrs\n",
    "params = fixed_params | hyperparametrized_params | n_iteration\n",
    "\n",
    "model = LGBMClassifier(**params)\n",
    "model.fit(X_training, np.ravel(y_training[\"score\"]))\n",
    "\n",
    "y_validation_pred = model.predict(X_validation)\n"
   ],
   "metadata": {
    "collapsed": false,
    "ExecuteTime": {
     "end_time": "2024-05-25T05:06:28.086022500Z",
     "start_time": "2024-05-25T05:06:26.863968900Z"
    }
   },
   "id": "1ef26e7bd98f6cac"
  },
  {
   "cell_type": "code",
   "execution_count": 25,
   "outputs": [
    {
     "data": {
      "text/plain": "{'Accuracy': 0.2692307692307692,\n 'Balanced Accuracy': 0.2,\n 'Weighted F1': 0.11421911421911422,\n 'Weighted Recall': 0.2692307692307692,\n 'QWK': 0.0}"
     },
     "execution_count": 25,
     "metadata": {},
     "output_type": "execute_result"
    }
   ],
   "source": [
    "performances = get_performance_metrics(truth=y_validation, estimate=y_validation_pred)\n",
    "performances\n",
    "# display(pd.DataFrame.from_dict(performances))"
   ],
   "metadata": {
    "collapsed": false,
    "ExecuteTime": {
     "end_time": "2024-05-25T05:08:00.519105400Z",
     "start_time": "2024-05-25T05:08:00.493310900Z"
    }
   },
   "id": "7a46caed4b7d2030"
  }
 ]
}
