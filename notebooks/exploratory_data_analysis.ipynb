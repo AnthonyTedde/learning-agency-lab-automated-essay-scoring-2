{
 "metadata": {
  "kaggle": {
   "accelerator": "none",
   "dataSources": [
    {
     "sourceId": 71485,
     "databundleVersionId": 8059942,
     "sourceType": "competition"
    },
    {
     "sourceId": 178158422,
     "sourceType": "kernelVersion"
    }
   ],
   "dockerImageVersionId": 30698,
   "isInternetEnabled": true,
   "language": "python",
   "sourceType": "notebook",
   "isGpuEnabled": false
  },
  "kernelspec": {
   "display_name": "Python 3",
   "language": "python",
   "name": "python3"
  },
  "language_info": {
   "name": "python",
   "version": "3.10.13",
   "mimetype": "text/x-python",
   "codemirror_mode": {
    "name": "ipython",
    "version": 3
   },
   "pygments_lexer": "ipython3",
   "nbconvert_exporter": "python",
   "file_extension": ".py"
  }
 },
 "nbformat_minor": 5,
 "nbformat": 4,
 "cells": [
  {
   "cell_type": "markdown",
   "source": [
    "# General context"
   ],
   "metadata": {},
   "id": "5eb35dac70ce59f4"
  },
  {
   "cell_type": "markdown",
   "source": [
    "The [Learning Agency Lab - Automated Essay Scoring 2.0](https://www.kaggle.com/competitions/learning-agency-lab-automated-essay-scoring-2/overview) competition aims to enhance automated essay grading systems to support overburdened teachers, especially in underserved communities. It addresses the limitations of previous efforts by using a larger, more diverse dataset to improve scoring accuracy and fairness. Hosted by Vanderbilt University and The Learning Agency Lab, the competition seeks to develop open-source tools that provide timely feedback to students and integrate more effectively into real-world educational settings. This initiative represents a significant advancement in educational technology, promoting equitable access to reliable automated essay scoring.\n",
    "\n",
    "In this notebook, I conducted some basic exploratory data analysis "
   ],
   "metadata": {},
   "id": "684b468999df229d"
  },
  {
   "cell_type": "markdown",
   "source": [
    "# Inclusion and global variables"
   ],
   "metadata": {},
   "id": "a5524180f6499ad4"
  },
  {
   "cell_type": "code",
   "source": [
    "import logging\n",
    "\n",
    "import matplotlib.pyplot as plt\n",
    "import seaborn as sns\n",
    "from settings.settings import (\n",
    "LOCAL_STR,\n",
    "DEBERTA_V3_CKPT,\n",
    "MATPLOTBLUE,\n",
    "SEED,\n",
    "DEVICE,\n",
    "configuration_builder, \n",
    ")\n",
    "\n",
    "import pandas as pd "
   ],
   "metadata": {
    "execution": {
     "iopub.status.busy": "2024-05-17T09:23:30.566404Z",
     "iopub.execute_input": "2024-05-17T09:23:30.566873Z",
     "iopub.status.idle": "2024-05-17T09:23:38.654356Z",
     "shell.execute_reply.started": "2024-05-17T09:23:30.566837Z",
     "shell.execute_reply": "2024-05-17T09:23:38.652993Z"
    },
    "trusted": true,
    "ExecuteTime": {
     "end_time": "2024-05-17T09:41:59.666260500Z",
     "start_time": "2024-05-17T09:41:55.150694700Z"
    }
   },
   "execution_count": 1,
   "outputs": [],
   "id": "f7c3b1353da59929"
  },
  {
   "cell_type": "markdown",
   "source": [
    "## Set and define global configuration"
   ],
   "metadata": {},
   "id": "12f94d203692361e"
  },
  {
   "cell_type": "markdown",
   "source": [
    "In this section, I set up a configuration builder that utilizes the Python data class `ConfigurationSetting` to enhance the code's flexibility. This approach allows the code to run with specific configurations in dedicated environments. The instance of `ConfigurationSetting` created by the builder is used throughout the code, replacing hardcoded values."
   ],
   "metadata": {},
   "id": "f0129daa33c33f32"
  },
  {
   "cell_type": "code",
   "source": [
    "configuration_item = configuration_builder(\n",
    "    model_ckpt=DEBERTA_V3_CKPT,\n",
    "    plot_color=MATPLOTBLUE,\n",
    "    seed=SEED,\n",
    "    device=DEVICE\n",
    ")"
   ],
   "metadata": {
    "execution": {
     "iopub.status.busy": "2024-05-17T09:25:09.138224Z",
     "iopub.execute_input": "2024-05-17T09:25:09.138899Z",
     "iopub.status.idle": "2024-05-17T09:25:09.145249Z",
     "shell.execute_reply.started": "2024-05-17T09:25:09.138861Z",
     "shell.execute_reply": "2024-05-17T09:25:09.143938Z"
    },
    "trusted": true,
    "ExecuteTime": {
     "end_time": "2024-05-17T09:42:07.660816100Z",
     "start_time": "2024-05-17T09:42:07.648888800Z"
    }
   },
   "execution_count": 2,
   "outputs": [],
   "id": "56d27bcb870ef11b"
  },
  {
   "cell_type": "markdown",
   "source": [
    "# Load the data"
   ],
   "metadata": {},
   "id": "8f232a6ac03097b2"
  },
  {
   "cell_type": "markdown",
   "source": [
    "Data comes from the Kaggle competition [Learning Agency Lab - Automated Essay Scoring 2.0](https://www.kaggle.com/competitions/learning-agency-lab-automated-essay-scoring-2/overview) and can be downloaded from the competition's page."
   ],
   "metadata": {},
   "id": "bce884df793ce4b6"
  },
  {
   "cell_type": "code",
   "source": [
    "if not configuration_item.data_path:\n",
    "    raise ValueError\n",
    "\n",
    "train_ds = pd.read_csv(\n",
    "    filepath_or_buffer=configuration_item.data_path / \"train.csv\"\n",
    ")"
   ],
   "metadata": {
    "collapsed": false,
    "execution": {
     "iopub.status.busy": "2024-05-17T09:25:15.801270Z",
     "iopub.execute_input": "2024-05-17T09:25:15.801696Z",
     "iopub.status.idle": "2024-05-17T09:25:16.666761Z",
     "shell.execute_reply.started": "2024-05-17T09:25:15.801662Z",
     "shell.execute_reply": "2024-05-17T09:25:16.665518Z"
    },
    "trusted": true,
    "ExecuteTime": {
     "end_time": "2024-05-17T09:42:10.575837300Z",
     "start_time": "2024-05-17T09:42:10.126228700Z"
    }
   },
   "execution_count": 3,
   "outputs": [],
   "id": "80191ccebc09c4d7"
  },
  {
   "cell_type": "markdown",
   "source": [
    "# What about the scores ?"
   ],
   "metadata": {},
   "id": "72c0920d18735d86"
  },
  {
   "cell_type": "markdown",
   "source": [
    "The [holistic rating for source-based writing](https://storage.googleapis.com/kaggle-forum-message-attachments/2733927/20538/Rubric_%20Holistic%20Essay%20Scoring.pdf) uses a grading scale from 1 to 6 to assess essays based on mastery level. \n",
    "\n",
    "- **Score of 6**: Demonstrates clear and consistent mastery with minor errors. Shows outstanding critical thinking, effective use of evidence, coherent organization, skillful language use, and minimal grammar errors.\n",
    "- **Score of 5**: Shows reasonably consistent mastery with occasional errors. Exhibits strong critical thinking, appropriate use of evidence, good organization, appropriate language use, and general freedom from major errors.\n",
    "- **Score of 4**: Demonstrates adequate mastery with lapses in quality. Displays competent critical thinking, adequate use of evidence, general organization, and some language variety, but may have some errors.\n",
    "- **Score of 3**: Indicates developing mastery with notable weaknesses. Shows inconsistent critical thinking, inadequate evidence use, limited organization, weak language use, and an accumulation of errors.\n",
    "- **Score of 2**: Shows little mastery with serious weaknesses. Demonstrates weak critical thinking, insufficient evidence, poor organization, limited vocabulary, and frequent grammar errors.\n",
    "- **Score of 1**: Reflects very little or no mastery with severe flaws. Lacks a clear point of view, provides little evidence, is disorganized, has fundamental vocabulary errors, and pervasive grammar issues."
   ],
   "metadata": {},
   "id": "387c2077a5737320"
  },
  {
   "cell_type": "code",
   "source": [
    "score_count = (\n",
    "    train_ds[\"score\"]\n",
    "    .value_counts(normalize=True)\n",
    "    .rename_axis(\"score\")\n",
    "    .reset_index(name=\"proportion\")\n",
    ")\n",
    "score_count[\"proportion\"] = score_count[\"proportion\"] * 100\n",
    "\n",
    "ax = sns.barplot(\n",
    "    x=\"score\",\n",
    "    y=\"proportion\",\n",
    "    data=score_count,\n",
    "    color=MATPLOTBLUE\n",
    ")\n",
    "ax.bar_label(container=ax.containers[0], fontsize=10, fmt=\"%.2f%%\") \n",
    "\n",
    "plt.title(\"Score distribution\")\n",
    "plt.xlabel(\"Score\")\n",
    "plt.ylabel(\"Proportion\")\n",
    "plt.show()\n",
    "\n",
    "del score_count"
   ],
   "metadata": {
    "collapsed": false,
    "execution": {
     "iopub.status.busy": "2024-05-17T09:25:22.090482Z",
     "iopub.execute_input": "2024-05-17T09:25:22.091655Z",
     "iopub.status.idle": "2024-05-17T09:25:22.632831Z",
     "shell.execute_reply.started": "2024-05-17T09:25:22.091616Z",
     "shell.execute_reply": "2024-05-17T09:25:22.631335Z"
    },
    "trusted": true,
    "ExecuteTime": {
     "end_time": "2024-05-17T09:42:13.512813200Z",
     "start_time": "2024-05-17T09:42:13.235685900Z"
    }
   },
   "execution_count": 4,
   "outputs": [
    {
     "data": {
      "text/plain": "<Figure size 640x480 with 1 Axes>",
      "image/png": "[encoded data removed]"
     },
     "metadata": {},
     "output_type": "display_data"
    }
   ],
   "id": "a6edf09d9df528c"
  },
  {
   "cell_type": "markdown",
   "source": [
    "The dataset appears to have a distribution that is weighted towards less extreme scores, with a notable decline in the proportion of the highest values. This uneven distribution requires careful consideration during analytical modeling. Special techniques may be necessary to account for the imbalance and to ensure that the analysis is robust, particularly when predicting or interpreting the less represented extreme values.\n",
    "\n",
    "At first glance, I would expect a model to struggle with distinguishing between grade 5 and grade 6 texts. Both categories exhibit high levels of critical thinking, appropriate use of evidence, good organization, and effective language use. Moreover, the extremely low proportion of essays receiving a score of 6 (0.90%) compared to those receiving a score of 5 (5.60%) indicates that grade 6 texts are rare. This scarcity provides a model with limited examples, making it difficult to learn the subtle differences between these high-performing categories."
   ],
   "metadata": {},
   "id": "5ddc2b765453c0d6"
  },
  {
   "cell_type": "markdown",
   "source": [
    "# What about the text"
   ],
   "metadata": {},
   "id": "301d897000566daa"
  },
  {
   "cell_type": "markdown",
   "source": [
    "Addressing the issue of sequence size in the context of natural language processing models, such as [Sentence-BERT](https://arxiv.org/abs/1908.10084), is critical due to the token limit restrictions imposed by these models. Typically, these models cap the number of tokens that can be processed in a single pass, often set at [512 tokens, or sometimes fewer](https://sbert.net/docs/pretrained_models.html). This constraint poses a significant challenge when attempting to encode longer texts, as it necessitates either the omission of content or the application of sophisticated strategies to manage longer sequences effectively (e.g., [via a text splitter](https://python.langchain.com/v0.1/docs/modules/data_connection/document_transformers/split_by_token/#sentencetransformers)). In scholarly discourse, this topic is particularly relevant as it underscores a limitation within state-of-the-art language models when confronted with lengthy documents. It opens up an area for methodological advancements and innovative techniques aimed at preserving the semantic richness of extensive texts without compromising the quality of the generated embeddings. Focusing on the sequence size involves exploring and refining these techniques, which may include partitioning the text into smaller, manageable units while ensuring minimal loss of contextual information. The implications of such methods are profound, impacting both the efficiency of computational processes and the fidelity of text interpretation, especially in domains where the precision of language is paramount. Let's observe the distribution of the text size."
   ],
   "metadata": {},
   "id": "6a3bfa77db0899fd"
  },
  {
   "cell_type": "code",
   "source": [
    "import warnings\n",
    "warnings.filterwarnings(\"ignore\", \"use_inf_as_na\")\n",
    "full_text_size = train_ds.full_text.map(lambda x: len(x.split()))\n",
    "sns.histplot(full_text_size) # type: ignore\n",
    "plt.xlabel(\"Full Text Size\")\n",
    "plt.ylabel(\"Count\")\n",
    "plt.title(\"Distribution of text size\")\n",
    "plt.show()"
   ],
   "metadata": {
    "collapsed": false,
    "execution": {
     "iopub.status.busy": "2024-05-17T09:33:20.520890Z",
     "iopub.execute_input": "2024-05-17T09:33:20.521288Z",
     "iopub.status.idle": "2024-05-17T09:33:21.563061Z",
     "shell.execute_reply.started": "2024-05-17T09:33:20.521257Z",
     "shell.execute_reply": "2024-05-17T09:33:21.561599Z"
    },
    "trusted": true,
    "ExecuteTime": {
     "end_time": "2024-05-17T09:42:17.444496200Z",
     "start_time": "2024-05-17T09:42:16.790424Z"
    }
   },
   "execution_count": 5,
   "outputs": [
    {
     "data": {
      "text/plain": "<Figure size 640x480 with 1 Axes>",
      "image/png": "[encoded data removed]"
     },
     "metadata": {},
     "output_type": "display_data"
    }
   ],
   "id": "a611c130f2bce8ec"
  },
  {
   "cell_type": "markdown",
   "source": [
    "The graph highlights a right-skewed distribution of text lengths in a dataset, with most texts falling between 200 to 400 units and a few significantly longer outliers. Multiple peaks suggest the presence of several preferred text lengths. Regarding a potential use of Sentence-BERT for modeling, while adept at producing semantically meaningful sentence embeddings, it may face challenges with these longer texts due to token limits causing memory and computational burdens, potential loss of context when texts are truncated, and inefficiencies in encoding lengthy sequences. This underscores the need for strategic text handling to ensure meaningful semantic encoding by Sentence-BERT, particularly for outlier texts that exceed typical length constraints. To circumvent these limitations, a methodology involving the segmentation of longer texts into individual sentences is proposed, thereby allowing Sentence-BERT to operate within its tokenization parameters while preserving the textual integrity. Such segmentation facilitates detailed semantic analysis of each sentence independently, with the subsequent synthesis of these analyses yielding a comprehensive understanding of the text's overarching semantic structure. Enhancing this segmentation approach, the introduction of overlap between consecutive text chunks is advocated. By ensuring that adjacent segments share a subset of sentences, this strategy aims to safeguard the continuity of information, particularly across segment boundaries. This overlapping ensures the retention of crucial context, which is paramount in the construction of a coherent narrative, particularly for extensive documents where interpretative nuances are intrinsically linked to the broader context."
   ],
   "metadata": {},
   "id": "e5837b66488026e2"
  },
  {
   "cell_type": "markdown",
   "source": [
    "# Conclusion"
   ],
   "metadata": {},
   "id": "dd2e0e36a880b71a"
  },
  {
   "cell_type": "markdown",
   "source": [
    "Through exploratory data analysis, this notebook has underscored several key challenges and considerations, such as the class imbalance in essay scores and the handling of text length constraints inherent in natural language processing models like Sentence-BERT. Furthermore, the analysis highlights the rarity and subtle nuances of grade 6 essays compared to grade 5 essays, which pose significant challenges for model training due to limited examples. Additionally, the token limitations of models like Sentence-BERT necessitate innovative strategies, such as text segmentation and overlapping chunks, to maintain the integrity and context of longer texts. These methodological advancements are crucial for ensuring that automated scoring systems can provide reliable and meaningful feedback."
   ],
   "metadata": {},
   "id": "efda73717af14463"
  }
 ]
}
